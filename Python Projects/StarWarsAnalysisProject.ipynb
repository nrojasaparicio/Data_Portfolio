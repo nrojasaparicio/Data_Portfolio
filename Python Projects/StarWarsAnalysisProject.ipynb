{
 "cells": [
  {
   "cell_type": "markdown",
   "metadata": {
    "collapsed": true
   },
   "source": [
    "# Star Wars Survey \n",
    "\n",
    "Using FiveThirtyEight's dataset on *Star Wars* surveys addressing the question: ***Does the rest of America realize that \"The Empire Strikes Back\" is clearly the best of the bunch?***, I will be exploring the dataset in this project to see what other conclusions come about. \n",
    "\n",
    "The data is available on FiveThirtyEight's [GitHub repository](https://github.com/fivethirtyeight/data/tree/master/star-wars-survey) "
   ]
  },
  {
   "cell_type": "markdown",
   "metadata": {},
   "source": [
    "## Initial Setup"
   ]
  },
  {
   "cell_type": "code",
   "execution_count": 1,
   "metadata": {
    "collapsed": false
   },
   "outputs": [
    {
     "name": "stdout",
     "output_type": "stream",
     "text": [
      "   RespondentID Have you seen any of the 6 films in the Star Wars franchise?  \\\n",
      "0           NaN                                           Response             \n",
      "1  3.292880e+09                                                Yes             \n",
      "2  3.292880e+09                                                 No             \n",
      "3  3.292765e+09                                                Yes             \n",
      "4  3.292763e+09                                                Yes             \n",
      "5  3.292731e+09                                                Yes             \n",
      "6  3.292719e+09                                                Yes             \n",
      "7  3.292685e+09                                                Yes             \n",
      "8  3.292664e+09                                                Yes             \n",
      "9  3.292654e+09                                                Yes             \n",
      "\n",
      "  Do you consider yourself to be a fan of the Star Wars film franchise?  \\\n",
      "0                                           Response                      \n",
      "1                                                Yes                      \n",
      "2                                                NaN                      \n",
      "3                                                 No                      \n",
      "4                                                Yes                      \n",
      "5                                                Yes                      \n",
      "6                                                Yes                      \n",
      "7                                                Yes                      \n",
      "8                                                Yes                      \n",
      "9                                                Yes                      \n",
      "\n",
      "  Which of the following Star Wars films have you seen? Please select all that apply.  \\\n",
      "0           Star Wars: Episode I  The Phantom Menace                                    \n",
      "1           Star Wars: Episode I  The Phantom Menace                                    \n",
      "2                                                NaN                                    \n",
      "3           Star Wars: Episode I  The Phantom Menace                                    \n",
      "4           Star Wars: Episode I  The Phantom Menace                                    \n",
      "5           Star Wars: Episode I  The Phantom Menace                                    \n",
      "6           Star Wars: Episode I  The Phantom Menace                                    \n",
      "7           Star Wars: Episode I  The Phantom Menace                                    \n",
      "8           Star Wars: Episode I  The Phantom Menace                                    \n",
      "9           Star Wars: Episode I  The Phantom Menace                                    \n",
      "\n",
      "                                    Unnamed: 4  \\\n",
      "0  Star Wars: Episode II  Attack of the Clones   \n",
      "1  Star Wars: Episode II  Attack of the Clones   \n",
      "2                                          NaN   \n",
      "3  Star Wars: Episode II  Attack of the Clones   \n",
      "4  Star Wars: Episode II  Attack of the Clones   \n",
      "5  Star Wars: Episode II  Attack of the Clones   \n",
      "6  Star Wars: Episode II  Attack of the Clones   \n",
      "7  Star Wars: Episode II  Attack of the Clones   \n",
      "8  Star Wars: Episode II  Attack of the Clones   \n",
      "9  Star Wars: Episode II  Attack of the Clones   \n",
      "\n",
      "                                    Unnamed: 5  \\\n",
      "0  Star Wars: Episode III  Revenge of the Sith   \n",
      "1  Star Wars: Episode III  Revenge of the Sith   \n",
      "2                                          NaN   \n",
      "3  Star Wars: Episode III  Revenge of the Sith   \n",
      "4  Star Wars: Episode III  Revenge of the Sith   \n",
      "5  Star Wars: Episode III  Revenge of the Sith   \n",
      "6  Star Wars: Episode III  Revenge of the Sith   \n",
      "7  Star Wars: Episode III  Revenge of the Sith   \n",
      "8  Star Wars: Episode III  Revenge of the Sith   \n",
      "9  Star Wars: Episode III  Revenge of the Sith   \n",
      "\n",
      "                          Unnamed: 6  \\\n",
      "0  Star Wars: Episode IV  A New Hope   \n",
      "1  Star Wars: Episode IV  A New Hope   \n",
      "2                                NaN   \n",
      "3                                NaN   \n",
      "4  Star Wars: Episode IV  A New Hope   \n",
      "5  Star Wars: Episode IV  A New Hope   \n",
      "6  Star Wars: Episode IV  A New Hope   \n",
      "7  Star Wars: Episode IV  A New Hope   \n",
      "8  Star Wars: Episode IV  A New Hope   \n",
      "9  Star Wars: Episode IV  A New Hope   \n",
      "\n",
      "                                     Unnamed: 7  \\\n",
      "0  Star Wars: Episode V The Empire Strikes Back   \n",
      "1  Star Wars: Episode V The Empire Strikes Back   \n",
      "2                                           NaN   \n",
      "3                                           NaN   \n",
      "4  Star Wars: Episode V The Empire Strikes Back   \n",
      "5  Star Wars: Episode V The Empire Strikes Back   \n",
      "6  Star Wars: Episode V The Empire Strikes Back   \n",
      "7  Star Wars: Episode V The Empire Strikes Back   \n",
      "8  Star Wars: Episode V The Empire Strikes Back   \n",
      "9  Star Wars: Episode V The Empire Strikes Back   \n",
      "\n",
      "                                 Unnamed: 8  \\\n",
      "0  Star Wars: Episode VI Return of the Jedi   \n",
      "1  Star Wars: Episode VI Return of the Jedi   \n",
      "2                                       NaN   \n",
      "3                                       NaN   \n",
      "4  Star Wars: Episode VI Return of the Jedi   \n",
      "5  Star Wars: Episode VI Return of the Jedi   \n",
      "6  Star Wars: Episode VI Return of the Jedi   \n",
      "7  Star Wars: Episode VI Return of the Jedi   \n",
      "8  Star Wars: Episode VI Return of the Jedi   \n",
      "9  Star Wars: Episode VI Return of the Jedi   \n",
      "\n",
      "  Please rank the Star Wars films in order of preference with 1 being your favorite film in the franchise and 6 being your least favorite film.  \\\n",
      "0           Star Wars: Episode I  The Phantom Menace                                                                                              \n",
      "1                                                  3                                                                                              \n",
      "2                                                NaN                                                                                              \n",
      "3                                                  1                                                                                              \n",
      "4                                                  5                                                                                              \n",
      "5                                                  5                                                                                              \n",
      "6                                                  1                                                                                              \n",
      "7                                                  6                                                                                              \n",
      "8                                                  4                                                                                              \n",
      "9                                                  5                                                                                              \n",
      "\n",
      "            ...                    Unnamed: 28  \\\n",
      "0           ...                           Yoda   \n",
      "1           ...                 Very favorably   \n",
      "2           ...                            NaN   \n",
      "3           ...               Unfamiliar (N/A)   \n",
      "4           ...                 Very favorably   \n",
      "5           ...             Somewhat favorably   \n",
      "6           ...                 Very favorably   \n",
      "7           ...                 Very favorably   \n",
      "8           ...                 Very favorably   \n",
      "9           ...             Somewhat favorably   \n",
      "\n",
      "        Which character shot first?  \\\n",
      "0                          Response   \n",
      "1  I don't understand this question   \n",
      "2                               NaN   \n",
      "3  I don't understand this question   \n",
      "4  I don't understand this question   \n",
      "5                            Greedo   \n",
      "6                               Han   \n",
      "7                               Han   \n",
      "8                               Han   \n",
      "9                               Han   \n",
      "\n",
      "  Are you familiar with the Expanded Universe?  \\\n",
      "0                                     Response   \n",
      "1                                          Yes   \n",
      "2                                          NaN   \n",
      "3                                           No   \n",
      "4                                           No   \n",
      "5                                          Yes   \n",
      "6                                          Yes   \n",
      "7                                          Yes   \n",
      "8                                           No   \n",
      "9                                           No   \n",
      "\n",
      "  Do you consider yourself to be a fan of the Expanded Universe?ÂÃ¦  \\\n",
      "0                                           Response                   \n",
      "1                                                 No                   \n",
      "2                                                NaN                   \n",
      "3                                                NaN                   \n",
      "4                                                NaN                   \n",
      "5                                                 No                   \n",
      "6                                                 No                   \n",
      "7                                                 No                   \n",
      "8                                                NaN                   \n",
      "9                                                NaN                   \n",
      "\n",
      "  Do you consider yourself to be a fan of the Star Trek franchise?    Gender  \\\n",
      "0                                           Response                Response   \n",
      "1                                                 No                    Male   \n",
      "2                                                Yes                    Male   \n",
      "3                                                 No                    Male   \n",
      "4                                                Yes                    Male   \n",
      "5                                                 No                    Male   \n",
      "6                                                Yes                    Male   \n",
      "7                                                 No                    Male   \n",
      "8                                                Yes                    Male   \n",
      "9                                                 No                    Male   \n",
      "\n",
      "        Age     Household Income                         Education  \\\n",
      "0  Response             Response                          Response   \n",
      "1     18-29                  NaN                High school degree   \n",
      "2     18-29         $0 - $24,999                   Bachelor degree   \n",
      "3     18-29         $0 - $24,999                High school degree   \n",
      "4     18-29  $100,000 - $149,999  Some college or Associate degree   \n",
      "5     18-29  $100,000 - $149,999  Some college or Associate degree   \n",
      "6     18-29    $25,000 - $49,999                   Bachelor degree   \n",
      "7     18-29                  NaN                High school degree   \n",
      "8     18-29                  NaN                High school degree   \n",
      "9     18-29         $0 - $24,999  Some college or Associate degree   \n",
      "\n",
      "  Location (Census Region)  \n",
      "0                 Response  \n",
      "1           South Atlantic  \n",
      "2       West South Central  \n",
      "3       West North Central  \n",
      "4       West North Central  \n",
      "5       West North Central  \n",
      "6          Middle Atlantic  \n",
      "7       East North Central  \n",
      "8           South Atlantic  \n",
      "9           South Atlantic  \n",
      "\n",
      "[10 rows x 38 columns]\n"
     ]
    }
   ],
   "source": [
    "#read the dataset\n",
    "import pandas as pd\n",
    "import numpy as np\n",
    "import matplotlib.pyplot as plt\n",
    "import seaborn as sns\n",
    "star_wars = pd.read_csv('star_wars.csv', encoding=\"ISO-8859-1\")\n",
    "\n",
    "#explore the initial rows\n",
    "print(star_wars.head(10))"
   ]
  },
  {
   "cell_type": "code",
   "execution_count": 2,
   "metadata": {
    "collapsed": false
   },
   "outputs": [
    {
     "data": {
      "text/plain": [
       "Index(['RespondentID',\n",
       "       'Have you seen any of the 6 films in the Star Wars franchise?',\n",
       "       'Do you consider yourself to be a fan of the Star Wars film franchise?',\n",
       "       'Which of the following Star Wars films have you seen? Please select all that apply.',\n",
       "       'Unnamed: 4', 'Unnamed: 5', 'Unnamed: 6', 'Unnamed: 7', 'Unnamed: 8',\n",
       "       'Please rank the Star Wars films in order of preference with 1 being your favorite film in the franchise and 6 being your least favorite film.',\n",
       "       'Unnamed: 10', 'Unnamed: 11', 'Unnamed: 12', 'Unnamed: 13',\n",
       "       'Unnamed: 14',\n",
       "       'Please state whether you view the following characters favorably, unfavorably, or are unfamiliar with him/her.',\n",
       "       'Unnamed: 16', 'Unnamed: 17', 'Unnamed: 18', 'Unnamed: 19',\n",
       "       'Unnamed: 20', 'Unnamed: 21', 'Unnamed: 22', 'Unnamed: 23',\n",
       "       'Unnamed: 24', 'Unnamed: 25', 'Unnamed: 26', 'Unnamed: 27',\n",
       "       'Unnamed: 28', 'Which character shot first?',\n",
       "       'Are you familiar with the Expanded Universe?',\n",
       "       'Do you consider yourself to be a fan of the Expanded Universe?ÂÃ¦',\n",
       "       'Do you consider yourself to be a fan of the Star Trek franchise?',\n",
       "       'Gender', 'Age', 'Household Income', 'Education',\n",
       "       'Location (Census Region)'],\n",
       "      dtype='object')"
      ]
     },
     "execution_count": 2,
     "metadata": {},
     "output_type": "execute_result"
    }
   ],
   "source": [
    "#explore the column names\n",
    "star_wars.columns"
   ]
  },
  {
   "cell_type": "code",
   "execution_count": 3,
   "metadata": {
    "collapsed": false
   },
   "outputs": [
    {
     "data": {
      "text/html": [
       "<div>\n",
       "<style scoped>\n",
       "    .dataframe tbody tr th:only-of-type {\n",
       "        vertical-align: middle;\n",
       "    }\n",
       "\n",
       "    .dataframe tbody tr th {\n",
       "        vertical-align: top;\n",
       "    }\n",
       "\n",
       "    .dataframe thead th {\n",
       "        text-align: right;\n",
       "    }\n",
       "</style>\n",
       "<table border=\"1\" class=\"dataframe\">\n",
       "  <thead>\n",
       "    <tr style=\"text-align: right;\">\n",
       "      <th></th>\n",
       "      <th>Please rank the Star Wars films in order of preference with 1 being your favorite film in the franchise and 6 being your least favorite film.</th>\n",
       "      <th>Unnamed: 10</th>\n",
       "      <th>Unnamed: 11</th>\n",
       "      <th>Unnamed: 12</th>\n",
       "      <th>Unnamed: 13</th>\n",
       "      <th>Unnamed: 14</th>\n",
       "      <th>Please state whether you view the following characters favorably, unfavorably, or are unfamiliar with him/her.</th>\n",
       "      <th>Unnamed: 16</th>\n",
       "      <th>Unnamed: 17</th>\n",
       "      <th>Unnamed: 18</th>\n",
       "    </tr>\n",
       "  </thead>\n",
       "  <tbody>\n",
       "    <tr>\n",
       "      <th>0</th>\n",
       "      <td>Star Wars: Episode I  The Phantom Menace</td>\n",
       "      <td>Star Wars: Episode II  Attack of the Clones</td>\n",
       "      <td>Star Wars: Episode III  Revenge of the Sith</td>\n",
       "      <td>Star Wars: Episode IV  A New Hope</td>\n",
       "      <td>Star Wars: Episode V The Empire Strikes Back</td>\n",
       "      <td>Star Wars: Episode VI Return of the Jedi</td>\n",
       "      <td>Han Solo</td>\n",
       "      <td>Luke Skywalker</td>\n",
       "      <td>Princess Leia Organa</td>\n",
       "      <td>Anakin Skywalker</td>\n",
       "    </tr>\n",
       "    <tr>\n",
       "      <th>1</th>\n",
       "      <td>3</td>\n",
       "      <td>2</td>\n",
       "      <td>1</td>\n",
       "      <td>4</td>\n",
       "      <td>5</td>\n",
       "      <td>6</td>\n",
       "      <td>Very favorably</td>\n",
       "      <td>Very favorably</td>\n",
       "      <td>Very favorably</td>\n",
       "      <td>Very favorably</td>\n",
       "    </tr>\n",
       "    <tr>\n",
       "      <th>2</th>\n",
       "      <td>NaN</td>\n",
       "      <td>NaN</td>\n",
       "      <td>NaN</td>\n",
       "      <td>NaN</td>\n",
       "      <td>NaN</td>\n",
       "      <td>NaN</td>\n",
       "      <td>NaN</td>\n",
       "      <td>NaN</td>\n",
       "      <td>NaN</td>\n",
       "      <td>NaN</td>\n",
       "    </tr>\n",
       "    <tr>\n",
       "      <th>3</th>\n",
       "      <td>1</td>\n",
       "      <td>2</td>\n",
       "      <td>3</td>\n",
       "      <td>4</td>\n",
       "      <td>5</td>\n",
       "      <td>6</td>\n",
       "      <td>Somewhat favorably</td>\n",
       "      <td>Somewhat favorably</td>\n",
       "      <td>Somewhat favorably</td>\n",
       "      <td>Somewhat favorably</td>\n",
       "    </tr>\n",
       "    <tr>\n",
       "      <th>4</th>\n",
       "      <td>5</td>\n",
       "      <td>6</td>\n",
       "      <td>1</td>\n",
       "      <td>2</td>\n",
       "      <td>4</td>\n",
       "      <td>3</td>\n",
       "      <td>Very favorably</td>\n",
       "      <td>Very favorably</td>\n",
       "      <td>Very favorably</td>\n",
       "      <td>Very favorably</td>\n",
       "    </tr>\n",
       "  </tbody>\n",
       "</table>\n",
       "</div>"
      ],
      "text/plain": [
       "  Please rank the Star Wars films in order of preference with 1 being your favorite film in the franchise and 6 being your least favorite film.  \\\n",
       "0           Star Wars: Episode I  The Phantom Menace                                                                                              \n",
       "1                                                  3                                                                                              \n",
       "2                                                NaN                                                                                              \n",
       "3                                                  1                                                                                              \n",
       "4                                                  5                                                                                              \n",
       "\n",
       "                                   Unnamed: 10  \\\n",
       "0  Star Wars: Episode II  Attack of the Clones   \n",
       "1                                            2   \n",
       "2                                          NaN   \n",
       "3                                            2   \n",
       "4                                            6   \n",
       "\n",
       "                                   Unnamed: 11  \\\n",
       "0  Star Wars: Episode III  Revenge of the Sith   \n",
       "1                                            1   \n",
       "2                                          NaN   \n",
       "3                                            3   \n",
       "4                                            1   \n",
       "\n",
       "                         Unnamed: 12  \\\n",
       "0  Star Wars: Episode IV  A New Hope   \n",
       "1                                  4   \n",
       "2                                NaN   \n",
       "3                                  4   \n",
       "4                                  2   \n",
       "\n",
       "                                    Unnamed: 13  \\\n",
       "0  Star Wars: Episode V The Empire Strikes Back   \n",
       "1                                             5   \n",
       "2                                           NaN   \n",
       "3                                             5   \n",
       "4                                             4   \n",
       "\n",
       "                                Unnamed: 14  \\\n",
       "0  Star Wars: Episode VI Return of the Jedi   \n",
       "1                                         6   \n",
       "2                                       NaN   \n",
       "3                                         6   \n",
       "4                                         3   \n",
       "\n",
       "  Please state whether you view the following characters favorably, unfavorably, or are unfamiliar with him/her.  \\\n",
       "0                                           Han Solo                                                               \n",
       "1                                     Very favorably                                                               \n",
       "2                                                NaN                                                               \n",
       "3                                 Somewhat favorably                                                               \n",
       "4                                     Very favorably                                                               \n",
       "\n",
       "          Unnamed: 16           Unnamed: 17         Unnamed: 18  \n",
       "0      Luke Skywalker  Princess Leia Organa    Anakin Skywalker  \n",
       "1      Very favorably        Very favorably      Very favorably  \n",
       "2                 NaN                   NaN                 NaN  \n",
       "3  Somewhat favorably    Somewhat favorably  Somewhat favorably  \n",
       "4      Very favorably        Very favorably      Very favorably  "
      ]
     },
     "execution_count": 3,
     "metadata": {},
     "output_type": "execute_result"
    }
   ],
   "source": [
    "#Explore what is in the columns that need to be expanded\n",
    "star_wars.iloc[:, 9:19].head()"
   ]
  },
  {
   "cell_type": "code",
   "execution_count": 4,
   "metadata": {
    "collapsed": false
   },
   "outputs": [
    {
     "data": {
      "text/html": [
       "<div>\n",
       "<style scoped>\n",
       "    .dataframe tbody tr th:only-of-type {\n",
       "        vertical-align: middle;\n",
       "    }\n",
       "\n",
       "    .dataframe tbody tr th {\n",
       "        vertical-align: top;\n",
       "    }\n",
       "\n",
       "    .dataframe thead th {\n",
       "        text-align: right;\n",
       "    }\n",
       "</style>\n",
       "<table border=\"1\" class=\"dataframe\">\n",
       "  <thead>\n",
       "    <tr style=\"text-align: right;\">\n",
       "      <th></th>\n",
       "      <th>Unnamed: 19</th>\n",
       "      <th>Unnamed: 20</th>\n",
       "      <th>Unnamed: 21</th>\n",
       "      <th>Unnamed: 22</th>\n",
       "      <th>Unnamed: 23</th>\n",
       "      <th>Unnamed: 24</th>\n",
       "      <th>Unnamed: 25</th>\n",
       "      <th>Unnamed: 26</th>\n",
       "      <th>Unnamed: 27</th>\n",
       "      <th>Unnamed: 28</th>\n",
       "      <th>Which character shot first?</th>\n",
       "      <th>Are you familiar with the Expanded Universe?</th>\n",
       "      <th>Do you consider yourself to be a fan of the Expanded Universe?ÂÃ¦</th>\n",
       "      <th>Do you consider yourself to be a fan of the Star Trek franchise?</th>\n",
       "      <th>Gender</th>\n",
       "      <th>Age</th>\n",
       "      <th>Household Income</th>\n",
       "      <th>Education</th>\n",
       "      <th>Location (Census Region)</th>\n",
       "    </tr>\n",
       "  </thead>\n",
       "  <tbody>\n",
       "    <tr>\n",
       "      <th>0</th>\n",
       "      <td>Obi Wan Kenobi</td>\n",
       "      <td>Emperor Palpatine</td>\n",
       "      <td>Darth Vader</td>\n",
       "      <td>Lando Calrissian</td>\n",
       "      <td>Boba Fett</td>\n",
       "      <td>C-3P0</td>\n",
       "      <td>R2 D2</td>\n",
       "      <td>Jar Jar Binks</td>\n",
       "      <td>Padme Amidala</td>\n",
       "      <td>Yoda</td>\n",
       "      <td>Response</td>\n",
       "      <td>Response</td>\n",
       "      <td>Response</td>\n",
       "      <td>Response</td>\n",
       "      <td>Response</td>\n",
       "      <td>Response</td>\n",
       "      <td>Response</td>\n",
       "      <td>Response</td>\n",
       "      <td>Response</td>\n",
       "    </tr>\n",
       "    <tr>\n",
       "      <th>1</th>\n",
       "      <td>Very favorably</td>\n",
       "      <td>Very favorably</td>\n",
       "      <td>Very favorably</td>\n",
       "      <td>Unfamiliar (N/A)</td>\n",
       "      <td>Unfamiliar (N/A)</td>\n",
       "      <td>Very favorably</td>\n",
       "      <td>Very favorably</td>\n",
       "      <td>Very favorably</td>\n",
       "      <td>Very favorably</td>\n",
       "      <td>Very favorably</td>\n",
       "      <td>I don't understand this question</td>\n",
       "      <td>Yes</td>\n",
       "      <td>No</td>\n",
       "      <td>No</td>\n",
       "      <td>Male</td>\n",
       "      <td>18-29</td>\n",
       "      <td>NaN</td>\n",
       "      <td>High school degree</td>\n",
       "      <td>South Atlantic</td>\n",
       "    </tr>\n",
       "    <tr>\n",
       "      <th>2</th>\n",
       "      <td>NaN</td>\n",
       "      <td>NaN</td>\n",
       "      <td>NaN</td>\n",
       "      <td>NaN</td>\n",
       "      <td>NaN</td>\n",
       "      <td>NaN</td>\n",
       "      <td>NaN</td>\n",
       "      <td>NaN</td>\n",
       "      <td>NaN</td>\n",
       "      <td>NaN</td>\n",
       "      <td>NaN</td>\n",
       "      <td>NaN</td>\n",
       "      <td>NaN</td>\n",
       "      <td>Yes</td>\n",
       "      <td>Male</td>\n",
       "      <td>18-29</td>\n",
       "      <td>$0 - $24,999</td>\n",
       "      <td>Bachelor degree</td>\n",
       "      <td>West South Central</td>\n",
       "    </tr>\n",
       "    <tr>\n",
       "      <th>3</th>\n",
       "      <td>Somewhat favorably</td>\n",
       "      <td>Unfamiliar (N/A)</td>\n",
       "      <td>Unfamiliar (N/A)</td>\n",
       "      <td>Unfamiliar (N/A)</td>\n",
       "      <td>Unfamiliar (N/A)</td>\n",
       "      <td>Unfamiliar (N/A)</td>\n",
       "      <td>Unfamiliar (N/A)</td>\n",
       "      <td>Unfamiliar (N/A)</td>\n",
       "      <td>Unfamiliar (N/A)</td>\n",
       "      <td>Unfamiliar (N/A)</td>\n",
       "      <td>I don't understand this question</td>\n",
       "      <td>No</td>\n",
       "      <td>NaN</td>\n",
       "      <td>No</td>\n",
       "      <td>Male</td>\n",
       "      <td>18-29</td>\n",
       "      <td>$0 - $24,999</td>\n",
       "      <td>High school degree</td>\n",
       "      <td>West North Central</td>\n",
       "    </tr>\n",
       "    <tr>\n",
       "      <th>4</th>\n",
       "      <td>Very favorably</td>\n",
       "      <td>Somewhat favorably</td>\n",
       "      <td>Very favorably</td>\n",
       "      <td>Somewhat favorably</td>\n",
       "      <td>Somewhat unfavorably</td>\n",
       "      <td>Very favorably</td>\n",
       "      <td>Very favorably</td>\n",
       "      <td>Very favorably</td>\n",
       "      <td>Very favorably</td>\n",
       "      <td>Very favorably</td>\n",
       "      <td>I don't understand this question</td>\n",
       "      <td>No</td>\n",
       "      <td>NaN</td>\n",
       "      <td>Yes</td>\n",
       "      <td>Male</td>\n",
       "      <td>18-29</td>\n",
       "      <td>$100,000 - $149,999</td>\n",
       "      <td>Some college or Associate degree</td>\n",
       "      <td>West North Central</td>\n",
       "    </tr>\n",
       "  </tbody>\n",
       "</table>\n",
       "</div>"
      ],
      "text/plain": [
       "          Unnamed: 19         Unnamed: 20       Unnamed: 21  \\\n",
       "0      Obi Wan Kenobi   Emperor Palpatine       Darth Vader   \n",
       "1      Very favorably      Very favorably    Very favorably   \n",
       "2                 NaN                 NaN               NaN   \n",
       "3  Somewhat favorably    Unfamiliar (N/A)  Unfamiliar (N/A)   \n",
       "4      Very favorably  Somewhat favorably    Very favorably   \n",
       "\n",
       "          Unnamed: 22           Unnamed: 23       Unnamed: 24  \\\n",
       "0    Lando Calrissian             Boba Fett             C-3P0   \n",
       "1    Unfamiliar (N/A)      Unfamiliar (N/A)    Very favorably   \n",
       "2                 NaN                   NaN               NaN   \n",
       "3    Unfamiliar (N/A)      Unfamiliar (N/A)  Unfamiliar (N/A)   \n",
       "4  Somewhat favorably  Somewhat unfavorably    Very favorably   \n",
       "\n",
       "        Unnamed: 25       Unnamed: 26       Unnamed: 27       Unnamed: 28  \\\n",
       "0             R2 D2     Jar Jar Binks     Padme Amidala              Yoda   \n",
       "1    Very favorably    Very favorably    Very favorably    Very favorably   \n",
       "2               NaN               NaN               NaN               NaN   \n",
       "3  Unfamiliar (N/A)  Unfamiliar (N/A)  Unfamiliar (N/A)  Unfamiliar (N/A)   \n",
       "4    Very favorably    Very favorably    Very favorably    Very favorably   \n",
       "\n",
       "        Which character shot first?  \\\n",
       "0                          Response   \n",
       "1  I don't understand this question   \n",
       "2                               NaN   \n",
       "3  I don't understand this question   \n",
       "4  I don't understand this question   \n",
       "\n",
       "  Are you familiar with the Expanded Universe?  \\\n",
       "0                                     Response   \n",
       "1                                          Yes   \n",
       "2                                          NaN   \n",
       "3                                           No   \n",
       "4                                           No   \n",
       "\n",
       "  Do you consider yourself to be a fan of the Expanded Universe?ÂÃ¦  \\\n",
       "0                                           Response                   \n",
       "1                                                 No                   \n",
       "2                                                NaN                   \n",
       "3                                                NaN                   \n",
       "4                                                NaN                   \n",
       "\n",
       "  Do you consider yourself to be a fan of the Star Trek franchise?    Gender  \\\n",
       "0                                           Response                Response   \n",
       "1                                                 No                    Male   \n",
       "2                                                Yes                    Male   \n",
       "3                                                 No                    Male   \n",
       "4                                                Yes                    Male   \n",
       "\n",
       "        Age     Household Income                         Education  \\\n",
       "0  Response             Response                          Response   \n",
       "1     18-29                  NaN                High school degree   \n",
       "2     18-29         $0 - $24,999                   Bachelor degree   \n",
       "3     18-29         $0 - $24,999                High school degree   \n",
       "4     18-29  $100,000 - $149,999  Some college or Associate degree   \n",
       "\n",
       "  Location (Census Region)  \n",
       "0                 Response  \n",
       "1           South Atlantic  \n",
       "2       West South Central  \n",
       "3       West North Central  \n",
       "4       West North Central  "
      ]
     },
     "execution_count": 4,
     "metadata": {},
     "output_type": "execute_result"
    }
   ],
   "source": [
    "star_wars.iloc[:, 19:38].head()"
   ]
  },
  {
   "cell_type": "code",
   "execution_count": 5,
   "metadata": {
    "collapsed": false
   },
   "outputs": [],
   "source": [
    "#clean column names \n",
    "star_wars.rename({'Have you seen any of the 6 films in the Star Wars franchise?':'Seen any 6 Star Wars movies?',\n",
    "                           'Do you consider yourself to be a fan of the Star Wars film franchise?':'Fan of Star Wars franchise?',\n",
    "                           'Which of the following Star Wars films have you seen? Please select all that apply.':'The Phantom Menace Seen?',\n",
    "                           'Unnamed: 4': 'Attack of the Clones Seen?',\n",
    "                           'Unnamed: 5': 'Revenge of the Sith Seen?',\n",
    "                           'Unnamed: 6': 'A New Hope Seen?',\n",
    "                           'Unnamed: 7': 'The Empire Strikes Back Seen?',\n",
    "                           'Unnamed: 8': 'Return of the Jedi Seen?',\n",
    "                           'Please rank the Star Wars films in order of preference with 1 being your favorite film in the franchise and 6 being your least favorite film.':'The Phantom Menace Rank',\n",
    "                           'Unnamed: 10': 'Attack of the Clones Rank',\n",
    "                           'Unnamed: 11': 'Revenge of the Sith Rank',\n",
    "                           'Unnamed: 12': 'A New Hope Rank',\n",
    "                           'Unnamed: 13': 'The Empire Strikes Back Rank',\n",
    "                           'Unnamed: 14': 'Return of the Jedi Rank',\n",
    "                           'Please state whether you view the following characters favorably, unfavorably, or are unfamiliar with him/her.': 'Han Solo Rank',\n",
    "                           'Unnamed: 16': 'Luke Skywalker Rank',\n",
    "                           'Unnamed: 17': 'Princess Leia Organa Rank',\n",
    "                           'Unnamed: 18': 'Anakin Skywalker Rank',\n",
    "                           'Unnamed: 19': 'Obi Wan Kenobi Rank',\n",
    "                           'Unnamed: 20': 'Emperor Palpatine Rank',\n",
    "                           'Unnamed: 21': 'Darth Vader Rank',\n",
    "                           'Unnamed: 22': 'Lando Calrissian Rank',\n",
    "                           'Unnamed: 23': 'Boba Fett Rank',\n",
    "                           'Unnamed: 24': 'C-3PO Rank',\n",
    "                           'Unnamed: 25': 'R2 D2 Rank',\n",
    "                           'Unnamed: 26': 'Jar Jar Binks Rank',\n",
    "                           'Unnamed: 27': 'Padme Amidala Rank',\n",
    "                           'Unnamed: 28': 'Yoda Rank',\n",
    "                           'Do you consider yourself to be a fan of the Expanded Universe?ÂÃ¦': 'Familiar with Expanded Universe?'},\n",
    "                           axis=1, inplace=True)"
   ]
  },
  {
   "cell_type": "markdown",
   "metadata": {
    "collapsed": false
   },
   "source": [
    "The first row is a dummy row that shows what response is selected for that column. For example, most of the \"Unnamed: X\" columns those are the choices for a question, and the choices are displayed in the first row. Instead of having the choices be in the first row, I have changed the name of the headers to reflect the choice for the questions the Unnamed columns are tied to. "
   ]
  },
  {
   "cell_type": "code",
   "execution_count": 6,
   "metadata": {
    "collapsed": false
   },
   "outputs": [
    {
     "data": {
      "text/plain": [
       "(1187, 38)"
      ]
     },
     "execution_count": 6,
     "metadata": {},
     "output_type": "execute_result"
    }
   ],
   "source": [
    "#shape of dataset\n",
    "star_wars.shape"
   ]
  },
  {
   "cell_type": "code",
   "execution_count": 7,
   "metadata": {
    "collapsed": false
   },
   "outputs": [
    {
     "data": {
      "text/plain": [
       "(1186, 38)"
      ]
     },
     "execution_count": 7,
     "metadata": {},
     "output_type": "execute_result"
    }
   ],
   "source": [
    "# drop the rows where RespondentID is NaN\n",
    "\n",
    "star_wars = star_wars[pd.notnull(star_wars['RespondentID'])]\n",
    "\n",
    "# pull the shape of the dataset again\n",
    "star_wars.shape"
   ]
  },
  {
   "cell_type": "markdown",
   "metadata": {},
   "source": [
    "There was one row where the 'RespondentID' had a null value. This row was that first dummy row I mentioned before. \n",
    "\n",
    "## Cleaning and Mapping Yes/No Columns\n",
    "\n",
    "The columns \"Seen any 6 Star Wars movies?\" and \"Fan of the Star Wars franchise?\" are both Yes and No questions. Right now, these columns contain string datatype. It would easier to convert the data in these columns into Boolean types. Before I change the values to Booleans, I want to examine the unique values in these columns."
   ]
  },
  {
   "cell_type": "code",
   "execution_count": 8,
   "metadata": {
    "collapsed": false
   },
   "outputs": [
    {
     "data": {
      "text/plain": [
       "Yes    936\n",
       "No     250\n",
       "Name: Seen any 6 Star Wars movies?, dtype: int64"
      ]
     },
     "execution_count": 8,
     "metadata": {},
     "output_type": "execute_result"
    }
   ],
   "source": [
    "star_wars['Seen any 6 Star Wars movies?'].value_counts()"
   ]
  },
  {
   "cell_type": "code",
   "execution_count": 9,
   "metadata": {
    "collapsed": false
   },
   "outputs": [
    {
     "data": {
      "text/plain": [
       "Yes    552\n",
       "No     284\n",
       "Name: Fan of Star Wars franchise?, dtype: int64"
      ]
     },
     "execution_count": 9,
     "metadata": {},
     "output_type": "execute_result"
    }
   ],
   "source": [
    "star_wars['Fan of Star Wars franchise?'].value_counts()"
   ]
  },
  {
   "cell_type": "code",
   "execution_count": 10,
   "metadata": {
    "collapsed": true
   },
   "outputs": [],
   "source": [
    "#create dictionary for mapping\n",
    "\n",
    "yes_no = {'Yes' : True,\n",
    "          'No' : False}\n",
    "\n",
    "#map the booleans to the 'Seen any 6 Star Wars movies?' column\n",
    "\n",
    "star_wars['Seen any 6 Star Wars movies?'] = star_wars['Seen any 6 Star Wars movies?'].map(yes_no)\n",
    "\n",
    "#map the booleans to the 'Fan of Star Wars franchise?' column\n",
    "\n",
    "star_wars['Fan of Star Wars franchise?'] = star_wars['Fan of Star Wars franchise?'].map(yes_no)\n"
   ]
  },
  {
   "cell_type": "code",
   "execution_count": 11,
   "metadata": {
    "collapsed": false
   },
   "outputs": [
    {
     "data": {
      "text/plain": [
       "True     936\n",
       "False    250\n",
       "Name: Seen any 6 Star Wars movies?, dtype: int64"
      ]
     },
     "execution_count": 11,
     "metadata": {},
     "output_type": "execute_result"
    }
   ],
   "source": [
    "#verify the new values in the 'Seen any 6 Star Wars movies?' column\n",
    "star_wars['Seen any 6 Star Wars movies?'].value_counts()"
   ]
  },
  {
   "cell_type": "code",
   "execution_count": 12,
   "metadata": {
    "collapsed": false
   },
   "outputs": [
    {
     "data": {
      "text/plain": [
       "True     552\n",
       "False    284\n",
       "Name: Fan of Star Wars franchise?, dtype: int64"
      ]
     },
     "execution_count": 12,
     "metadata": {},
     "output_type": "execute_result"
    }
   ],
   "source": [
    "#verify the new values in the 'Fan of Star Wars franchise?' column\n",
    "star_wars['Fan of Star Wars franchise?'].value_counts()"
   ]
  },
  {
   "cell_type": "markdown",
   "metadata": {},
   "source": [
    "## Cleaning and Mapping the Checkbox Columns\n",
    "\n",
    "There is a question on this dataset that is actually a checkbox question. \n",
    "- Which of the following Star Wars films have you seen? Please check all that apply.\n",
    "\n",
    "The columns corresponded to a specific movie and asked whether a respondent saw it or not. \n",
    "\n",
    "The original columns for this question were:\n",
    "- Which of the following Star Wars films have you seen? Please select all that apply. I renamed this one *The Phanton Menace Seen?*\n",
    "- Unnamed: 4. I renamed this one *Attack of the Clones Seen?*\n",
    "- Unnamed: 5. I renamed this one *Revenge of the Sith Seen?*\n",
    "- Unnamed: 6. I renamed this one to *A New Hope Seen?*\n",
    "- Unnamed: 7. I renamed this one to *The Empire Strikes Back Seen?*\n",
    "- Unnamed: 8. I renamed this one to *Return of the Jedi Seen?*\n",
    "\n",
    "In these columns, if the name of the movie is present that mean that they have seen it. If there is a null value, I am assuming the respondent did not see the movie. We could convert these columns to boolean values. "
   ]
  },
  {
   "cell_type": "code",
   "execution_count": 13,
   "metadata": {
    "collapsed": false
   },
   "outputs": [
    {
     "data": {
      "text/html": [
       "<div>\n",
       "<style scoped>\n",
       "    .dataframe tbody tr th:only-of-type {\n",
       "        vertical-align: middle;\n",
       "    }\n",
       "\n",
       "    .dataframe tbody tr th {\n",
       "        vertical-align: top;\n",
       "    }\n",
       "\n",
       "    .dataframe thead th {\n",
       "        text-align: right;\n",
       "    }\n",
       "</style>\n",
       "<table border=\"1\" class=\"dataframe\">\n",
       "  <thead>\n",
       "    <tr style=\"text-align: right;\">\n",
       "      <th></th>\n",
       "      <th>RespondentID</th>\n",
       "      <th>Seen any 6 Star Wars movies?</th>\n",
       "      <th>Fan of Star Wars franchise?</th>\n",
       "      <th>The Phantom Menace Seen?</th>\n",
       "      <th>Attack of the Clones Seen?</th>\n",
       "      <th>Revenge of the Sith Seen?</th>\n",
       "      <th>A New Hope Seen?</th>\n",
       "      <th>The Empire Strikes Back Seen?</th>\n",
       "      <th>Return of the Jedi Seen?</th>\n",
       "      <th>The Phantom Menace Rank</th>\n",
       "      <th>...</th>\n",
       "      <th>Yoda Rank</th>\n",
       "      <th>Which character shot first?</th>\n",
       "      <th>Are you familiar with the Expanded Universe?</th>\n",
       "      <th>Familiar with Expanded Universe?</th>\n",
       "      <th>Do you consider yourself to be a fan of the Star Trek franchise?</th>\n",
       "      <th>Gender</th>\n",
       "      <th>Age</th>\n",
       "      <th>Household Income</th>\n",
       "      <th>Education</th>\n",
       "      <th>Location (Census Region)</th>\n",
       "    </tr>\n",
       "  </thead>\n",
       "  <tbody>\n",
       "    <tr>\n",
       "      <th>1</th>\n",
       "      <td>3.292880e+09</td>\n",
       "      <td>True</td>\n",
       "      <td>True</td>\n",
       "      <td>Star Wars: Episode I  The Phantom Menace</td>\n",
       "      <td>Star Wars: Episode II  Attack of the Clones</td>\n",
       "      <td>Star Wars: Episode III  Revenge of the Sith</td>\n",
       "      <td>Star Wars: Episode IV  A New Hope</td>\n",
       "      <td>Star Wars: Episode V The Empire Strikes Back</td>\n",
       "      <td>Star Wars: Episode VI Return of the Jedi</td>\n",
       "      <td>3</td>\n",
       "      <td>...</td>\n",
       "      <td>Very favorably</td>\n",
       "      <td>I don't understand this question</td>\n",
       "      <td>Yes</td>\n",
       "      <td>No</td>\n",
       "      <td>No</td>\n",
       "      <td>Male</td>\n",
       "      <td>18-29</td>\n",
       "      <td>NaN</td>\n",
       "      <td>High school degree</td>\n",
       "      <td>South Atlantic</td>\n",
       "    </tr>\n",
       "  </tbody>\n",
       "</table>\n",
       "<p>1 rows × 38 columns</p>\n",
       "</div>"
      ],
      "text/plain": [
       "   RespondentID  Seen any 6 Star Wars movies? Fan of Star Wars franchise?  \\\n",
       "1  3.292880e+09                          True                        True   \n",
       "\n",
       "                   The Phantom Menace Seen?  \\\n",
       "1  Star Wars: Episode I  The Phantom Menace   \n",
       "\n",
       "                    Attack of the Clones Seen?  \\\n",
       "1  Star Wars: Episode II  Attack of the Clones   \n",
       "\n",
       "                     Revenge of the Sith Seen?  \\\n",
       "1  Star Wars: Episode III  Revenge of the Sith   \n",
       "\n",
       "                    A New Hope Seen?  \\\n",
       "1  Star Wars: Episode IV  A New Hope   \n",
       "\n",
       "                  The Empire Strikes Back Seen?  \\\n",
       "1  Star Wars: Episode V The Empire Strikes Back   \n",
       "\n",
       "                   Return of the Jedi Seen? The Phantom Menace Rank  \\\n",
       "1  Star Wars: Episode VI Return of the Jedi                       3   \n",
       "\n",
       "            ...                  Yoda Rank       Which character shot first?  \\\n",
       "1           ...             Very favorably  I don't understand this question   \n",
       "\n",
       "  Are you familiar with the Expanded Universe?  \\\n",
       "1                                          Yes   \n",
       "\n",
       "  Familiar with Expanded Universe?  \\\n",
       "1                               No   \n",
       "\n",
       "  Do you consider yourself to be a fan of the Star Trek franchise? Gender  \\\n",
       "1                                                 No                 Male   \n",
       "\n",
       "     Age Household Income           Education Location (Census Region)  \n",
       "1  18-29              NaN  High school degree           South Atlantic  \n",
       "\n",
       "[1 rows x 38 columns]"
      ]
     },
     "execution_count": 13,
     "metadata": {},
     "output_type": "execute_result"
    }
   ],
   "source": [
    "#examine 'The Phantom Menace Seen?' column for creating the mapping dictionary\n",
    "star_wars.head(1)\n"
   ]
  },
  {
   "cell_type": "code",
   "execution_count": 14,
   "metadata": {
    "collapsed": false
   },
   "outputs": [
    {
     "data": {
      "text/html": [
       "<div>\n",
       "<style scoped>\n",
       "    .dataframe tbody tr th:only-of-type {\n",
       "        vertical-align: middle;\n",
       "    }\n",
       "\n",
       "    .dataframe tbody tr th {\n",
       "        vertical-align: top;\n",
       "    }\n",
       "\n",
       "    .dataframe thead th {\n",
       "        text-align: right;\n",
       "    }\n",
       "</style>\n",
       "<table border=\"1\" class=\"dataframe\">\n",
       "  <thead>\n",
       "    <tr style=\"text-align: right;\">\n",
       "      <th></th>\n",
       "      <th>The Phantom Menace Seen?</th>\n",
       "      <th>Attack of the Clones Seen?</th>\n",
       "      <th>Revenge of the Sith Seen?</th>\n",
       "      <th>A New Hope Seen?</th>\n",
       "      <th>The Empire Strikes Back Seen?</th>\n",
       "      <th>Return of the Jedi Seen?</th>\n",
       "    </tr>\n",
       "  </thead>\n",
       "  <tbody>\n",
       "    <tr>\n",
       "      <th>1</th>\n",
       "      <td>True</td>\n",
       "      <td>True</td>\n",
       "      <td>True</td>\n",
       "      <td>True</td>\n",
       "      <td>True</td>\n",
       "      <td>True</td>\n",
       "    </tr>\n",
       "    <tr>\n",
       "      <th>2</th>\n",
       "      <td>False</td>\n",
       "      <td>False</td>\n",
       "      <td>False</td>\n",
       "      <td>False</td>\n",
       "      <td>False</td>\n",
       "      <td>False</td>\n",
       "    </tr>\n",
       "    <tr>\n",
       "      <th>3</th>\n",
       "      <td>True</td>\n",
       "      <td>True</td>\n",
       "      <td>True</td>\n",
       "      <td>False</td>\n",
       "      <td>False</td>\n",
       "      <td>False</td>\n",
       "    </tr>\n",
       "    <tr>\n",
       "      <th>4</th>\n",
       "      <td>True</td>\n",
       "      <td>True</td>\n",
       "      <td>True</td>\n",
       "      <td>True</td>\n",
       "      <td>True</td>\n",
       "      <td>True</td>\n",
       "    </tr>\n",
       "    <tr>\n",
       "      <th>5</th>\n",
       "      <td>True</td>\n",
       "      <td>True</td>\n",
       "      <td>True</td>\n",
       "      <td>True</td>\n",
       "      <td>True</td>\n",
       "      <td>True</td>\n",
       "    </tr>\n",
       "  </tbody>\n",
       "</table>\n",
       "</div>"
      ],
      "text/plain": [
       "   The Phantom Menace Seen?  Attack of the Clones Seen?  \\\n",
       "1                      True                        True   \n",
       "2                     False                       False   \n",
       "3                      True                        True   \n",
       "4                      True                        True   \n",
       "5                      True                        True   \n",
       "\n",
       "   Revenge of the Sith Seen?  A New Hope Seen?  The Empire Strikes Back Seen?  \\\n",
       "1                       True              True                           True   \n",
       "2                      False             False                          False   \n",
       "3                       True             False                          False   \n",
       "4                       True              True                           True   \n",
       "5                       True              True                           True   \n",
       "\n",
       "   Return of the Jedi Seen?  \n",
       "1                      True  \n",
       "2                     False  \n",
       "3                     False  \n",
       "4                      True  \n",
       "5                      True  "
      ]
     },
     "execution_count": 14,
     "metadata": {},
     "output_type": "execute_result"
    }
   ],
   "source": [
    "#create mapping dictionary for Star Wars movies seen columns\n",
    "movie_seen_dict = {'Star Wars: Episode I  The Phantom Menace' : True,\n",
    "                   'Star Wars: Episode II  Attack of the Clones' : True,\n",
    "                   'Star Wars: Episode III  Revenge of the Sith' : True,\n",
    "                   'Star Wars: Episode IV  A New Hope' : True,\n",
    "                   'Star Wars: Episode V The Empire Strikes Back' : True,\n",
    "                   'Star Wars: Episode VI Return of the Jedi' : True,\n",
    "                    np.NaN : False}\n",
    "\n",
    "#map to 'The Phantom Menace Seen?' column\n",
    "for col in star_wars.columns[3:9]:\n",
    "    star_wars[col] = star_wars[col].map(movie_seen_dict)\n",
    "    \n",
    "#verify changes\n",
    "star_wars.iloc[:, 3:9].head()"
   ]
  },
  {
   "cell_type": "markdown",
   "metadata": {},
   "source": [
    "## Cleaning the Ranking Columns\n",
    "\n",
    "The movie ranking columns can contain the value 1, 2, 3, 4, 5, 6 or NaN. As a results, let's see if the data is a float type."
   ]
  },
  {
   "cell_type": "code",
   "execution_count": 15,
   "metadata": {
    "collapsed": false
   },
   "outputs": [
    {
     "data": {
      "text/plain": [
       "RespondentID                                                        float64\n",
       "Seen any 6 Star Wars movies?                                           bool\n",
       "Fan of Star Wars franchise?                                          object\n",
       "The Phantom Menace Seen?                                               bool\n",
       "Attack of the Clones Seen?                                             bool\n",
       "Revenge of the Sith Seen?                                              bool\n",
       "A New Hope Seen?                                                       bool\n",
       "The Empire Strikes Back Seen?                                          bool\n",
       "Return of the Jedi Seen?                                               bool\n",
       "The Phantom Menace Rank                                              object\n",
       "Attack of the Clones Rank                                            object\n",
       "Revenge of the Sith Rank                                             object\n",
       "A New Hope Rank                                                      object\n",
       "The Empire Strikes Back Rank                                         object\n",
       "Return of the Jedi Rank                                              object\n",
       "Han Solo Rank                                                        object\n",
       "Luke Skywalker Rank                                                  object\n",
       "Princess Leia Organa Rank                                            object\n",
       "Anakin Skywalker Rank                                                object\n",
       "Obi Wan Kenobi Rank                                                  object\n",
       "Emperor Palpatine Rank                                               object\n",
       "Darth Vader Rank                                                     object\n",
       "Lando Calrissian Rank                                                object\n",
       "Boba Fett Rank                                                       object\n",
       "C-3PO Rank                                                           object\n",
       "R2 D2 Rank                                                           object\n",
       "Jar Jar Binks Rank                                                   object\n",
       "Padme Amidala Rank                                                   object\n",
       "Yoda Rank                                                            object\n",
       "Which character shot first?                                          object\n",
       "Are you familiar with the Expanded Universe?                         object\n",
       "Familiar with Expanded Universe?                                     object\n",
       "Do you consider yourself to be a fan of the Star Trek franchise?     object\n",
       "Gender                                                               object\n",
       "Age                                                                  object\n",
       "Household Income                                                     object\n",
       "Education                                                            object\n",
       "Location (Census Region)                                             object\n",
       "dtype: object"
      ]
     },
     "execution_count": 15,
     "metadata": {},
     "output_type": "execute_result"
    }
   ],
   "source": [
    "#print the datatypes of the columns to see what dtype are the rank columns\n",
    "star_wars.dtypes"
   ]
  },
  {
   "cell_type": "markdown",
   "metadata": {},
   "source": [
    "As we can see, the movie rank columns are 'object' dtype. Let's change it to a float type. "
   ]
  },
  {
   "cell_type": "code",
   "execution_count": 16,
   "metadata": {
    "collapsed": false
   },
   "outputs": [],
   "source": [
    "#change rank columns to float dtype\n",
    "star_wars[star_wars.columns[9:15]] = star_wars[star_wars.columns[9:15]].astype(float)"
   ]
  },
  {
   "cell_type": "code",
   "execution_count": 17,
   "metadata": {
    "collapsed": false
   },
   "outputs": [
    {
     "data": {
      "text/plain": [
       "RespondentID                                                        float64\n",
       "Seen any 6 Star Wars movies?                                           bool\n",
       "Fan of Star Wars franchise?                                          object\n",
       "The Phantom Menace Seen?                                               bool\n",
       "Attack of the Clones Seen?                                             bool\n",
       "Revenge of the Sith Seen?                                              bool\n",
       "A New Hope Seen?                                                       bool\n",
       "The Empire Strikes Back Seen?                                          bool\n",
       "Return of the Jedi Seen?                                               bool\n",
       "The Phantom Menace Rank                                             float64\n",
       "Attack of the Clones Rank                                           float64\n",
       "Revenge of the Sith Rank                                            float64\n",
       "A New Hope Rank                                                     float64\n",
       "The Empire Strikes Back Rank                                        float64\n",
       "Return of the Jedi Rank                                             float64\n",
       "Han Solo Rank                                                        object\n",
       "Luke Skywalker Rank                                                  object\n",
       "Princess Leia Organa Rank                                            object\n",
       "Anakin Skywalker Rank                                                object\n",
       "Obi Wan Kenobi Rank                                                  object\n",
       "Emperor Palpatine Rank                                               object\n",
       "Darth Vader Rank                                                     object\n",
       "Lando Calrissian Rank                                                object\n",
       "Boba Fett Rank                                                       object\n",
       "C-3PO Rank                                                           object\n",
       "R2 D2 Rank                                                           object\n",
       "Jar Jar Binks Rank                                                   object\n",
       "Padme Amidala Rank                                                   object\n",
       "Yoda Rank                                                            object\n",
       "Which character shot first?                                          object\n",
       "Are you familiar with the Expanded Universe?                         object\n",
       "Familiar with Expanded Universe?                                     object\n",
       "Do you consider yourself to be a fan of the Star Trek franchise?     object\n",
       "Gender                                                               object\n",
       "Age                                                                  object\n",
       "Household Income                                                     object\n",
       "Education                                                            object\n",
       "Location (Census Region)                                             object\n",
       "dtype: object"
      ]
     },
     "execution_count": 17,
     "metadata": {},
     "output_type": "execute_result"
    }
   ],
   "source": [
    "#verify the changes\n",
    "star_wars.dtypes"
   ]
  },
  {
   "cell_type": "markdown",
   "metadata": {},
   "source": [
    "## Finding the Highest-Ranked Movie\n",
    "\n",
    "Now that I have cleaned the movie ranking columns, I can find what the respondents considered to be the highest ranked movie. \n",
    "\n",
    "First, let's find the mean of each of the movie rank columns. "
   ]
  },
  {
   "cell_type": "code",
   "execution_count": 18,
   "metadata": {
    "collapsed": false
   },
   "outputs": [
    {
     "name": "stdout",
     "output_type": "stream",
     "text": [
      "The Phantom Menace Rank Average: 3.73\n",
      "Attack of the Clones Rank Average: 4.09\n",
      "Revenge of the Sith Rank Average: 4.34\n",
      "A New Hope Rank Average: 3.27\n",
      "The Empire Strikes Back Rank Average: 2.51\n",
      "Return of the Jedi Rank Average: 3.05\n"
     ]
    }
   ],
   "source": [
    "#create for loop to find the mean of the rank of each of the 6 movies\n",
    "for col in star_wars.columns[9:15]:\n",
    "    movie_ranking_avg = round(star_wars[col].mean(),2)\n",
    "    print('{0:10} {1}'.format(col + ' Average:', movie_ranking_avg))"
   ]
  },
  {
   "cell_type": "markdown",
   "metadata": {},
   "source": [
    "The rank system in this survey is that 1 is the top favorite and 6 is the least favorite. ***Episode V: The Empire Strikes Back*** is the movie that is ranked highest on average with a average rank of 2 out of 6. Without spoiling it, this particular Star Wars movie does contain one of the most referenced lines in cinema history.\n",
    "\n",
    "The movie that was ranked lowest on average was ***Episode III: Revenge of the Sith*** with an average rank of 4 out of 6."
   ]
  },
  {
   "cell_type": "code",
   "execution_count": 19,
   "metadata": {
    "collapsed": false
   },
   "outputs": [
    {
     "data": {
      "image/png": "[encoded data removed]",
      "text/plain": [
       "<matplotlib.figure.Figure at 0x7fcee7f99d68>"
      ]
     },
     "metadata": {},
     "output_type": "display_data"
    }
   ],
   "source": [
    "#visualize the data\n",
    "from numpy import arange\n",
    "%matplotlib inline\n",
    "\n",
    "movies = ['Episode I', 'Episode II', 'Episode III', 'Episode IV', 'Episode V',\n",
    "          'Episode VI']\n",
    "bar_positions = arange(6) + 0.5\n",
    "\n",
    "fig, ax = plt.subplots()\n",
    "ax.bar(bar_positions, star_wars[star_wars.columns[9:15]].sum(), 0.75, color='yellow')\n",
    "ax.set_xticks(bar_positions)\n",
    "ax.set_xticklabels(movies, rotation=30)\n",
    "ax.set_xlabel(\"Star Wars Movie\")\n",
    "ax.set_ylabel(\"Average Rank\")\n",
    "ax.set_title(\"Average Star Wars Movie Rank\")\n",
    "ax.tick_params(bottom='off', right='off', left='off', top='off')\n",
    "ax.spines['top'].set_visible(False)\n",
    "ax.spines['right'].set_visible(False)\n",
    "\n",
    "#hide gridlines\n",
    "ax.grid(False)"
   ]
  },
  {
   "cell_type": "markdown",
   "metadata": {},
   "source": [
    "## Finding the Most Viewed Movie"
   ]
  },
  {
   "cell_type": "code",
   "execution_count": 20,
   "metadata": {
    "collapsed": false
   },
   "outputs": [
    {
     "data": {
      "text/plain": [
       "The Phantom Menace Seen?         673\n",
       "Attack of the Clones Seen?       571\n",
       "Revenge of the Sith Seen?        550\n",
       "A New Hope Seen?                 607\n",
       "The Empire Strikes Back Seen?    758\n",
       "Return of the Jedi Seen?         738\n",
       "dtype: int64"
      ]
     },
     "execution_count": 20,
     "metadata": {},
     "output_type": "execute_result"
    }
   ],
   "source": [
    "#get the sum for the Star Wars Movie seen columns\n",
    "star_wars[star_wars.columns[3:9]].sum()"
   ]
  },
  {
   "cell_type": "markdown",
   "metadata": {},
   "source": [
    "Interestingly enough, the most viewed Star Wars Movie by the respondents was **Episode V: The Empire Strikes Back**, which is also the highest ranked movie by respondents. The least views movie was ***Episode III: Revenge of the Sith***, which was also the lowest ranked movie."
   ]
  },
  {
   "cell_type": "code",
   "execution_count": 21,
   "metadata": {
    "collapsed": false
   },
   "outputs": [
    {
     "data": {
      "image/png": "[encoded data removed]",
      "text/plain": [
       "<matplotlib.figure.Figure at 0x7fcf41006ef0>"
      ]
     },
     "metadata": {},
     "output_type": "display_data"
    }
   ],
   "source": [
    "%matplotlib inline\n",
    "\n",
    "fig, ax = plt.subplots()\n",
    "ax.bar(bar_positions, star_wars[star_wars.columns[3:9]].sum(), 0.75, color='yellow')\n",
    "ax.set_xticks(bar_positions)\n",
    "ax.set_xticklabels(movies, rotation=30)\n",
    "ax.set_xlabel(\"Star Wars Movie\")\n",
    "ax.set_ylabel(\"Average Number of Viewers\")\n",
    "ax.set_title(\"Star Wars Movie Views\")\n",
    "ax.tick_params(bottom='off', right='off', left='off', top='off')\n",
    "ax.spines['top'].set_visible(False)\n",
    "ax.spines['right'].set_visible(False)\n",
    "\n",
    "#hide gridlines\n",
    "ax.grid(False)\n"
   ]
  },
  {
   "cell_type": "markdown",
   "metadata": {},
   "source": [
    "## Exploring the Data by Segments\n",
    "\n",
    "Let's explore the most viewed movie and the highest-ranked movie by gender."
   ]
  },
  {
   "cell_type": "code",
   "execution_count": 22,
   "metadata": {
    "collapsed": false
   },
   "outputs": [
    {
     "data": {
      "text/plain": [
       "Female    549\n",
       "Male      497\n",
       "Name: Gender, dtype: int64"
      ]
     },
     "execution_count": 22,
     "metadata": {},
     "output_type": "execute_result"
    }
   ],
   "source": [
    "#breakdown the gender column\n",
    "star_wars[\"Gender\"].value_counts()"
   ]
  },
  {
   "cell_type": "code",
   "execution_count": 23,
   "metadata": {
    "collapsed": false
   },
   "outputs": [
    {
     "data": {
      "text/plain": [
       "The Phantom Menace Rank         4.038\n",
       "Attack of the Clones Rank       4.225\n",
       "Revenge of the Sith Rank        4.275\n",
       "A New Hope Rank                 2.998\n",
       "The Empire Strikes Back Rank    2.459\n",
       "Return of the Jedi Rank         3.002\n",
       "dtype: float64"
      ]
     },
     "execution_count": 23,
     "metadata": {},
     "output_type": "execute_result"
    }
   ],
   "source": [
    "#split data into two groups based on gender\n",
    "males = star_wars[star_wars[\"Gender\"] == \"Male\"]\n",
    "females = star_wars[star_wars[\"Gender\"] == \"Female\"]\n",
    "\n",
    "#average Star Wars movie ranks by male respondents\n",
    "round(males[males.columns[9:15]].mean(),3)"
   ]
  },
  {
   "cell_type": "code",
   "execution_count": 24,
   "metadata": {
    "collapsed": false
   },
   "outputs": [
    {
     "data": {
      "text/plain": [
       "The Phantom Menace Rank         3.429\n",
       "Attack of the Clones Rank       3.955\n",
       "Revenge of the Sith Rank        4.418\n",
       "A New Hope Rank                 3.544\n",
       "The Empire Strikes Back Rank    2.569\n",
       "Return of the Jedi Rank         3.078\n",
       "dtype: float64"
      ]
     },
     "execution_count": 24,
     "metadata": {},
     "output_type": "execute_result"
    }
   ],
   "source": [
    "#average Star Wars movie ranks by female respondents\n",
    "round(females[females.columns[9:15]].mean(),3)"
   ]
  },
  {
   "cell_type": "code",
   "execution_count": 25,
   "metadata": {
    "collapsed": false
   },
   "outputs": [
    {
     "data": {
      "image/png": "[encoded data removed]",
      "text/plain": [
       "<matplotlib.figure.Figure at 0x7fcee5a69048>"
      ]
     },
     "metadata": {},
     "output_type": "display_data"
    }
   ],
   "source": [
    "male_ranks = males[males.columns[9:15]].mean()\n",
    "female_ranks = females[females.columns[9:15]].mean()\n",
    "\n",
    "x = np.arange(len(movies))\n",
    "width = 0.35\n",
    "\n",
    "fig, ax = plt.subplots()\n",
    "rects1 = ax.bar(x - width/2, male_ranks, width, label='Male',color='yellow')\n",
    "rects2 = ax.bar(x + width/2, female_ranks, width, label='Women',color='black')\n",
    "ax.set_ylabel('Average Rank')\n",
    "ax.set_title('Average Rank by Gender')\n",
    "ax.set_xticks(x)\n",
    "ax.set_xticklabels(movies, rotation=30)\n",
    "ax.legend()\n",
    "\n",
    "#hide gridlines\n",
    "ax.grid(False)"
   ]
  },
  {
   "cell_type": "markdown",
   "metadata": {},
   "source": [
    "The female respondents ranked the first two prequel movies *(Episode I and II)* higher than the male respondents. Female respondents also ranked *Episode IV: A New Hope* lower than the male respondents. "
   ]
  },
  {
   "cell_type": "code",
   "execution_count": 26,
   "metadata": {
    "collapsed": false
   },
   "outputs": [],
   "source": [
    "#movie views by male respondents\n",
    "male_views = males[males.columns[3:9]].sum()\n",
    "\n",
    "#movie views by female respondents\n",
    "female_views = females[females.columns[3:9]].sum()"
   ]
  },
  {
   "cell_type": "code",
   "execution_count": 27,
   "metadata": {
    "collapsed": false
   },
   "outputs": [
    {
     "data": {
      "image/png": "[encoded data removed]",
      "text/plain": [
       "<matplotlib.figure.Figure at 0x7fcee7ad6828>"
      ]
     },
     "metadata": {},
     "output_type": "display_data"
    }
   ],
   "source": [
    "#visualize comparison of viewership between genders\n",
    "%matplotlib inline\n",
    "\n",
    "x = np.arange(len(movies))\n",
    "width = 0.35\n",
    "\n",
    "fig, ax = plt.subplots()\n",
    "rects1 = ax.bar(x - width/2, male_ranks, width, label='Male',color='yellow')\n",
    "rects2 = ax.bar(x + width/2, female_ranks, width, label='Women',color='black')\n",
    "ax.set_ylabel('Number of Views')\n",
    "ax.set_title('Star Wars Movie Viewership by Gender')\n",
    "ax.set_xticks(x)\n",
    "ax.set_xticklabels(movies, rotation=30)\n",
    "ax.legend()\n",
    "\n",
    "#hide gridlines\n",
    "ax.grid(False)"
   ]
  },
  {
   "cell_type": "markdown",
   "metadata": {},
   "source": [
    "At a glance, less female respondents viewed the Star Wars movies. for example, ***Episode III - Revenge of the Sith*** was viewed by 222 out of the 549 female respondents. The same movie was watched by 317 out of the 497 male respondents. However, both genders had similar patterns in viewership. ***Episode I - The Phantom Menace*** was the most viewed prequel by both groups. Also ***Episode V - The Empire Strikes Back*** and ***Episode VI - Return of the Jedi*** had the most views in both groups of respondents. "
   ]
  }
 ],
 "metadata": {
  "kernelspec": {
   "display_name": "Python 3",
   "language": "python",
   "name": "python3"
  },
  "language_info": {
   "codemirror_mode": {
    "name": "ipython",
    "version": 3
   },
   "file_extension": ".py",
   "mimetype": "text/x-python",
   "name": "python",
   "nbconvert_exporter": "python",
   "pygments_lexer": "ipython3",
   "version": "3.4.3"
  }
 },
 "nbformat": 4,
 "nbformat_minor": 0
}
