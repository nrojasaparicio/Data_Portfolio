{
  "cells": [
    {
      "cell_type": "markdown",
      "metadata": {
        "id": "view-in-github",
        "colab_type": "text"
      },
      "source": [
        "<a href=\"https://colab.research.google.com/github/nrojasaparicio/Data_Portfolio/blob/main/Motor_Vehicle_Accidents_DS_Project.ipynb\" target=\"_parent\"><img src=\"https://colab.research.google.com/assets/colab-badge.svg\" alt=\"Open In Colab\"/></a>"
      ]
    },
    {
      "cell_type": "markdown",
      "metadata": {
        "id": "0IU-2Yb2F9Mo"
      },
      "source": [
        "# Motor Vehicle Accident Exploratory Data Analysis & Machine Learning Modeling \n",
        "\n",
        "The following notebook uses the 'NYC Motor Vehicle Accidents' dataset from NYCOpenData, which covers motor vehicle accidents in NYC from 2019 to the end of 2021 to create a machine learning project to predict the number of people injured and/or killed in motor vehicle accidents using the different features of the dataset. \n",
        "    \n",
        "We begin our preliminary cleanse by excluding NaN values within LATITUDE, LONGITUDE, and ZIP CODE, as well as, the removal of columns not neccesary for our analysis. This is followed by a further exploratory analysis of various factors. We take a deeper look at the accidents over time, injuries, and create regression models for prediction.\n",
        "\n",
        "\n",
        "## Process Outline \n",
        "\n",
        "- Importing Libaries and Data Cleaning\n",
        "- Exploratory Data Analysis\n",
        "- Modeling\n"
      ]
    },
    {
      "cell_type": "markdown",
      "metadata": {
        "id": "bzPfc4aXF9Mv"
      },
      "source": [
        "## I. Import Libraries and Clean Data"
      ]
    },
    {
      "cell_type": "code",
      "execution_count": 1,
      "metadata": {
        "id": "viOgFah9lTXq"
      },
      "outputs": [],
      "source": [
        "#Import libaries and read dataset\n",
        "\n",
        "import pandas as pd\n",
        "import datetime\n",
        "import matplotlib.pyplot as plt\n",
        "import seaborn as sns\n",
        "import numpy as np\n",
        "import base64\n",
        "import plotly.express as px\n",
        "from scipy import stats\n",
        "import statsmodels.formula.api as smf"
      ]
    },
    {
      "cell_type": "code",
      "source": [
        "from google.colab import drive\n",
        "drive.mount('/content/drive')"
      ],
      "metadata": {
        "colab": {
          "base_uri": "https://localhost:8080/"
        },
        "id": "MnygWUtJmprx",
        "outputId": "c00be6b0-0b8c-448d-cce4-07f5d4080c92"
      },
      "execution_count": 2,
      "outputs": [
        {
          "output_type": "stream",
          "name": "stdout",
          "text": [
            "Drive already mounted at /content/drive; to attempt to forcibly remount, call drive.mount(\"/content/drive\", force_remount=True).\n"
          ]
        }
      ]
    },
    {
      "cell_type": "code",
      "execution_count": 3,
      "metadata": {
        "id": "7HK6BvbWqzcz",
        "colab": {
          "base_uri": "https://localhost:8080/",
          "height": 491
        },
        "outputId": "22c17622-2a1a-4dd8-85c1-575d3346b7d7"
      },
      "outputs": [
        {
          "output_type": "execute_result",
          "data": {
            "text/plain": [
              "  CRASH DATE CRASH TIME   BOROUGH  ZIP CODE   LATITUDE  LONGITUDE  \\\n",
              "0    10/6/20       3:52    QUEENS     11420  40.665490 -73.819534   \n",
              "1    7/11/20      20:18  BROOKLYN     11234  40.589930 -73.900590   \n",
              "2     1/1/21       4:40    QUEENS     11691  40.601368 -73.760056   \n",
              "3    7/24/21      20:38    QUEENS     11434  40.656160 -73.767360   \n",
              "4   11/20/20      11:45    QUEENS     11413  40.651405 -73.758896   \n",
              "\n",
              "                  LOCATION                    ON STREET NAME  \\\n",
              "0   (40.66549, -73.819534)  NORTH CONDUIT AVENUE               \n",
              "1    (40.58993, -73.90059)                               NaN   \n",
              "2  (40.601368, -73.760056)  ROCKAWAY FREEWAY                   \n",
              "3    (40.65616, -73.76736)                ROCKAWAY BOULEVARD   \n",
              "4  (40.651405, -73.758896)                               NaN   \n",
              "\n",
              "       CROSS STREET NAME                           OFF STREET NAME  ...  \\\n",
              "0             122 STREET                                       NaN  ...   \n",
              "1                    NaN  3159      FLATBUSH AVENUE                 ...   \n",
              "2  OCEAN CREST BOULEVARD                                       NaN  ...   \n",
              "3       BREWER BOULEVARD                                       NaN  ...   \n",
              "4                    NaN  230-19    ROCKAWAY BOULEVARD              ...   \n",
              "\n",
              "   CONTRIBUTING FACTOR VEHICLE 2  CONTRIBUTING FACTOR VEHICLE 3  \\\n",
              "0                            NaN                            NaN   \n",
              "1            Driver Inexperience                            NaN   \n",
              "2                    Unspecified                            NaN   \n",
              "3  Failure to Yield Right-of-Way                            NaN   \n",
              "4                            NaN                            NaN   \n",
              "\n",
              "   CONTRIBUTING FACTOR VEHICLE 4  CONTRIBUTING FACTOR VEHICLE 5  COLLISION_ID  \\\n",
              "0                            NaN                            NaN       4355333   \n",
              "1                            NaN                            NaN       4327676   \n",
              "2                            NaN                            NaN       4380776   \n",
              "3                            NaN                            NaN       4442158   \n",
              "4                            NaN                            NaN       4369300   \n",
              "\n",
              "   VEHICLE TYPE CODE 1                  VEHICLE TYPE CODE 2  \\\n",
              "0                Sedan                                  NaN   \n",
              "1                Sedan                                Sedan   \n",
              "2        Pick-up Truck  Station Wagon/Sport Utility Vehicle   \n",
              "3                Sedan                                Sedan   \n",
              "4                Sedan                                  NaN   \n",
              "\n",
              "   VEHICLE TYPE CODE 3 VEHICLE TYPE CODE 4 VEHICLE TYPE CODE 5  \n",
              "0                  NaN                 NaN                 NaN  \n",
              "1                  NaN                 NaN                 NaN  \n",
              "2                  NaN                 NaN                 NaN  \n",
              "3                  NaN                 NaN                 NaN  \n",
              "4                  NaN                 NaN                 NaN  \n",
              "\n",
              "[5 rows x 29 columns]"
            ],
            "text/html": [
              "\n",
              "  <div id=\"df-792672e2-2f1f-4bb8-9de3-87ce899864bf\">\n",
              "    <div class=\"colab-df-container\">\n",
              "      <div>\n",
              "<style scoped>\n",
              "    .dataframe tbody tr th:only-of-type {\n",
              "        vertical-align: middle;\n",
              "    }\n",
              "\n",
              "    .dataframe tbody tr th {\n",
              "        vertical-align: top;\n",
              "    }\n",
              "\n",
              "    .dataframe thead th {\n",
              "        text-align: right;\n",
              "    }\n",
              "</style>\n",
              "<table border=\"1\" class=\"dataframe\">\n",
              "  <thead>\n",
              "    <tr style=\"text-align: right;\">\n",
              "      <th></th>\n",
              "      <th>CRASH DATE</th>\n",
              "      <th>CRASH TIME</th>\n",
              "      <th>BOROUGH</th>\n",
              "      <th>ZIP CODE</th>\n",
              "      <th>LATITUDE</th>\n",
              "      <th>LONGITUDE</th>\n",
              "      <th>LOCATION</th>\n",
              "      <th>ON STREET NAME</th>\n",
              "      <th>CROSS STREET NAME</th>\n",
              "      <th>OFF STREET NAME</th>\n",
              "      <th>...</th>\n",
              "      <th>CONTRIBUTING FACTOR VEHICLE 2</th>\n",
              "      <th>CONTRIBUTING FACTOR VEHICLE 3</th>\n",
              "      <th>CONTRIBUTING FACTOR VEHICLE 4</th>\n",
              "      <th>CONTRIBUTING FACTOR VEHICLE 5</th>\n",
              "      <th>COLLISION_ID</th>\n",
              "      <th>VEHICLE TYPE CODE 1</th>\n",
              "      <th>VEHICLE TYPE CODE 2</th>\n",
              "      <th>VEHICLE TYPE CODE 3</th>\n",
              "      <th>VEHICLE TYPE CODE 4</th>\n",
              "      <th>VEHICLE TYPE CODE 5</th>\n",
              "    </tr>\n",
              "  </thead>\n",
              "  <tbody>\n",
              "    <tr>\n",
              "      <th>0</th>\n",
              "      <td>10/6/20</td>\n",
              "      <td>3:52</td>\n",
              "      <td>QUEENS</td>\n",
              "      <td>11420</td>\n",
              "      <td>40.665490</td>\n",
              "      <td>-73.819534</td>\n",
              "      <td>(40.66549, -73.819534)</td>\n",
              "      <td>NORTH CONDUIT AVENUE</td>\n",
              "      <td>122 STREET</td>\n",
              "      <td>NaN</td>\n",
              "      <td>...</td>\n",
              "      <td>NaN</td>\n",
              "      <td>NaN</td>\n",
              "      <td>NaN</td>\n",
              "      <td>NaN</td>\n",
              "      <td>4355333</td>\n",
              "      <td>Sedan</td>\n",
              "      <td>NaN</td>\n",
              "      <td>NaN</td>\n",
              "      <td>NaN</td>\n",
              "      <td>NaN</td>\n",
              "    </tr>\n",
              "    <tr>\n",
              "      <th>1</th>\n",
              "      <td>7/11/20</td>\n",
              "      <td>20:18</td>\n",
              "      <td>BROOKLYN</td>\n",
              "      <td>11234</td>\n",
              "      <td>40.589930</td>\n",
              "      <td>-73.900590</td>\n",
              "      <td>(40.58993, -73.90059)</td>\n",
              "      <td>NaN</td>\n",
              "      <td>NaN</td>\n",
              "      <td>3159      FLATBUSH AVENUE</td>\n",
              "      <td>...</td>\n",
              "      <td>Driver Inexperience</td>\n",
              "      <td>NaN</td>\n",
              "      <td>NaN</td>\n",
              "      <td>NaN</td>\n",
              "      <td>4327676</td>\n",
              "      <td>Sedan</td>\n",
              "      <td>Sedan</td>\n",
              "      <td>NaN</td>\n",
              "      <td>NaN</td>\n",
              "      <td>NaN</td>\n",
              "    </tr>\n",
              "    <tr>\n",
              "      <th>2</th>\n",
              "      <td>1/1/21</td>\n",
              "      <td>4:40</td>\n",
              "      <td>QUEENS</td>\n",
              "      <td>11691</td>\n",
              "      <td>40.601368</td>\n",
              "      <td>-73.760056</td>\n",
              "      <td>(40.601368, -73.760056)</td>\n",
              "      <td>ROCKAWAY FREEWAY</td>\n",
              "      <td>OCEAN CREST BOULEVARD</td>\n",
              "      <td>NaN</td>\n",
              "      <td>...</td>\n",
              "      <td>Unspecified</td>\n",
              "      <td>NaN</td>\n",
              "      <td>NaN</td>\n",
              "      <td>NaN</td>\n",
              "      <td>4380776</td>\n",
              "      <td>Pick-up Truck</td>\n",
              "      <td>Station Wagon/Sport Utility Vehicle</td>\n",
              "      <td>NaN</td>\n",
              "      <td>NaN</td>\n",
              "      <td>NaN</td>\n",
              "    </tr>\n",
              "    <tr>\n",
              "      <th>3</th>\n",
              "      <td>7/24/21</td>\n",
              "      <td>20:38</td>\n",
              "      <td>QUEENS</td>\n",
              "      <td>11434</td>\n",
              "      <td>40.656160</td>\n",
              "      <td>-73.767360</td>\n",
              "      <td>(40.65616, -73.76736)</td>\n",
              "      <td>ROCKAWAY BOULEVARD</td>\n",
              "      <td>BREWER BOULEVARD</td>\n",
              "      <td>NaN</td>\n",
              "      <td>...</td>\n",
              "      <td>Failure to Yield Right-of-Way</td>\n",
              "      <td>NaN</td>\n",
              "      <td>NaN</td>\n",
              "      <td>NaN</td>\n",
              "      <td>4442158</td>\n",
              "      <td>Sedan</td>\n",
              "      <td>Sedan</td>\n",
              "      <td>NaN</td>\n",
              "      <td>NaN</td>\n",
              "      <td>NaN</td>\n",
              "    </tr>\n",
              "    <tr>\n",
              "      <th>4</th>\n",
              "      <td>11/20/20</td>\n",
              "      <td>11:45</td>\n",
              "      <td>QUEENS</td>\n",
              "      <td>11413</td>\n",
              "      <td>40.651405</td>\n",
              "      <td>-73.758896</td>\n",
              "      <td>(40.651405, -73.758896)</td>\n",
              "      <td>NaN</td>\n",
              "      <td>NaN</td>\n",
              "      <td>230-19    ROCKAWAY BOULEVARD</td>\n",
              "      <td>...</td>\n",
              "      <td>NaN</td>\n",
              "      <td>NaN</td>\n",
              "      <td>NaN</td>\n",
              "      <td>NaN</td>\n",
              "      <td>4369300</td>\n",
              "      <td>Sedan</td>\n",
              "      <td>NaN</td>\n",
              "      <td>NaN</td>\n",
              "      <td>NaN</td>\n",
              "      <td>NaN</td>\n",
              "    </tr>\n",
              "  </tbody>\n",
              "</table>\n",
              "<p>5 rows × 29 columns</p>\n",
              "</div>\n",
              "      <button class=\"colab-df-convert\" onclick=\"convertToInteractive('df-792672e2-2f1f-4bb8-9de3-87ce899864bf')\"\n",
              "              title=\"Convert this dataframe to an interactive table.\"\n",
              "              style=\"display:none;\">\n",
              "        \n",
              "  <svg xmlns=\"http://www.w3.org/2000/svg\" height=\"24px\"viewBox=\"0 0 24 24\"\n",
              "       width=\"24px\">\n",
              "    <path d=\"M0 0h24v24H0V0z\" fill=\"none\"/>\n",
              "    <path d=\"M18.56 5.44l.94 2.06.94-2.06 2.06-.94-2.06-.94-.94-2.06-.94 2.06-2.06.94zm-11 1L8.5 8.5l.94-2.06 2.06-.94-2.06-.94L8.5 2.5l-.94 2.06-2.06.94zm10 10l.94 2.06.94-2.06 2.06-.94-2.06-.94-.94-2.06-.94 2.06-2.06.94z\"/><path d=\"M17.41 7.96l-1.37-1.37c-.4-.4-.92-.59-1.43-.59-.52 0-1.04.2-1.43.59L10.3 9.45l-7.72 7.72c-.78.78-.78 2.05 0 2.83L4 21.41c.39.39.9.59 1.41.59.51 0 1.02-.2 1.41-.59l7.78-7.78 2.81-2.81c.8-.78.8-2.07 0-2.86zM5.41 20L4 18.59l7.72-7.72 1.47 1.35L5.41 20z\"/>\n",
              "  </svg>\n",
              "      </button>\n",
              "      \n",
              "  <style>\n",
              "    .colab-df-container {\n",
              "      display:flex;\n",
              "      flex-wrap:wrap;\n",
              "      gap: 12px;\n",
              "    }\n",
              "\n",
              "    .colab-df-convert {\n",
              "      background-color: #E8F0FE;\n",
              "      border: none;\n",
              "      border-radius: 50%;\n",
              "      cursor: pointer;\n",
              "      display: none;\n",
              "      fill: #1967D2;\n",
              "      height: 32px;\n",
              "      padding: 0 0 0 0;\n",
              "      width: 32px;\n",
              "    }\n",
              "\n",
              "    .colab-df-convert:hover {\n",
              "      background-color: #E2EBFA;\n",
              "      box-shadow: 0px 1px 2px rgba(60, 64, 67, 0.3), 0px 1px 3px 1px rgba(60, 64, 67, 0.15);\n",
              "      fill: #174EA6;\n",
              "    }\n",
              "\n",
              "    [theme=dark] .colab-df-convert {\n",
              "      background-color: #3B4455;\n",
              "      fill: #D2E3FC;\n",
              "    }\n",
              "\n",
              "    [theme=dark] .colab-df-convert:hover {\n",
              "      background-color: #434B5C;\n",
              "      box-shadow: 0px 1px 3px 1px rgba(0, 0, 0, 0.15);\n",
              "      filter: drop-shadow(0px 1px 2px rgba(0, 0, 0, 0.3));\n",
              "      fill: #FFFFFF;\n",
              "    }\n",
              "  </style>\n",
              "\n",
              "      <script>\n",
              "        const buttonEl =\n",
              "          document.querySelector('#df-792672e2-2f1f-4bb8-9de3-87ce899864bf button.colab-df-convert');\n",
              "        buttonEl.style.display =\n",
              "          google.colab.kernel.accessAllowed ? 'block' : 'none';\n",
              "\n",
              "        async function convertToInteractive(key) {\n",
              "          const element = document.querySelector('#df-792672e2-2f1f-4bb8-9de3-87ce899864bf');\n",
              "          const dataTable =\n",
              "            await google.colab.kernel.invokeFunction('convertToInteractive',\n",
              "                                                     [key], {});\n",
              "          if (!dataTable) return;\n",
              "\n",
              "          const docLinkHtml = 'Like what you see? Visit the ' +\n",
              "            '<a target=\"_blank\" href=https://colab.research.google.com/notebooks/data_table.ipynb>data table notebook</a>'\n",
              "            + ' to learn more about interactive tables.';\n",
              "          element.innerHTML = '';\n",
              "          dataTable['output_type'] = 'display_data';\n",
              "          await google.colab.output.renderOutput(dataTable, element);\n",
              "          const docLink = document.createElement('div');\n",
              "          docLink.innerHTML = docLinkHtml;\n",
              "          element.appendChild(docLink);\n",
              "        }\n",
              "      </script>\n",
              "    </div>\n",
              "  </div>\n",
              "  "
            ]
          },
          "metadata": {},
          "execution_count": 3
        }
      ],
      "source": [
        "df = pd.read_csv('/content/drive/My Drive/MVA.csv')\n",
        "mva = df.copy()\n",
        "mva.head()"
      ]
    },
    {
      "cell_type": "code",
      "execution_count": 4,
      "metadata": {
        "id": "eEtoy9BNF9M4",
        "colab": {
          "base_uri": "https://localhost:8080/"
        },
        "outputId": "0bb33bbb-d443-443b-92de-3f35b1c7f018"
      },
      "outputs": [
        {
          "output_type": "stream",
          "name": "stdout",
          "text": [
            "<class 'pandas.core.frame.DataFrame'>\n",
            "RangeIndex: 282800 entries, 0 to 282799\n",
            "Data columns (total 29 columns):\n",
            " #   Column                         Non-Null Count   Dtype  \n",
            "---  ------                         --------------   -----  \n",
            " 0   CRASH DATE                     282800 non-null  object \n",
            " 1   CRASH TIME                     282800 non-null  object \n",
            " 2   BOROUGH                        282800 non-null  object \n",
            " 3   ZIP CODE                       282800 non-null  int64  \n",
            " 4   LATITUDE                       274682 non-null  float64\n",
            " 5   LONGITUDE                      274682 non-null  float64\n",
            " 6   LOCATION                       274682 non-null  object \n",
            " 7   ON STREET NAME                 176540 non-null  object \n",
            " 8   CROSS STREET NAME              176418 non-null  object \n",
            " 9   OFF STREET NAME                106260 non-null  object \n",
            " 10  NUMBER OF PERSONS INJURED      282800 non-null  int64  \n",
            " 11  NUMBER OF PERSONS KILLED       282800 non-null  int64  \n",
            " 12  NUMBER OF PEDESTRIANS INJURED  282800 non-null  int64  \n",
            " 13  NUMBER OF PEDESTRIANS KILLED   282800 non-null  int64  \n",
            " 14  NUMBER OF CYCLIST INJURED      282800 non-null  int64  \n",
            " 15  NUMBER OF CYCLIST KILLED       282800 non-null  int64  \n",
            " 16  NUMBER OF MOTORIST INJURED     282800 non-null  int64  \n",
            " 17  NUMBER OF MOTORIST KILLED      282800 non-null  int64  \n",
            " 18  CONTRIBUTING FACTOR VEHICLE 1  281416 non-null  object \n",
            " 19  CONTRIBUTING FACTOR VEHICLE 2  224536 non-null  object \n",
            " 20  CONTRIBUTING FACTOR VEHICLE 3  20813 non-null   object \n",
            " 21  CONTRIBUTING FACTOR VEHICLE 4  5451 non-null    object \n",
            " 22  CONTRIBUTING FACTOR VEHICLE 5  1680 non-null    object \n",
            " 23  COLLISION_ID                   282800 non-null  int64  \n",
            " 24  VEHICLE TYPE CODE 1            279913 non-null  object \n",
            " 25  VEHICLE TYPE CODE 2            201118 non-null  object \n",
            " 26  VEHICLE TYPE CODE 3            19604 non-null   object \n",
            " 27  VEHICLE TYPE CODE 4            5244 non-null    object \n",
            " 28  VEHICLE TYPE CODE 5            1631 non-null    object \n",
            "dtypes: float64(2), int64(10), object(17)\n",
            "memory usage: 62.6+ MB\n"
          ]
        }
      ],
      "source": [
        "mva.info()"
      ]
    },
    {
      "cell_type": "code",
      "execution_count": 5,
      "metadata": {
        "id": "DKjCtVH_q-MP"
      },
      "outputs": [],
      "source": [
        "#Drop rows with missing latitudes/longitude since this can not be replaced\n",
        "mva = mva.dropna(subset=[\"LATITUDE\"])"
      ]
    },
    {
      "cell_type": "code",
      "execution_count": 6,
      "metadata": {
        "id": "MQhYkD1pF9M7",
        "scrolled": true
      },
      "outputs": [],
      "source": [
        "#Drop rows with missing longitude\n",
        "mva = mva.dropna(subset=[\"LONGITUDE\"])"
      ]
    },
    {
      "cell_type": "code",
      "source": [
        "#Look to see if any of the latitude and longtitudes are equal to 0 - this means that this is a mistake and should be taken out\n",
        "print(min(mva['LATITUDE']))\n",
        "print(min(mva['LONGITUDE']))"
      ],
      "metadata": {
        "colab": {
          "base_uri": "https://localhost:8080/"
        },
        "id": "o9SBZhi21TQ9",
        "outputId": "76a019db-cde0-4f99-faa3-c810bdcdf69a"
      },
      "execution_count": 7,
      "outputs": [
        {
          "output_type": "stream",
          "name": "stdout",
          "text": [
            "0.0\n",
            "-74.25186\n"
          ]
        }
      ]
    },
    {
      "cell_type": "markdown",
      "source": [
        "Looks like there are accident latitudes that are equal to zero. We need to drop the rows where this is the case."
      ],
      "metadata": {
        "id": "qlMATeXc2Kt3"
      }
    },
    {
      "cell_type": "code",
      "source": [
        "mva = mva[mva[\"LATITUDE\"] != 0.0]\n",
        "print(min(mva[\"LATITUDE\"]))"
      ],
      "metadata": {
        "colab": {
          "base_uri": "https://localhost:8080/"
        },
        "id": "2dq5J27g2X89",
        "outputId": "7ef2a67a-c4ce-436d-fa1a-04d20545470c"
      },
      "execution_count": 8,
      "outputs": [
        {
          "output_type": "stream",
          "name": "stdout",
          "text": [
            "40.49971\n"
          ]
        }
      ]
    },
    {
      "cell_type": "code",
      "execution_count": 9,
      "metadata": {
        "id": "SihK7Cr1HkbY"
      },
      "outputs": [],
      "source": [
        "#Convert 'CRASH DATE' and create 'CRASH TIME HOUR' columns to datetime\n",
        "mva[\"CRASH DATE\"] = pd.to_datetime(mva['CRASH DATE'])\n",
        "mva[\"CRASH TIME HOUR\"] = pd.to_datetime(mva['CRASH TIME'], format='%H:%M').dt.hour"
      ]
    },
    {
      "cell_type": "code",
      "execution_count": 10,
      "metadata": {
        "id": "Invc4lE8IVU6",
        "colab": {
          "base_uri": "https://localhost:8080/",
          "height": 522
        },
        "outputId": "7fa54e0f-9e2e-4efb-f14a-def843cd70b9"
      },
      "outputs": [
        {
          "output_type": "execute_result",
          "data": {
            "text/plain": [
              "             CRASH DATE CRASH TIME   BOROUGH  ZIP CODE   LATITUDE  LONGITUDE  \\\n",
              "COLLISION_ID                                                                   \n",
              "4355333      2020-10-06       3:52    QUEENS     11420  40.665490 -73.819534   \n",
              "4327676      2020-07-11      20:18  BROOKLYN     11234  40.589930 -73.900590   \n",
              "4380776      2021-01-01       4:40    QUEENS     11691  40.601368 -73.760056   \n",
              "4442158      2021-07-24      20:38    QUEENS     11434  40.656160 -73.767360   \n",
              "4369300      2020-11-20      11:45    QUEENS     11413  40.651405 -73.758896   \n",
              "\n",
              "                             LOCATION                    ON STREET NAME  \\\n",
              "COLLISION_ID                                                              \n",
              "4355333        (40.66549, -73.819534)  NORTH CONDUIT AVENUE               \n",
              "4327676         (40.58993, -73.90059)                               NaN   \n",
              "4380776       (40.601368, -73.760056)  ROCKAWAY FREEWAY                   \n",
              "4442158         (40.65616, -73.76736)                ROCKAWAY BOULEVARD   \n",
              "4369300       (40.651405, -73.758896)                               NaN   \n",
              "\n",
              "                  CROSS STREET NAME                           OFF STREET NAME  \\\n",
              "COLLISION_ID                                                                    \n",
              "4355333                  122 STREET                                       NaN   \n",
              "4327676                         NaN  3159      FLATBUSH AVENUE                  \n",
              "4380776       OCEAN CREST BOULEVARD                                       NaN   \n",
              "4442158            BREWER BOULEVARD                                       NaN   \n",
              "4369300                         NaN  230-19    ROCKAWAY BOULEVARD               \n",
              "\n",
              "              ...  CONTRIBUTING FACTOR VEHICLE 2  \\\n",
              "COLLISION_ID  ...                                  \n",
              "4355333       ...                            NaN   \n",
              "4327676       ...            Driver Inexperience   \n",
              "4380776       ...                    Unspecified   \n",
              "4442158       ...  Failure to Yield Right-of-Way   \n",
              "4369300       ...                            NaN   \n",
              "\n",
              "              CONTRIBUTING FACTOR VEHICLE 3  CONTRIBUTING FACTOR VEHICLE 4  \\\n",
              "COLLISION_ID                                                                 \n",
              "4355333                                 NaN                            NaN   \n",
              "4327676                                 NaN                            NaN   \n",
              "4380776                                 NaN                            NaN   \n",
              "4442158                                 NaN                            NaN   \n",
              "4369300                                 NaN                            NaN   \n",
              "\n",
              "              CONTRIBUTING FACTOR VEHICLE 5  VEHICLE TYPE CODE 1  \\\n",
              "COLLISION_ID                                                       \n",
              "4355333                                 NaN                Sedan   \n",
              "4327676                                 NaN                Sedan   \n",
              "4380776                                 NaN        Pick-up Truck   \n",
              "4442158                                 NaN                Sedan   \n",
              "4369300                                 NaN                Sedan   \n",
              "\n",
              "                              VEHICLE TYPE CODE 2  VEHICLE TYPE CODE 3  \\\n",
              "COLLISION_ID                                                             \n",
              "4355333                                       NaN                  NaN   \n",
              "4327676                                     Sedan                  NaN   \n",
              "4380776       Station Wagon/Sport Utility Vehicle                  NaN   \n",
              "4442158                                     Sedan                  NaN   \n",
              "4369300                                       NaN                  NaN   \n",
              "\n",
              "              VEHICLE TYPE CODE 4 VEHICLE TYPE CODE 5 CRASH TIME HOUR  \n",
              "COLLISION_ID                                                           \n",
              "4355333                       NaN                 NaN               3  \n",
              "4327676                       NaN                 NaN              20  \n",
              "4380776                       NaN                 NaN               4  \n",
              "4442158                       NaN                 NaN              20  \n",
              "4369300                       NaN                 NaN              11  \n",
              "\n",
              "[5 rows x 29 columns]"
            ],
            "text/html": [
              "\n",
              "  <div id=\"df-bb03a82a-e2c5-4dbd-8b9a-1f12a1f66bcc\">\n",
              "    <div class=\"colab-df-container\">\n",
              "      <div>\n",
              "<style scoped>\n",
              "    .dataframe tbody tr th:only-of-type {\n",
              "        vertical-align: middle;\n",
              "    }\n",
              "\n",
              "    .dataframe tbody tr th {\n",
              "        vertical-align: top;\n",
              "    }\n",
              "\n",
              "    .dataframe thead th {\n",
              "        text-align: right;\n",
              "    }\n",
              "</style>\n",
              "<table border=\"1\" class=\"dataframe\">\n",
              "  <thead>\n",
              "    <tr style=\"text-align: right;\">\n",
              "      <th></th>\n",
              "      <th>CRASH DATE</th>\n",
              "      <th>CRASH TIME</th>\n",
              "      <th>BOROUGH</th>\n",
              "      <th>ZIP CODE</th>\n",
              "      <th>LATITUDE</th>\n",
              "      <th>LONGITUDE</th>\n",
              "      <th>LOCATION</th>\n",
              "      <th>ON STREET NAME</th>\n",
              "      <th>CROSS STREET NAME</th>\n",
              "      <th>OFF STREET NAME</th>\n",
              "      <th>...</th>\n",
              "      <th>CONTRIBUTING FACTOR VEHICLE 2</th>\n",
              "      <th>CONTRIBUTING FACTOR VEHICLE 3</th>\n",
              "      <th>CONTRIBUTING FACTOR VEHICLE 4</th>\n",
              "      <th>CONTRIBUTING FACTOR VEHICLE 5</th>\n",
              "      <th>VEHICLE TYPE CODE 1</th>\n",
              "      <th>VEHICLE TYPE CODE 2</th>\n",
              "      <th>VEHICLE TYPE CODE 3</th>\n",
              "      <th>VEHICLE TYPE CODE 4</th>\n",
              "      <th>VEHICLE TYPE CODE 5</th>\n",
              "      <th>CRASH TIME HOUR</th>\n",
              "    </tr>\n",
              "    <tr>\n",
              "      <th>COLLISION_ID</th>\n",
              "      <th></th>\n",
              "      <th></th>\n",
              "      <th></th>\n",
              "      <th></th>\n",
              "      <th></th>\n",
              "      <th></th>\n",
              "      <th></th>\n",
              "      <th></th>\n",
              "      <th></th>\n",
              "      <th></th>\n",
              "      <th></th>\n",
              "      <th></th>\n",
              "      <th></th>\n",
              "      <th></th>\n",
              "      <th></th>\n",
              "      <th></th>\n",
              "      <th></th>\n",
              "      <th></th>\n",
              "      <th></th>\n",
              "      <th></th>\n",
              "      <th></th>\n",
              "    </tr>\n",
              "  </thead>\n",
              "  <tbody>\n",
              "    <tr>\n",
              "      <th>4355333</th>\n",
              "      <td>2020-10-06</td>\n",
              "      <td>3:52</td>\n",
              "      <td>QUEENS</td>\n",
              "      <td>11420</td>\n",
              "      <td>40.665490</td>\n",
              "      <td>-73.819534</td>\n",
              "      <td>(40.66549, -73.819534)</td>\n",
              "      <td>NORTH CONDUIT AVENUE</td>\n",
              "      <td>122 STREET</td>\n",
              "      <td>NaN</td>\n",
              "      <td>...</td>\n",
              "      <td>NaN</td>\n",
              "      <td>NaN</td>\n",
              "      <td>NaN</td>\n",
              "      <td>NaN</td>\n",
              "      <td>Sedan</td>\n",
              "      <td>NaN</td>\n",
              "      <td>NaN</td>\n",
              "      <td>NaN</td>\n",
              "      <td>NaN</td>\n",
              "      <td>3</td>\n",
              "    </tr>\n",
              "    <tr>\n",
              "      <th>4327676</th>\n",
              "      <td>2020-07-11</td>\n",
              "      <td>20:18</td>\n",
              "      <td>BROOKLYN</td>\n",
              "      <td>11234</td>\n",
              "      <td>40.589930</td>\n",
              "      <td>-73.900590</td>\n",
              "      <td>(40.58993, -73.90059)</td>\n",
              "      <td>NaN</td>\n",
              "      <td>NaN</td>\n",
              "      <td>3159      FLATBUSH AVENUE</td>\n",
              "      <td>...</td>\n",
              "      <td>Driver Inexperience</td>\n",
              "      <td>NaN</td>\n",
              "      <td>NaN</td>\n",
              "      <td>NaN</td>\n",
              "      <td>Sedan</td>\n",
              "      <td>Sedan</td>\n",
              "      <td>NaN</td>\n",
              "      <td>NaN</td>\n",
              "      <td>NaN</td>\n",
              "      <td>20</td>\n",
              "    </tr>\n",
              "    <tr>\n",
              "      <th>4380776</th>\n",
              "      <td>2021-01-01</td>\n",
              "      <td>4:40</td>\n",
              "      <td>QUEENS</td>\n",
              "      <td>11691</td>\n",
              "      <td>40.601368</td>\n",
              "      <td>-73.760056</td>\n",
              "      <td>(40.601368, -73.760056)</td>\n",
              "      <td>ROCKAWAY FREEWAY</td>\n",
              "      <td>OCEAN CREST BOULEVARD</td>\n",
              "      <td>NaN</td>\n",
              "      <td>...</td>\n",
              "      <td>Unspecified</td>\n",
              "      <td>NaN</td>\n",
              "      <td>NaN</td>\n",
              "      <td>NaN</td>\n",
              "      <td>Pick-up Truck</td>\n",
              "      <td>Station Wagon/Sport Utility Vehicle</td>\n",
              "      <td>NaN</td>\n",
              "      <td>NaN</td>\n",
              "      <td>NaN</td>\n",
              "      <td>4</td>\n",
              "    </tr>\n",
              "    <tr>\n",
              "      <th>4442158</th>\n",
              "      <td>2021-07-24</td>\n",
              "      <td>20:38</td>\n",
              "      <td>QUEENS</td>\n",
              "      <td>11434</td>\n",
              "      <td>40.656160</td>\n",
              "      <td>-73.767360</td>\n",
              "      <td>(40.65616, -73.76736)</td>\n",
              "      <td>ROCKAWAY BOULEVARD</td>\n",
              "      <td>BREWER BOULEVARD</td>\n",
              "      <td>NaN</td>\n",
              "      <td>...</td>\n",
              "      <td>Failure to Yield Right-of-Way</td>\n",
              "      <td>NaN</td>\n",
              "      <td>NaN</td>\n",
              "      <td>NaN</td>\n",
              "      <td>Sedan</td>\n",
              "      <td>Sedan</td>\n",
              "      <td>NaN</td>\n",
              "      <td>NaN</td>\n",
              "      <td>NaN</td>\n",
              "      <td>20</td>\n",
              "    </tr>\n",
              "    <tr>\n",
              "      <th>4369300</th>\n",
              "      <td>2020-11-20</td>\n",
              "      <td>11:45</td>\n",
              "      <td>QUEENS</td>\n",
              "      <td>11413</td>\n",
              "      <td>40.651405</td>\n",
              "      <td>-73.758896</td>\n",
              "      <td>(40.651405, -73.758896)</td>\n",
              "      <td>NaN</td>\n",
              "      <td>NaN</td>\n",
              "      <td>230-19    ROCKAWAY BOULEVARD</td>\n",
              "      <td>...</td>\n",
              "      <td>NaN</td>\n",
              "      <td>NaN</td>\n",
              "      <td>NaN</td>\n",
              "      <td>NaN</td>\n",
              "      <td>Sedan</td>\n",
              "      <td>NaN</td>\n",
              "      <td>NaN</td>\n",
              "      <td>NaN</td>\n",
              "      <td>NaN</td>\n",
              "      <td>11</td>\n",
              "    </tr>\n",
              "  </tbody>\n",
              "</table>\n",
              "<p>5 rows × 29 columns</p>\n",
              "</div>\n",
              "      <button class=\"colab-df-convert\" onclick=\"convertToInteractive('df-bb03a82a-e2c5-4dbd-8b9a-1f12a1f66bcc')\"\n",
              "              title=\"Convert this dataframe to an interactive table.\"\n",
              "              style=\"display:none;\">\n",
              "        \n",
              "  <svg xmlns=\"http://www.w3.org/2000/svg\" height=\"24px\"viewBox=\"0 0 24 24\"\n",
              "       width=\"24px\">\n",
              "    <path d=\"M0 0h24v24H0V0z\" fill=\"none\"/>\n",
              "    <path d=\"M18.56 5.44l.94 2.06.94-2.06 2.06-.94-2.06-.94-.94-2.06-.94 2.06-2.06.94zm-11 1L8.5 8.5l.94-2.06 2.06-.94-2.06-.94L8.5 2.5l-.94 2.06-2.06.94zm10 10l.94 2.06.94-2.06 2.06-.94-2.06-.94-.94-2.06-.94 2.06-2.06.94z\"/><path d=\"M17.41 7.96l-1.37-1.37c-.4-.4-.92-.59-1.43-.59-.52 0-1.04.2-1.43.59L10.3 9.45l-7.72 7.72c-.78.78-.78 2.05 0 2.83L4 21.41c.39.39.9.59 1.41.59.51 0 1.02-.2 1.41-.59l7.78-7.78 2.81-2.81c.8-.78.8-2.07 0-2.86zM5.41 20L4 18.59l7.72-7.72 1.47 1.35L5.41 20z\"/>\n",
              "  </svg>\n",
              "      </button>\n",
              "      \n",
              "  <style>\n",
              "    .colab-df-container {\n",
              "      display:flex;\n",
              "      flex-wrap:wrap;\n",
              "      gap: 12px;\n",
              "    }\n",
              "\n",
              "    .colab-df-convert {\n",
              "      background-color: #E8F0FE;\n",
              "      border: none;\n",
              "      border-radius: 50%;\n",
              "      cursor: pointer;\n",
              "      display: none;\n",
              "      fill: #1967D2;\n",
              "      height: 32px;\n",
              "      padding: 0 0 0 0;\n",
              "      width: 32px;\n",
              "    }\n",
              "\n",
              "    .colab-df-convert:hover {\n",
              "      background-color: #E2EBFA;\n",
              "      box-shadow: 0px 1px 2px rgba(60, 64, 67, 0.3), 0px 1px 3px 1px rgba(60, 64, 67, 0.15);\n",
              "      fill: #174EA6;\n",
              "    }\n",
              "\n",
              "    [theme=dark] .colab-df-convert {\n",
              "      background-color: #3B4455;\n",
              "      fill: #D2E3FC;\n",
              "    }\n",
              "\n",
              "    [theme=dark] .colab-df-convert:hover {\n",
              "      background-color: #434B5C;\n",
              "      box-shadow: 0px 1px 3px 1px rgba(0, 0, 0, 0.15);\n",
              "      filter: drop-shadow(0px 1px 2px rgba(0, 0, 0, 0.3));\n",
              "      fill: #FFFFFF;\n",
              "    }\n",
              "  </style>\n",
              "\n",
              "      <script>\n",
              "        const buttonEl =\n",
              "          document.querySelector('#df-bb03a82a-e2c5-4dbd-8b9a-1f12a1f66bcc button.colab-df-convert');\n",
              "        buttonEl.style.display =\n",
              "          google.colab.kernel.accessAllowed ? 'block' : 'none';\n",
              "\n",
              "        async function convertToInteractive(key) {\n",
              "          const element = document.querySelector('#df-bb03a82a-e2c5-4dbd-8b9a-1f12a1f66bcc');\n",
              "          const dataTable =\n",
              "            await google.colab.kernel.invokeFunction('convertToInteractive',\n",
              "                                                     [key], {});\n",
              "          if (!dataTable) return;\n",
              "\n",
              "          const docLinkHtml = 'Like what you see? Visit the ' +\n",
              "            '<a target=\"_blank\" href=https://colab.research.google.com/notebooks/data_table.ipynb>data table notebook</a>'\n",
              "            + ' to learn more about interactive tables.';\n",
              "          element.innerHTML = '';\n",
              "          dataTable['output_type'] = 'display_data';\n",
              "          await google.colab.output.renderOutput(dataTable, element);\n",
              "          const docLink = document.createElement('div');\n",
              "          docLink.innerHTML = docLinkHtml;\n",
              "          element.appendChild(docLink);\n",
              "        }\n",
              "      </script>\n",
              "    </div>\n",
              "  </div>\n",
              "  "
            ]
          },
          "metadata": {},
          "execution_count": 10
        }
      ],
      "source": [
        "#Set COLLISION ID as index\n",
        "mva.set_index('COLLISION_ID', inplace=True)\n",
        "mva.head()"
      ]
    },
    {
      "cell_type": "code",
      "execution_count": 11,
      "metadata": {
        "id": "yXAHGnm0DuGw",
        "colab": {
          "base_uri": "https://localhost:8080/"
        },
        "outputId": "136713a9-ca22-4391-cc40-ed8f6744d161"
      },
      "outputs": [
        {
          "output_type": "stream",
          "name": "stdout",
          "text": [
            "87\n"
          ]
        },
        {
          "output_type": "execute_result",
          "data": {
            "text/plain": [
              "(273704, 29)"
            ]
          },
          "metadata": {},
          "execution_count": 11
        }
      ],
      "source": [
        "#Check for duplicate rows\n",
        "print(mva.duplicated().sum())\n",
        "mva.shape"
      ]
    },
    {
      "cell_type": "code",
      "execution_count": 12,
      "metadata": {
        "id": "VlgDDe6DKp-g",
        "colab": {
          "base_uri": "https://localhost:8080/"
        },
        "outputId": "566f8f14-6ee5-4ae5-dbf3-f0382cac5a6e"
      },
      "outputs": [
        {
          "output_type": "execute_result",
          "data": {
            "text/plain": [
              "(273617, 29)"
            ]
          },
          "metadata": {},
          "execution_count": 12
        }
      ],
      "source": [
        "#Drop duplicate rows\n",
        "mva.drop_duplicates(inplace=True)\n",
        "mva.shape"
      ]
    },
    {
      "cell_type": "code",
      "execution_count": 13,
      "metadata": {
        "id": "5tiIqTv8F9NE"
      },
      "outputs": [],
      "source": [
        "#Drop ON STREET, CROSS STREET, and OFF STREET NAME columns - these are not needed since we have lat and longs\n",
        "mva.drop(['ON STREET NAME'], axis=1, inplace=True)\n",
        "mva.drop(['CROSS STREET NAME'], axis=1, inplace=True)\n",
        "mva.drop(['OFF STREET NAME'], axis=1, inplace=True)\n",
        "mva.drop(['LOCATION'], axis=1, inplace= True) "
      ]
    },
    {
      "cell_type": "code",
      "execution_count": 14,
      "metadata": {
        "id": "7ywW0XEzNBe1",
        "colab": {
          "base_uri": "https://localhost:8080/"
        },
        "outputId": "6a09d4e2-f7a5-4eac-d347-74e52d3fc91e"
      },
      "outputs": [
        {
          "output_type": "execute_result",
          "data": {
            "text/plain": [
              "CRASH DATE                       datetime64[ns]\n",
              "CRASH TIME                               object\n",
              "BOROUGH                                  object\n",
              "ZIP CODE                                  int64\n",
              "LATITUDE                                float64\n",
              "LONGITUDE                               float64\n",
              "NUMBER OF PERSONS INJURED                 int64\n",
              "NUMBER OF PERSONS KILLED                  int64\n",
              "NUMBER OF PEDESTRIANS INJURED             int64\n",
              "NUMBER OF PEDESTRIANS KILLED              int64\n",
              "NUMBER OF CYCLIST INJURED                 int64\n",
              "NUMBER OF CYCLIST KILLED                  int64\n",
              "NUMBER OF MOTORIST INJURED                int64\n",
              "NUMBER OF MOTORIST KILLED                 int64\n",
              "CONTRIBUTING FACTOR VEHICLE 1            object\n",
              "CONTRIBUTING FACTOR VEHICLE 2            object\n",
              "CONTRIBUTING FACTOR VEHICLE 3            object\n",
              "CONTRIBUTING FACTOR VEHICLE 4            object\n",
              "CONTRIBUTING FACTOR VEHICLE 5            object\n",
              "VEHICLE TYPE CODE 1                      object\n",
              "VEHICLE TYPE CODE 2                      object\n",
              "VEHICLE TYPE CODE 3                      object\n",
              "VEHICLE TYPE CODE 4                      object\n",
              "VEHICLE TYPE CODE 5                      object\n",
              "CRASH TIME HOUR                           int64\n",
              "dtype: object"
            ]
          },
          "metadata": {},
          "execution_count": 14
        }
      ],
      "source": [
        "#confirm the remaining columns\n",
        "mva.dtypes"
      ]
    },
    {
      "cell_type": "code",
      "execution_count": 15,
      "metadata": {
        "id": "K0jKGc0rF9NG"
      },
      "outputs": [],
      "source": [
        "#rename columns for ease of use\n",
        "mva = mva.rename(columns={'ZIP CODE': 'ZIP_CODE','NUMBER OF PERSONS INJURED': 'PERSONS_INJURED', \n",
        "                            'NUMBER OF PERSONS KILLED': 'PERSONS_KILLED', \n",
        "                            'NUMBER OF PEDESTRIANS INJURED': 'PEDESTRIANS_INJURED', \n",
        "                            'NUMBER OF PEDESTRIANS KILLED': 'PEDESTRIANS_KILLED',\n",
        "                            'NUMBER OF CYCLIST INJURED': 'CYCLISTS_INJURED',  \n",
        "                            'NUMBER OF CYCLIST KILLED': 'CYCLISTS_KILLED',\n",
        "                            'NUMBER OF MOTORIST INJURED': 'MOTORIST_INJURED',\n",
        "                            'NUMBER OF MOTORIST KILLED': 'MOTORIST_KILLED',\n",
        "                                      'CONTRIBUTING FACTOR VEHICLE 1': 'FACTOR_1', \n",
        "                                      'CONTRIBUTING FACTOR VEHICLE 2': 'FACTOR_2',\n",
        "                                      'CONTRIBUTING FACTOR VEHICLE 3': 'FACTOR_3',\n",
        "                                      'CONTRIBUTING FACTOR VEHICLE 4': 'FACTOR_4',\n",
        "                                      'CONTRIBUTING FACTOR VEHICLE 5': 'FACTOR_5',\n",
        "                                          'VEHICLE TYPE CODE 1': 'VEHICLE_1',\n",
        "                                          'VEHICLE TYPE CODE 2': 'VEHICLE_2',\n",
        "                                          'VEHICLE TYPE CODE 3': 'VEHICLE_3',\n",
        "                                          'VEHICLE TYPE CODE 4': 'VEHICLE_4',\n",
        "                                          'VEHICLE TYPE CODE 5': 'VEHICLE_5'\n",
        "                                     })"
      ]
    },
    {
      "cell_type": "code",
      "execution_count": 16,
      "metadata": {
        "id": "ShuB6RU7F9NG",
        "colab": {
          "base_uri": "https://localhost:8080/",
          "height": 453
        },
        "outputId": "8198a757-c315-47aa-a8e8-630e16c46f3b"
      },
      "outputs": [
        {
          "output_type": "execute_result",
          "data": {
            "text/plain": [
              "             CRASH DATE CRASH TIME   BOROUGH  ZIP_CODE   LATITUDE  LONGITUDE  \\\n",
              "COLLISION_ID                                                                   \n",
              "4355333      2020-10-06       3:52    QUEENS     11420  40.665490 -73.819534   \n",
              "4327676      2020-07-11      20:18  BROOKLYN     11234  40.589930 -73.900590   \n",
              "4380776      2021-01-01       4:40    QUEENS     11691  40.601368 -73.760056   \n",
              "4442158      2021-07-24      20:38    QUEENS     11434  40.656160 -73.767360   \n",
              "4369300      2020-11-20      11:45    QUEENS     11413  40.651405 -73.758896   \n",
              "\n",
              "              PERSONS_INJURED  PERSONS_KILLED  PEDESTRIANS_INJURED  \\\n",
              "COLLISION_ID                                                         \n",
              "4355333                     1               3                    0   \n",
              "4327676                     4               3                    0   \n",
              "4380776                     1               2                    0   \n",
              "4442158                     4               2                    0   \n",
              "4369300                     2               2                    0   \n",
              "\n",
              "              PEDESTRIANS_KILLED  ...                       FACTOR_2  \\\n",
              "COLLISION_ID                      ...                                  \n",
              "4355333                        0  ...                            NaN   \n",
              "4327676                        0  ...            Driver Inexperience   \n",
              "4380776                        0  ...                    Unspecified   \n",
              "4442158                        0  ...  Failure to Yield Right-of-Way   \n",
              "4369300                        0  ...                            NaN   \n",
              "\n",
              "              FACTOR_3  FACTOR_4  FACTOR_5      VEHICLE_1  \\\n",
              "COLLISION_ID                                                \n",
              "4355333            NaN       NaN       NaN          Sedan   \n",
              "4327676            NaN       NaN       NaN          Sedan   \n",
              "4380776            NaN       NaN       NaN  Pick-up Truck   \n",
              "4442158            NaN       NaN       NaN          Sedan   \n",
              "4369300            NaN       NaN       NaN          Sedan   \n",
              "\n",
              "                                        VEHICLE_2 VEHICLE_3 VEHICLE_4  \\\n",
              "COLLISION_ID                                                            \n",
              "4355333                                       NaN       NaN       NaN   \n",
              "4327676                                     Sedan       NaN       NaN   \n",
              "4380776       Station Wagon/Sport Utility Vehicle       NaN       NaN   \n",
              "4442158                                     Sedan       NaN       NaN   \n",
              "4369300                                       NaN       NaN       NaN   \n",
              "\n",
              "             VEHICLE_5 CRASH TIME HOUR  \n",
              "COLLISION_ID                            \n",
              "4355333            NaN               3  \n",
              "4327676            NaN              20  \n",
              "4380776            NaN               4  \n",
              "4442158            NaN              20  \n",
              "4369300            NaN              11  \n",
              "\n",
              "[5 rows x 25 columns]"
            ],
            "text/html": [
              "\n",
              "  <div id=\"df-59831cfd-0ef5-4d84-98d0-512645426e6a\">\n",
              "    <div class=\"colab-df-container\">\n",
              "      <div>\n",
              "<style scoped>\n",
              "    .dataframe tbody tr th:only-of-type {\n",
              "        vertical-align: middle;\n",
              "    }\n",
              "\n",
              "    .dataframe tbody tr th {\n",
              "        vertical-align: top;\n",
              "    }\n",
              "\n",
              "    .dataframe thead th {\n",
              "        text-align: right;\n",
              "    }\n",
              "</style>\n",
              "<table border=\"1\" class=\"dataframe\">\n",
              "  <thead>\n",
              "    <tr style=\"text-align: right;\">\n",
              "      <th></th>\n",
              "      <th>CRASH DATE</th>\n",
              "      <th>CRASH TIME</th>\n",
              "      <th>BOROUGH</th>\n",
              "      <th>ZIP_CODE</th>\n",
              "      <th>LATITUDE</th>\n",
              "      <th>LONGITUDE</th>\n",
              "      <th>PERSONS_INJURED</th>\n",
              "      <th>PERSONS_KILLED</th>\n",
              "      <th>PEDESTRIANS_INJURED</th>\n",
              "      <th>PEDESTRIANS_KILLED</th>\n",
              "      <th>...</th>\n",
              "      <th>FACTOR_2</th>\n",
              "      <th>FACTOR_3</th>\n",
              "      <th>FACTOR_4</th>\n",
              "      <th>FACTOR_5</th>\n",
              "      <th>VEHICLE_1</th>\n",
              "      <th>VEHICLE_2</th>\n",
              "      <th>VEHICLE_3</th>\n",
              "      <th>VEHICLE_4</th>\n",
              "      <th>VEHICLE_5</th>\n",
              "      <th>CRASH TIME HOUR</th>\n",
              "    </tr>\n",
              "    <tr>\n",
              "      <th>COLLISION_ID</th>\n",
              "      <th></th>\n",
              "      <th></th>\n",
              "      <th></th>\n",
              "      <th></th>\n",
              "      <th></th>\n",
              "      <th></th>\n",
              "      <th></th>\n",
              "      <th></th>\n",
              "      <th></th>\n",
              "      <th></th>\n",
              "      <th></th>\n",
              "      <th></th>\n",
              "      <th></th>\n",
              "      <th></th>\n",
              "      <th></th>\n",
              "      <th></th>\n",
              "      <th></th>\n",
              "      <th></th>\n",
              "      <th></th>\n",
              "      <th></th>\n",
              "      <th></th>\n",
              "    </tr>\n",
              "  </thead>\n",
              "  <tbody>\n",
              "    <tr>\n",
              "      <th>4355333</th>\n",
              "      <td>2020-10-06</td>\n",
              "      <td>3:52</td>\n",
              "      <td>QUEENS</td>\n",
              "      <td>11420</td>\n",
              "      <td>40.665490</td>\n",
              "      <td>-73.819534</td>\n",
              "      <td>1</td>\n",
              "      <td>3</td>\n",
              "      <td>0</td>\n",
              "      <td>0</td>\n",
              "      <td>...</td>\n",
              "      <td>NaN</td>\n",
              "      <td>NaN</td>\n",
              "      <td>NaN</td>\n",
              "      <td>NaN</td>\n",
              "      <td>Sedan</td>\n",
              "      <td>NaN</td>\n",
              "      <td>NaN</td>\n",
              "      <td>NaN</td>\n",
              "      <td>NaN</td>\n",
              "      <td>3</td>\n",
              "    </tr>\n",
              "    <tr>\n",
              "      <th>4327676</th>\n",
              "      <td>2020-07-11</td>\n",
              "      <td>20:18</td>\n",
              "      <td>BROOKLYN</td>\n",
              "      <td>11234</td>\n",
              "      <td>40.589930</td>\n",
              "      <td>-73.900590</td>\n",
              "      <td>4</td>\n",
              "      <td>3</td>\n",
              "      <td>0</td>\n",
              "      <td>0</td>\n",
              "      <td>...</td>\n",
              "      <td>Driver Inexperience</td>\n",
              "      <td>NaN</td>\n",
              "      <td>NaN</td>\n",
              "      <td>NaN</td>\n",
              "      <td>Sedan</td>\n",
              "      <td>Sedan</td>\n",
              "      <td>NaN</td>\n",
              "      <td>NaN</td>\n",
              "      <td>NaN</td>\n",
              "      <td>20</td>\n",
              "    </tr>\n",
              "    <tr>\n",
              "      <th>4380776</th>\n",
              "      <td>2021-01-01</td>\n",
              "      <td>4:40</td>\n",
              "      <td>QUEENS</td>\n",
              "      <td>11691</td>\n",
              "      <td>40.601368</td>\n",
              "      <td>-73.760056</td>\n",
              "      <td>1</td>\n",
              "      <td>2</td>\n",
              "      <td>0</td>\n",
              "      <td>0</td>\n",
              "      <td>...</td>\n",
              "      <td>Unspecified</td>\n",
              "      <td>NaN</td>\n",
              "      <td>NaN</td>\n",
              "      <td>NaN</td>\n",
              "      <td>Pick-up Truck</td>\n",
              "      <td>Station Wagon/Sport Utility Vehicle</td>\n",
              "      <td>NaN</td>\n",
              "      <td>NaN</td>\n",
              "      <td>NaN</td>\n",
              "      <td>4</td>\n",
              "    </tr>\n",
              "    <tr>\n",
              "      <th>4442158</th>\n",
              "      <td>2021-07-24</td>\n",
              "      <td>20:38</td>\n",
              "      <td>QUEENS</td>\n",
              "      <td>11434</td>\n",
              "      <td>40.656160</td>\n",
              "      <td>-73.767360</td>\n",
              "      <td>4</td>\n",
              "      <td>2</td>\n",
              "      <td>0</td>\n",
              "      <td>0</td>\n",
              "      <td>...</td>\n",
              "      <td>Failure to Yield Right-of-Way</td>\n",
              "      <td>NaN</td>\n",
              "      <td>NaN</td>\n",
              "      <td>NaN</td>\n",
              "      <td>Sedan</td>\n",
              "      <td>Sedan</td>\n",
              "      <td>NaN</td>\n",
              "      <td>NaN</td>\n",
              "      <td>NaN</td>\n",
              "      <td>20</td>\n",
              "    </tr>\n",
              "    <tr>\n",
              "      <th>4369300</th>\n",
              "      <td>2020-11-20</td>\n",
              "      <td>11:45</td>\n",
              "      <td>QUEENS</td>\n",
              "      <td>11413</td>\n",
              "      <td>40.651405</td>\n",
              "      <td>-73.758896</td>\n",
              "      <td>2</td>\n",
              "      <td>2</td>\n",
              "      <td>0</td>\n",
              "      <td>0</td>\n",
              "      <td>...</td>\n",
              "      <td>NaN</td>\n",
              "      <td>NaN</td>\n",
              "      <td>NaN</td>\n",
              "      <td>NaN</td>\n",
              "      <td>Sedan</td>\n",
              "      <td>NaN</td>\n",
              "      <td>NaN</td>\n",
              "      <td>NaN</td>\n",
              "      <td>NaN</td>\n",
              "      <td>11</td>\n",
              "    </tr>\n",
              "  </tbody>\n",
              "</table>\n",
              "<p>5 rows × 25 columns</p>\n",
              "</div>\n",
              "      <button class=\"colab-df-convert\" onclick=\"convertToInteractive('df-59831cfd-0ef5-4d84-98d0-512645426e6a')\"\n",
              "              title=\"Convert this dataframe to an interactive table.\"\n",
              "              style=\"display:none;\">\n",
              "        \n",
              "  <svg xmlns=\"http://www.w3.org/2000/svg\" height=\"24px\"viewBox=\"0 0 24 24\"\n",
              "       width=\"24px\">\n",
              "    <path d=\"M0 0h24v24H0V0z\" fill=\"none\"/>\n",
              "    <path d=\"M18.56 5.44l.94 2.06.94-2.06 2.06-.94-2.06-.94-.94-2.06-.94 2.06-2.06.94zm-11 1L8.5 8.5l.94-2.06 2.06-.94-2.06-.94L8.5 2.5l-.94 2.06-2.06.94zm10 10l.94 2.06.94-2.06 2.06-.94-2.06-.94-.94-2.06-.94 2.06-2.06.94z\"/><path d=\"M17.41 7.96l-1.37-1.37c-.4-.4-.92-.59-1.43-.59-.52 0-1.04.2-1.43.59L10.3 9.45l-7.72 7.72c-.78.78-.78 2.05 0 2.83L4 21.41c.39.39.9.59 1.41.59.51 0 1.02-.2 1.41-.59l7.78-7.78 2.81-2.81c.8-.78.8-2.07 0-2.86zM5.41 20L4 18.59l7.72-7.72 1.47 1.35L5.41 20z\"/>\n",
              "  </svg>\n",
              "      </button>\n",
              "      \n",
              "  <style>\n",
              "    .colab-df-container {\n",
              "      display:flex;\n",
              "      flex-wrap:wrap;\n",
              "      gap: 12px;\n",
              "    }\n",
              "\n",
              "    .colab-df-convert {\n",
              "      background-color: #E8F0FE;\n",
              "      border: none;\n",
              "      border-radius: 50%;\n",
              "      cursor: pointer;\n",
              "      display: none;\n",
              "      fill: #1967D2;\n",
              "      height: 32px;\n",
              "      padding: 0 0 0 0;\n",
              "      width: 32px;\n",
              "    }\n",
              "\n",
              "    .colab-df-convert:hover {\n",
              "      background-color: #E2EBFA;\n",
              "      box-shadow: 0px 1px 2px rgba(60, 64, 67, 0.3), 0px 1px 3px 1px rgba(60, 64, 67, 0.15);\n",
              "      fill: #174EA6;\n",
              "    }\n",
              "\n",
              "    [theme=dark] .colab-df-convert {\n",
              "      background-color: #3B4455;\n",
              "      fill: #D2E3FC;\n",
              "    }\n",
              "\n",
              "    [theme=dark] .colab-df-convert:hover {\n",
              "      background-color: #434B5C;\n",
              "      box-shadow: 0px 1px 3px 1px rgba(0, 0, 0, 0.15);\n",
              "      filter: drop-shadow(0px 1px 2px rgba(0, 0, 0, 0.3));\n",
              "      fill: #FFFFFF;\n",
              "    }\n",
              "  </style>\n",
              "\n",
              "      <script>\n",
              "        const buttonEl =\n",
              "          document.querySelector('#df-59831cfd-0ef5-4d84-98d0-512645426e6a button.colab-df-convert');\n",
              "        buttonEl.style.display =\n",
              "          google.colab.kernel.accessAllowed ? 'block' : 'none';\n",
              "\n",
              "        async function convertToInteractive(key) {\n",
              "          const element = document.querySelector('#df-59831cfd-0ef5-4d84-98d0-512645426e6a');\n",
              "          const dataTable =\n",
              "            await google.colab.kernel.invokeFunction('convertToInteractive',\n",
              "                                                     [key], {});\n",
              "          if (!dataTable) return;\n",
              "\n",
              "          const docLinkHtml = 'Like what you see? Visit the ' +\n",
              "            '<a target=\"_blank\" href=https://colab.research.google.com/notebooks/data_table.ipynb>data table notebook</a>'\n",
              "            + ' to learn more about interactive tables.';\n",
              "          element.innerHTML = '';\n",
              "          dataTable['output_type'] = 'display_data';\n",
              "          await google.colab.output.renderOutput(dataTable, element);\n",
              "          const docLink = document.createElement('div');\n",
              "          docLink.innerHTML = docLinkHtml;\n",
              "          element.appendChild(docLink);\n",
              "        }\n",
              "      </script>\n",
              "    </div>\n",
              "  </div>\n",
              "  "
            ]
          },
          "metadata": {},
          "execution_count": 16
        }
      ],
      "source": [
        "mva.head()"
      ]
    },
    {
      "cell_type": "markdown",
      "metadata": {
        "id": "18eu0-z6WMd2"
      },
      "source": [
        "## II. Exploratory Data Analysis"
      ]
    },
    {
      "cell_type": "code",
      "execution_count": 17,
      "metadata": {
        "id": "voi-TlvzK0bS",
        "colab": {
          "base_uri": "https://localhost:8080/"
        },
        "outputId": "7dcbb564-5f5c-4cc2-c52a-1c9dc7c7379a"
      },
      "outputs": [
        {
          "output_type": "stream",
          "name": "stdout",
          "text": [
            "Total number of accidents from 2019 to 2021: 273617\n"
          ]
        }
      ],
      "source": [
        "#Total number of accidents\n",
        "print('Total number of accidents from 2019 to 2021: {}'.format(mva.shape[0]))"
      ]
    },
    {
      "cell_type": "markdown",
      "metadata": {
        "id": "WzDzkKjkkdqb"
      },
      "source": [
        "#### Examining Number of Accidents by Month"
      ]
    },
    {
      "cell_type": "code",
      "execution_count": 18,
      "metadata": {
        "id": "y9xI7U52K8yi",
        "colab": {
          "base_uri": "https://localhost:8080/"
        },
        "outputId": "059c0e2a-21ae-4f3f-e487-5b54065a65fa"
      },
      "outputs": [
        {
          "output_type": "execute_result",
          "data": {
            "text/plain": [
              "CRASH MONTH\n",
              "1     24864\n",
              "2     23189\n",
              "3     22998\n",
              "4     18425\n",
              "5     22538\n",
              "6     23811\n",
              "7     24080\n",
              "8     23221\n",
              "9     23341\n",
              "10    23282\n",
              "11    22291\n",
              "12    21577\n",
              "dtype: int64"
            ]
          },
          "metadata": {},
          "execution_count": 18
        }
      ],
      "source": [
        "#Extract month from 'CRASH DATE' column to create 'CRASH MONTH' column\n",
        "mva['CRASH MONTH'] = pd.to_datetime(mva['CRASH DATE']).dt.month \n",
        "monthly_accidents = mva.groupby(mva['CRASH MONTH']).size()\n",
        "    \n",
        "\n",
        "monthly_accidents"
      ]
    },
    {
      "cell_type": "code",
      "execution_count": 19,
      "metadata": {
        "id": "7XM8OArgPtlk",
        "colab": {
          "base_uri": "https://localhost:8080/",
          "height": 484
        },
        "outputId": "380032cd-ab02-422f-cfc3-8ef6631642ba"
      },
      "outputs": [
        {
          "output_type": "display_data",
          "data": {
            "text/plain": [
              "<Figure size 864x504 with 1 Axes>"
            ],
            "image/png": "[encoded data removed]"
          },
          "metadata": {}
        }
      ],
      "source": [
        "plt.style.use('ggplot')\n",
        "\n",
        "#Plot accidents per month\n",
        "monthly_accidents.plot(kind='bar', color='blue',figsize=(12,7), alpha=0.5)\n",
        "\n",
        "plt.title('Accidents in NYC from 2019 to 2021 by Month', fontsize=25)\n",
        "plt.xlabel('Month',fontsize=20)\n",
        "plt.ylabel('Accidents',fontsize=20)\n",
        "plt.yticks(fontsize=18)\n",
        "plt.xticks(fontsize=18,rotation=0)\n",
        "plt.grid(False);"
      ]
    },
    {
      "cell_type": "markdown",
      "metadata": {
        "id": "bC2C0Q2ukdqd"
      },
      "source": [
        "\n",
        "At first glance, the month with the highest number of accidents is January and the one with the lowest is April.\n"
      ]
    },
    {
      "cell_type": "markdown",
      "metadata": {
        "id": "AB9rZLC9F9NJ"
      },
      "source": [
        "#### Distribution of Accidents - Day of the Week"
      ]
    },
    {
      "cell_type": "code",
      "execution_count": 20,
      "metadata": {
        "id": "HHNTBkFfQtev",
        "colab": {
          "base_uri": "https://localhost:8080/"
        },
        "outputId": "f2085428-f4ae-46cf-af6d-77f1d45480a0"
      },
      "outputs": [
        {
          "output_type": "execute_result",
          "data": {
            "text/plain": [
              "CRASH WEEKDAY\n",
              "0    39104\n",
              "1    40103\n",
              "2    39610\n",
              "3    40539\n",
              "4    43569\n",
              "5    37561\n",
              "6    33131\n",
              "dtype: int64"
            ]
          },
          "metadata": {},
          "execution_count": 20
        }
      ],
      "source": [
        "#Extract weekdate from 'CRASH DATE' column to create 'CRASH WEEKDAY' column\n",
        "mva[\"CRASH WEEKDAY\"] = mva[\"CRASH DATE\"].dt.weekday\n",
        "weekday_accidents = mva.groupby([\"CRASH WEEKDAY\"]).size()\n",
        "\n",
        "weekday_accidents"
      ]
    },
    {
      "cell_type": "code",
      "execution_count": 21,
      "metadata": {
        "id": "q1ID4iTAR3FD",
        "colab": {
          "base_uri": "https://localhost:8080/",
          "height": 484
        },
        "outputId": "7f50621f-ade5-49b7-941f-b370493e9824"
      },
      "outputs": [
        {
          "output_type": "display_data",
          "data": {
            "text/plain": [
              "<Figure size 864x504 with 1 Axes>"
            ],
            "image/png": "[encoded data removed]"
          },
          "metadata": {}
        }
      ],
      "source": [
        "#Change the numerical weekdays to text for graph\n",
        "import calendar\n",
        "weekday_accidents.index=[calendar.day_name[x] for x in range(0,7)]\n",
        "\n",
        "#Plot accidents by weekday\n",
        "weekday_accidents.plot(kind='bar',figsize=(12,7), color='green', alpha=0.5)\n",
        "\n",
        "# title and x,y labels\n",
        "plt.title('NYC Accidents from 2019 to 2021 by Weekday', fontsize=25)\n",
        "plt.xlabel('Weekdays',fontsize=20)\n",
        "plt.ylabel('Accidents',fontsize=20)\n",
        "plt.yticks(fontsize=18)\n",
        "plt.xticks(fontsize=18,rotation=0)\n",
        "plt.grid(False);"
      ]
    },
    {
      "cell_type": "markdown",
      "metadata": {
        "id": "jlrtgRm2kdqe"
      },
      "source": [
        "Friday has the highest volume of accidents, and Sunday has the lowest volume of accidents. "
      ]
    },
    {
      "cell_type": "markdown",
      "metadata": {
        "id": "O3esRI3PF9NK"
      },
      "source": [
        "#### Distribution of Accidents - Time of Day"
      ]
    },
    {
      "cell_type": "code",
      "execution_count": 22,
      "metadata": {
        "id": "BptjtSVLF9NL",
        "colab": {
          "base_uri": "https://localhost:8080/"
        },
        "outputId": "6fbdb571-5e6f-477f-d904-d3e469b3dc45"
      },
      "outputs": [
        {
          "output_type": "execute_result",
          "data": {
            "text/plain": [
              "CRASH TIME HOUR\n",
              "0     10276\n",
              "1      4960\n",
              "2      3892\n",
              "3      3372\n",
              "4      3489\n",
              "5      3807\n",
              "6      5942\n",
              "7      8526\n",
              "8     14077\n",
              "9     13486\n",
              "10    13157\n",
              "11    14147\n",
              "12    15357\n",
              "13    16021\n",
              "14    18448\n",
              "15    17504\n",
              "16    19035\n",
              "17    18663\n",
              "18    16654\n",
              "19    13849\n",
              "20    11843\n",
              "21    10193\n",
              "22     9260\n",
              "23     7659\n",
              "dtype: int64"
            ]
          },
          "metadata": {},
          "execution_count": 22
        }
      ],
      "source": [
        "#Determining count of accidents by the hour\n",
        "hourly_accidents = mva.groupby([\"CRASH TIME HOUR\"]).size()\n",
        "    \n",
        "hourly_accidents"
      ]
    },
    {
      "cell_type": "code",
      "execution_count": 23,
      "metadata": {
        "id": "UymZ5VdqbNu7",
        "scrolled": true,
        "colab": {
          "base_uri": "https://localhost:8080/",
          "height": 484
        },
        "outputId": "2e07ad30-ac3a-45d8-dc8e-6c27f86826e1"
      },
      "outputs": [
        {
          "output_type": "display_data",
          "data": {
            "text/plain": [
              "<Figure size 864x504 with 1 Axes>"
            ],
            "image/png": "[encoded data removed]"
          },
          "metadata": {}
        }
      ],
      "source": [
        "# plot accidents per hour\n",
        "hourly_accidents.plot(kind='bar',figsize=(12,7), color='orange', alpha=0.5)\n",
        "\n",
        "# title and x,y labels\n",
        "plt.title('NYC Accidents from 2019 to 2021 by the Hour', fontsize=25)\n",
        "plt.xlabel('Hour',fontsize=20)\n",
        "plt.ylabel('Accidents',fontsize=20)\n",
        "plt.yticks(fontsize=18)\n",
        "plt.xticks(fontsize=18,rotation=0)\n",
        "plt.grid(False);"
      ]
    },
    {
      "cell_type": "markdown",
      "metadata": {
        "id": "ABJCy2lIkdqf"
      },
      "source": [
        "Here we see that 3 AM is the hour with the least amount of accidents. The peak times are between 2 PM and 5 PM. "
      ]
    },
    {
      "cell_type": "markdown",
      "metadata": {
        "id": "srWtSczRF9NL"
      },
      "source": [
        "#### Injury / Death Analysis"
      ]
    },
    {
      "cell_type": "code",
      "execution_count": 24,
      "metadata": {
        "id": "cDtTU51DF9NM",
        "colab": {
          "base_uri": "https://localhost:8080/",
          "height": 382
        },
        "outputId": "150969d6-c06c-48f3-b83a-99ddb6172c67"
      },
      "outputs": [
        {
          "output_type": "execute_result",
          "data": {
            "text/plain": [
              "            ZIP_CODE       LATITUDE      LONGITUDE  PERSONS_INJURED  \\\n",
              "count  273617.000000  273617.000000  273617.000000    273617.000000   \n",
              "mean    10898.327947      40.723670     -73.912391         0.337885   \n",
              "std       527.298094       0.080089       0.079380         0.687673   \n",
              "min     10000.000000      40.499710     -74.251860         0.000000   \n",
              "25%     10457.000000      40.666317     -73.964850         0.000000   \n",
              "50%     11209.000000      40.714622     -73.917870         0.000000   \n",
              "75%     11354.000000      40.771015     -73.865425         1.000000   \n",
              "max     11697.000000      40.912884     -73.700584        18.000000   \n",
              "\n",
              "       PERSONS_KILLED  PEDESTRIANS_INJURED  PEDESTRIANS_KILLED  \\\n",
              "count   273617.000000        273617.000000       273617.000000   \n",
              "mean         0.001473             0.066125            0.000746   \n",
              "std          0.039753             0.261305            0.027561   \n",
              "min          0.000000             0.000000            0.000000   \n",
              "25%          0.000000             0.000000            0.000000   \n",
              "50%          0.000000             0.000000            0.000000   \n",
              "75%          0.000000             0.000000            0.000000   \n",
              "max          3.000000             7.000000            2.000000   \n",
              "\n",
              "       CYCLISTS_INJURED  CYCLISTS_KILLED  MOTORIST_INJURED  MOTORIST_KILLED  \\\n",
              "count     273617.000000    273617.000000     273617.000000    273617.000000   \n",
              "mean           0.039753         0.000172          0.226430         0.000530   \n",
              "std            0.198275         0.013105          0.640495         0.024847   \n",
              "min            0.000000         0.000000          0.000000         0.000000   \n",
              "25%            0.000000         0.000000          0.000000         0.000000   \n",
              "50%            0.000000         0.000000          0.000000         0.000000   \n",
              "75%            0.000000         0.000000          0.000000         0.000000   \n",
              "max            3.000000         1.000000         18.000000         3.000000   \n",
              "\n",
              "       CRASH TIME HOUR    CRASH MONTH  CRASH WEEKDAY  \n",
              "count    273617.000000  273617.000000  273617.000000  \n",
              "mean         13.161737       6.471944       2.930399  \n",
              "std           5.847615       3.456233       1.952060  \n",
              "min           0.000000       1.000000       0.000000  \n",
              "25%           9.000000       3.000000       1.000000  \n",
              "50%          14.000000       7.000000       3.000000  \n",
              "75%          18.000000       9.000000       5.000000  \n",
              "max          23.000000      12.000000       6.000000  "
            ],
            "text/html": [
              "\n",
              "  <div id=\"df-9286ef07-ee43-4234-bae4-bb85b66b3c1f\">\n",
              "    <div class=\"colab-df-container\">\n",
              "      <div>\n",
              "<style scoped>\n",
              "    .dataframe tbody tr th:only-of-type {\n",
              "        vertical-align: middle;\n",
              "    }\n",
              "\n",
              "    .dataframe tbody tr th {\n",
              "        vertical-align: top;\n",
              "    }\n",
              "\n",
              "    .dataframe thead th {\n",
              "        text-align: right;\n",
              "    }\n",
              "</style>\n",
              "<table border=\"1\" class=\"dataframe\">\n",
              "  <thead>\n",
              "    <tr style=\"text-align: right;\">\n",
              "      <th></th>\n",
              "      <th>ZIP_CODE</th>\n",
              "      <th>LATITUDE</th>\n",
              "      <th>LONGITUDE</th>\n",
              "      <th>PERSONS_INJURED</th>\n",
              "      <th>PERSONS_KILLED</th>\n",
              "      <th>PEDESTRIANS_INJURED</th>\n",
              "      <th>PEDESTRIANS_KILLED</th>\n",
              "      <th>CYCLISTS_INJURED</th>\n",
              "      <th>CYCLISTS_KILLED</th>\n",
              "      <th>MOTORIST_INJURED</th>\n",
              "      <th>MOTORIST_KILLED</th>\n",
              "      <th>CRASH TIME HOUR</th>\n",
              "      <th>CRASH MONTH</th>\n",
              "      <th>CRASH WEEKDAY</th>\n",
              "    </tr>\n",
              "  </thead>\n",
              "  <tbody>\n",
              "    <tr>\n",
              "      <th>count</th>\n",
              "      <td>273617.000000</td>\n",
              "      <td>273617.000000</td>\n",
              "      <td>273617.000000</td>\n",
              "      <td>273617.000000</td>\n",
              "      <td>273617.000000</td>\n",
              "      <td>273617.000000</td>\n",
              "      <td>273617.000000</td>\n",
              "      <td>273617.000000</td>\n",
              "      <td>273617.000000</td>\n",
              "      <td>273617.000000</td>\n",
              "      <td>273617.000000</td>\n",
              "      <td>273617.000000</td>\n",
              "      <td>273617.000000</td>\n",
              "      <td>273617.000000</td>\n",
              "    </tr>\n",
              "    <tr>\n",
              "      <th>mean</th>\n",
              "      <td>10898.327947</td>\n",
              "      <td>40.723670</td>\n",
              "      <td>-73.912391</td>\n",
              "      <td>0.337885</td>\n",
              "      <td>0.001473</td>\n",
              "      <td>0.066125</td>\n",
              "      <td>0.000746</td>\n",
              "      <td>0.039753</td>\n",
              "      <td>0.000172</td>\n",
              "      <td>0.226430</td>\n",
              "      <td>0.000530</td>\n",
              "      <td>13.161737</td>\n",
              "      <td>6.471944</td>\n",
              "      <td>2.930399</td>\n",
              "    </tr>\n",
              "    <tr>\n",
              "      <th>std</th>\n",
              "      <td>527.298094</td>\n",
              "      <td>0.080089</td>\n",
              "      <td>0.079380</td>\n",
              "      <td>0.687673</td>\n",
              "      <td>0.039753</td>\n",
              "      <td>0.261305</td>\n",
              "      <td>0.027561</td>\n",
              "      <td>0.198275</td>\n",
              "      <td>0.013105</td>\n",
              "      <td>0.640495</td>\n",
              "      <td>0.024847</td>\n",
              "      <td>5.847615</td>\n",
              "      <td>3.456233</td>\n",
              "      <td>1.952060</td>\n",
              "    </tr>\n",
              "    <tr>\n",
              "      <th>min</th>\n",
              "      <td>10000.000000</td>\n",
              "      <td>40.499710</td>\n",
              "      <td>-74.251860</td>\n",
              "      <td>0.000000</td>\n",
              "      <td>0.000000</td>\n",
              "      <td>0.000000</td>\n",
              "      <td>0.000000</td>\n",
              "      <td>0.000000</td>\n",
              "      <td>0.000000</td>\n",
              "      <td>0.000000</td>\n",
              "      <td>0.000000</td>\n",
              "      <td>0.000000</td>\n",
              "      <td>1.000000</td>\n",
              "      <td>0.000000</td>\n",
              "    </tr>\n",
              "    <tr>\n",
              "      <th>25%</th>\n",
              "      <td>10457.000000</td>\n",
              "      <td>40.666317</td>\n",
              "      <td>-73.964850</td>\n",
              "      <td>0.000000</td>\n",
              "      <td>0.000000</td>\n",
              "      <td>0.000000</td>\n",
              "      <td>0.000000</td>\n",
              "      <td>0.000000</td>\n",
              "      <td>0.000000</td>\n",
              "      <td>0.000000</td>\n",
              "      <td>0.000000</td>\n",
              "      <td>9.000000</td>\n",
              "      <td>3.000000</td>\n",
              "      <td>1.000000</td>\n",
              "    </tr>\n",
              "    <tr>\n",
              "      <th>50%</th>\n",
              "      <td>11209.000000</td>\n",
              "      <td>40.714622</td>\n",
              "      <td>-73.917870</td>\n",
              "      <td>0.000000</td>\n",
              "      <td>0.000000</td>\n",
              "      <td>0.000000</td>\n",
              "      <td>0.000000</td>\n",
              "      <td>0.000000</td>\n",
              "      <td>0.000000</td>\n",
              "      <td>0.000000</td>\n",
              "      <td>0.000000</td>\n",
              "      <td>14.000000</td>\n",
              "      <td>7.000000</td>\n",
              "      <td>3.000000</td>\n",
              "    </tr>\n",
              "    <tr>\n",
              "      <th>75%</th>\n",
              "      <td>11354.000000</td>\n",
              "      <td>40.771015</td>\n",
              "      <td>-73.865425</td>\n",
              "      <td>1.000000</td>\n",
              "      <td>0.000000</td>\n",
              "      <td>0.000000</td>\n",
              "      <td>0.000000</td>\n",
              "      <td>0.000000</td>\n",
              "      <td>0.000000</td>\n",
              "      <td>0.000000</td>\n",
              "      <td>0.000000</td>\n",
              "      <td>18.000000</td>\n",
              "      <td>9.000000</td>\n",
              "      <td>5.000000</td>\n",
              "    </tr>\n",
              "    <tr>\n",
              "      <th>max</th>\n",
              "      <td>11697.000000</td>\n",
              "      <td>40.912884</td>\n",
              "      <td>-73.700584</td>\n",
              "      <td>18.000000</td>\n",
              "      <td>3.000000</td>\n",
              "      <td>7.000000</td>\n",
              "      <td>2.000000</td>\n",
              "      <td>3.000000</td>\n",
              "      <td>1.000000</td>\n",
              "      <td>18.000000</td>\n",
              "      <td>3.000000</td>\n",
              "      <td>23.000000</td>\n",
              "      <td>12.000000</td>\n",
              "      <td>6.000000</td>\n",
              "    </tr>\n",
              "  </tbody>\n",
              "</table>\n",
              "</div>\n",
              "      <button class=\"colab-df-convert\" onclick=\"convertToInteractive('df-9286ef07-ee43-4234-bae4-bb85b66b3c1f')\"\n",
              "              title=\"Convert this dataframe to an interactive table.\"\n",
              "              style=\"display:none;\">\n",
              "        \n",
              "  <svg xmlns=\"http://www.w3.org/2000/svg\" height=\"24px\"viewBox=\"0 0 24 24\"\n",
              "       width=\"24px\">\n",
              "    <path d=\"M0 0h24v24H0V0z\" fill=\"none\"/>\n",
              "    <path d=\"M18.56 5.44l.94 2.06.94-2.06 2.06-.94-2.06-.94-.94-2.06-.94 2.06-2.06.94zm-11 1L8.5 8.5l.94-2.06 2.06-.94-2.06-.94L8.5 2.5l-.94 2.06-2.06.94zm10 10l.94 2.06.94-2.06 2.06-.94-2.06-.94-.94-2.06-.94 2.06-2.06.94z\"/><path d=\"M17.41 7.96l-1.37-1.37c-.4-.4-.92-.59-1.43-.59-.52 0-1.04.2-1.43.59L10.3 9.45l-7.72 7.72c-.78.78-.78 2.05 0 2.83L4 21.41c.39.39.9.59 1.41.59.51 0 1.02-.2 1.41-.59l7.78-7.78 2.81-2.81c.8-.78.8-2.07 0-2.86zM5.41 20L4 18.59l7.72-7.72 1.47 1.35L5.41 20z\"/>\n",
              "  </svg>\n",
              "      </button>\n",
              "      \n",
              "  <style>\n",
              "    .colab-df-container {\n",
              "      display:flex;\n",
              "      flex-wrap:wrap;\n",
              "      gap: 12px;\n",
              "    }\n",
              "\n",
              "    .colab-df-convert {\n",
              "      background-color: #E8F0FE;\n",
              "      border: none;\n",
              "      border-radius: 50%;\n",
              "      cursor: pointer;\n",
              "      display: none;\n",
              "      fill: #1967D2;\n",
              "      height: 32px;\n",
              "      padding: 0 0 0 0;\n",
              "      width: 32px;\n",
              "    }\n",
              "\n",
              "    .colab-df-convert:hover {\n",
              "      background-color: #E2EBFA;\n",
              "      box-shadow: 0px 1px 2px rgba(60, 64, 67, 0.3), 0px 1px 3px 1px rgba(60, 64, 67, 0.15);\n",
              "      fill: #174EA6;\n",
              "    }\n",
              "\n",
              "    [theme=dark] .colab-df-convert {\n",
              "      background-color: #3B4455;\n",
              "      fill: #D2E3FC;\n",
              "    }\n",
              "\n",
              "    [theme=dark] .colab-df-convert:hover {\n",
              "      background-color: #434B5C;\n",
              "      box-shadow: 0px 1px 3px 1px rgba(0, 0, 0, 0.15);\n",
              "      filter: drop-shadow(0px 1px 2px rgba(0, 0, 0, 0.3));\n",
              "      fill: #FFFFFF;\n",
              "    }\n",
              "  </style>\n",
              "\n",
              "      <script>\n",
              "        const buttonEl =\n",
              "          document.querySelector('#df-9286ef07-ee43-4234-bae4-bb85b66b3c1f button.colab-df-convert');\n",
              "        buttonEl.style.display =\n",
              "          google.colab.kernel.accessAllowed ? 'block' : 'none';\n",
              "\n",
              "        async function convertToInteractive(key) {\n",
              "          const element = document.querySelector('#df-9286ef07-ee43-4234-bae4-bb85b66b3c1f');\n",
              "          const dataTable =\n",
              "            await google.colab.kernel.invokeFunction('convertToInteractive',\n",
              "                                                     [key], {});\n",
              "          if (!dataTable) return;\n",
              "\n",
              "          const docLinkHtml = 'Like what you see? Visit the ' +\n",
              "            '<a target=\"_blank\" href=https://colab.research.google.com/notebooks/data_table.ipynb>data table notebook</a>'\n",
              "            + ' to learn more about interactive tables.';\n",
              "          element.innerHTML = '';\n",
              "          dataTable['output_type'] = 'display_data';\n",
              "          await google.colab.output.renderOutput(dataTable, element);\n",
              "          const docLink = document.createElement('div');\n",
              "          docLink.innerHTML = docLinkHtml;\n",
              "          element.appendChild(docLink);\n",
              "        }\n",
              "      </script>\n",
              "    </div>\n",
              "  </div>\n",
              "  "
            ]
          },
          "metadata": {},
          "execution_count": 24
        }
      ],
      "source": [
        "#Find descriptive statistics for columns and look for any columns with missing values\n",
        "mva.describe()"
      ]
    },
    {
      "cell_type": "markdown",
      "metadata": {
        "id": "egK-pkd-kdqg"
      },
      "source": [
        "This boxplot confirms that the count of persons and pedestrians killed and injured in accidents have skewed distributions due to high outliers. Most accidents have injuries between 0 to 2. We need to keep this mind going forward when running a model on this data. "
      ]
    },
    {
      "cell_type": "code",
      "execution_count": 25,
      "metadata": {
        "id": "p5omKVBZF9NN",
        "scrolled": true,
        "colab": {
          "base_uri": "https://localhost:8080/",
          "height": 401
        },
        "outputId": "e9e5dd1f-4acc-4045-e6e9-1cf83fa577ec"
      },
      "outputs": [
        {
          "output_type": "execute_result",
          "data": {
            "text/plain": [
              "             CRASH DATE CRASH TIME   BOROUGH  ZIP_CODE   LATITUDE  LONGITUDE  \\\n",
              "COLLISION_ID                                                                   \n",
              "4355333      2020-10-06       3:52    QUEENS     11420  40.665490 -73.819534   \n",
              "4327676      2020-07-11      20:18  BROOKLYN     11234  40.589930 -73.900590   \n",
              "4380776      2021-01-01       4:40    QUEENS     11691  40.601368 -73.760056   \n",
              "4442158      2021-07-24      20:38    QUEENS     11434  40.656160 -73.767360   \n",
              "4369300      2020-11-20      11:45    QUEENS     11413  40.651405 -73.758896   \n",
              "\n",
              "              PERSONS_INJURED  PERSONS_KILLED  PEDESTRIANS_INJURED  \\\n",
              "COLLISION_ID                                                         \n",
              "4355333                     1               3                    0   \n",
              "4327676                     4               3                    0   \n",
              "4380776                     1               2                    0   \n",
              "4442158                     4               2                    0   \n",
              "4369300                     2               2                    0   \n",
              "\n",
              "              PEDESTRIANS_KILLED  ...                            VEHICLE_2  \\\n",
              "COLLISION_ID                      ...                                        \n",
              "4355333                        0  ...                                  NaN   \n",
              "4327676                        0  ...                                Sedan   \n",
              "4380776                        0  ...  Station Wagon/Sport Utility Vehicle   \n",
              "4442158                        0  ...                                Sedan   \n",
              "4369300                        0  ...                                  NaN   \n",
              "\n",
              "              VEHICLE_3  VEHICLE_4  VEHICLE_5 CRASH TIME HOUR CRASH MONTH  \\\n",
              "COLLISION_ID                                                                \n",
              "4355333             NaN        NaN        NaN               3          10   \n",
              "4327676             NaN        NaN        NaN              20           7   \n",
              "4380776             NaN        NaN        NaN               4           1   \n",
              "4442158             NaN        NaN        NaN              20           7   \n",
              "4369300             NaN        NaN        NaN              11          11   \n",
              "\n",
              "             CRASH WEEKDAY TOTAL_INJURED_OR_KILLED TOTAL_INJURED TOTAL_KILLED  \n",
              "COLLISION_ID                                                                   \n",
              "4355333                  1                       4             1            3  \n",
              "4327676                  5                       7             4            3  \n",
              "4380776                  4                       3             1            2  \n",
              "4442158                  5                       6             4            2  \n",
              "4369300                  4                       4             2            2  \n",
              "\n",
              "[5 rows x 30 columns]"
            ],
            "text/html": [
              "\n",
              "  <div id=\"df-d23badb3-f899-473d-996b-f9a17580fc59\">\n",
              "    <div class=\"colab-df-container\">\n",
              "      <div>\n",
              "<style scoped>\n",
              "    .dataframe tbody tr th:only-of-type {\n",
              "        vertical-align: middle;\n",
              "    }\n",
              "\n",
              "    .dataframe tbody tr th {\n",
              "        vertical-align: top;\n",
              "    }\n",
              "\n",
              "    .dataframe thead th {\n",
              "        text-align: right;\n",
              "    }\n",
              "</style>\n",
              "<table border=\"1\" class=\"dataframe\">\n",
              "  <thead>\n",
              "    <tr style=\"text-align: right;\">\n",
              "      <th></th>\n",
              "      <th>CRASH DATE</th>\n",
              "      <th>CRASH TIME</th>\n",
              "      <th>BOROUGH</th>\n",
              "      <th>ZIP_CODE</th>\n",
              "      <th>LATITUDE</th>\n",
              "      <th>LONGITUDE</th>\n",
              "      <th>PERSONS_INJURED</th>\n",
              "      <th>PERSONS_KILLED</th>\n",
              "      <th>PEDESTRIANS_INJURED</th>\n",
              "      <th>PEDESTRIANS_KILLED</th>\n",
              "      <th>...</th>\n",
              "      <th>VEHICLE_2</th>\n",
              "      <th>VEHICLE_3</th>\n",
              "      <th>VEHICLE_4</th>\n",
              "      <th>VEHICLE_5</th>\n",
              "      <th>CRASH TIME HOUR</th>\n",
              "      <th>CRASH MONTH</th>\n",
              "      <th>CRASH WEEKDAY</th>\n",
              "      <th>TOTAL_INJURED_OR_KILLED</th>\n",
              "      <th>TOTAL_INJURED</th>\n",
              "      <th>TOTAL_KILLED</th>\n",
              "    </tr>\n",
              "    <tr>\n",
              "      <th>COLLISION_ID</th>\n",
              "      <th></th>\n",
              "      <th></th>\n",
              "      <th></th>\n",
              "      <th></th>\n",
              "      <th></th>\n",
              "      <th></th>\n",
              "      <th></th>\n",
              "      <th></th>\n",
              "      <th></th>\n",
              "      <th></th>\n",
              "      <th></th>\n",
              "      <th></th>\n",
              "      <th></th>\n",
              "      <th></th>\n",
              "      <th></th>\n",
              "      <th></th>\n",
              "      <th></th>\n",
              "      <th></th>\n",
              "      <th></th>\n",
              "      <th></th>\n",
              "      <th></th>\n",
              "    </tr>\n",
              "  </thead>\n",
              "  <tbody>\n",
              "    <tr>\n",
              "      <th>4355333</th>\n",
              "      <td>2020-10-06</td>\n",
              "      <td>3:52</td>\n",
              "      <td>QUEENS</td>\n",
              "      <td>11420</td>\n",
              "      <td>40.665490</td>\n",
              "      <td>-73.819534</td>\n",
              "      <td>1</td>\n",
              "      <td>3</td>\n",
              "      <td>0</td>\n",
              "      <td>0</td>\n",
              "      <td>...</td>\n",
              "      <td>NaN</td>\n",
              "      <td>NaN</td>\n",
              "      <td>NaN</td>\n",
              "      <td>NaN</td>\n",
              "      <td>3</td>\n",
              "      <td>10</td>\n",
              "      <td>1</td>\n",
              "      <td>4</td>\n",
              "      <td>1</td>\n",
              "      <td>3</td>\n",
              "    </tr>\n",
              "    <tr>\n",
              "      <th>4327676</th>\n",
              "      <td>2020-07-11</td>\n",
              "      <td>20:18</td>\n",
              "      <td>BROOKLYN</td>\n",
              "      <td>11234</td>\n",
              "      <td>40.589930</td>\n",
              "      <td>-73.900590</td>\n",
              "      <td>4</td>\n",
              "      <td>3</td>\n",
              "      <td>0</td>\n",
              "      <td>0</td>\n",
              "      <td>...</td>\n",
              "      <td>Sedan</td>\n",
              "      <td>NaN</td>\n",
              "      <td>NaN</td>\n",
              "      <td>NaN</td>\n",
              "      <td>20</td>\n",
              "      <td>7</td>\n",
              "      <td>5</td>\n",
              "      <td>7</td>\n",
              "      <td>4</td>\n",
              "      <td>3</td>\n",
              "    </tr>\n",
              "    <tr>\n",
              "      <th>4380776</th>\n",
              "      <td>2021-01-01</td>\n",
              "      <td>4:40</td>\n",
              "      <td>QUEENS</td>\n",
              "      <td>11691</td>\n",
              "      <td>40.601368</td>\n",
              "      <td>-73.760056</td>\n",
              "      <td>1</td>\n",
              "      <td>2</td>\n",
              "      <td>0</td>\n",
              "      <td>0</td>\n",
              "      <td>...</td>\n",
              "      <td>Station Wagon/Sport Utility Vehicle</td>\n",
              "      <td>NaN</td>\n",
              "      <td>NaN</td>\n",
              "      <td>NaN</td>\n",
              "      <td>4</td>\n",
              "      <td>1</td>\n",
              "      <td>4</td>\n",
              "      <td>3</td>\n",
              "      <td>1</td>\n",
              "      <td>2</td>\n",
              "    </tr>\n",
              "    <tr>\n",
              "      <th>4442158</th>\n",
              "      <td>2021-07-24</td>\n",
              "      <td>20:38</td>\n",
              "      <td>QUEENS</td>\n",
              "      <td>11434</td>\n",
              "      <td>40.656160</td>\n",
              "      <td>-73.767360</td>\n",
              "      <td>4</td>\n",
              "      <td>2</td>\n",
              "      <td>0</td>\n",
              "      <td>0</td>\n",
              "      <td>...</td>\n",
              "      <td>Sedan</td>\n",
              "      <td>NaN</td>\n",
              "      <td>NaN</td>\n",
              "      <td>NaN</td>\n",
              "      <td>20</td>\n",
              "      <td>7</td>\n",
              "      <td>5</td>\n",
              "      <td>6</td>\n",
              "      <td>4</td>\n",
              "      <td>2</td>\n",
              "    </tr>\n",
              "    <tr>\n",
              "      <th>4369300</th>\n",
              "      <td>2020-11-20</td>\n",
              "      <td>11:45</td>\n",
              "      <td>QUEENS</td>\n",
              "      <td>11413</td>\n",
              "      <td>40.651405</td>\n",
              "      <td>-73.758896</td>\n",
              "      <td>2</td>\n",
              "      <td>2</td>\n",
              "      <td>0</td>\n",
              "      <td>0</td>\n",
              "      <td>...</td>\n",
              "      <td>NaN</td>\n",
              "      <td>NaN</td>\n",
              "      <td>NaN</td>\n",
              "      <td>NaN</td>\n",
              "      <td>11</td>\n",
              "      <td>11</td>\n",
              "      <td>4</td>\n",
              "      <td>4</td>\n",
              "      <td>2</td>\n",
              "      <td>2</td>\n",
              "    </tr>\n",
              "  </tbody>\n",
              "</table>\n",
              "<p>5 rows × 30 columns</p>\n",
              "</div>\n",
              "      <button class=\"colab-df-convert\" onclick=\"convertToInteractive('df-d23badb3-f899-473d-996b-f9a17580fc59')\"\n",
              "              title=\"Convert this dataframe to an interactive table.\"\n",
              "              style=\"display:none;\">\n",
              "        \n",
              "  <svg xmlns=\"http://www.w3.org/2000/svg\" height=\"24px\"viewBox=\"0 0 24 24\"\n",
              "       width=\"24px\">\n",
              "    <path d=\"M0 0h24v24H0V0z\" fill=\"none\"/>\n",
              "    <path d=\"M18.56 5.44l.94 2.06.94-2.06 2.06-.94-2.06-.94-.94-2.06-.94 2.06-2.06.94zm-11 1L8.5 8.5l.94-2.06 2.06-.94-2.06-.94L8.5 2.5l-.94 2.06-2.06.94zm10 10l.94 2.06.94-2.06 2.06-.94-2.06-.94-.94-2.06-.94 2.06-2.06.94z\"/><path d=\"M17.41 7.96l-1.37-1.37c-.4-.4-.92-.59-1.43-.59-.52 0-1.04.2-1.43.59L10.3 9.45l-7.72 7.72c-.78.78-.78 2.05 0 2.83L4 21.41c.39.39.9.59 1.41.59.51 0 1.02-.2 1.41-.59l7.78-7.78 2.81-2.81c.8-.78.8-2.07 0-2.86zM5.41 20L4 18.59l7.72-7.72 1.47 1.35L5.41 20z\"/>\n",
              "  </svg>\n",
              "      </button>\n",
              "      \n",
              "  <style>\n",
              "    .colab-df-container {\n",
              "      display:flex;\n",
              "      flex-wrap:wrap;\n",
              "      gap: 12px;\n",
              "    }\n",
              "\n",
              "    .colab-df-convert {\n",
              "      background-color: #E8F0FE;\n",
              "      border: none;\n",
              "      border-radius: 50%;\n",
              "      cursor: pointer;\n",
              "      display: none;\n",
              "      fill: #1967D2;\n",
              "      height: 32px;\n",
              "      padding: 0 0 0 0;\n",
              "      width: 32px;\n",
              "    }\n",
              "\n",
              "    .colab-df-convert:hover {\n",
              "      background-color: #E2EBFA;\n",
              "      box-shadow: 0px 1px 2px rgba(60, 64, 67, 0.3), 0px 1px 3px 1px rgba(60, 64, 67, 0.15);\n",
              "      fill: #174EA6;\n",
              "    }\n",
              "\n",
              "    [theme=dark] .colab-df-convert {\n",
              "      background-color: #3B4455;\n",
              "      fill: #D2E3FC;\n",
              "    }\n",
              "\n",
              "    [theme=dark] .colab-df-convert:hover {\n",
              "      background-color: #434B5C;\n",
              "      box-shadow: 0px 1px 3px 1px rgba(0, 0, 0, 0.15);\n",
              "      filter: drop-shadow(0px 1px 2px rgba(0, 0, 0, 0.3));\n",
              "      fill: #FFFFFF;\n",
              "    }\n",
              "  </style>\n",
              "\n",
              "      <script>\n",
              "        const buttonEl =\n",
              "          document.querySelector('#df-d23badb3-f899-473d-996b-f9a17580fc59 button.colab-df-convert');\n",
              "        buttonEl.style.display =\n",
              "          google.colab.kernel.accessAllowed ? 'block' : 'none';\n",
              "\n",
              "        async function convertToInteractive(key) {\n",
              "          const element = document.querySelector('#df-d23badb3-f899-473d-996b-f9a17580fc59');\n",
              "          const dataTable =\n",
              "            await google.colab.kernel.invokeFunction('convertToInteractive',\n",
              "                                                     [key], {});\n",
              "          if (!dataTable) return;\n",
              "\n",
              "          const docLinkHtml = 'Like what you see? Visit the ' +\n",
              "            '<a target=\"_blank\" href=https://colab.research.google.com/notebooks/data_table.ipynb>data table notebook</a>'\n",
              "            + ' to learn more about interactive tables.';\n",
              "          element.innerHTML = '';\n",
              "          dataTable['output_type'] = 'display_data';\n",
              "          await google.colab.output.renderOutput(dataTable, element);\n",
              "          const docLink = document.createElement('div');\n",
              "          docLink.innerHTML = docLinkHtml;\n",
              "          element.appendChild(docLink);\n",
              "        }\n",
              "      </script>\n",
              "    </div>\n",
              "  </div>\n",
              "  "
            ]
          },
          "metadata": {},
          "execution_count": 25
        }
      ],
      "source": [
        "#Create columns with a combination of injuries and deaths\n",
        "\n",
        "mva['TOTAL_INJURED_OR_KILLED'] = mva['PERSONS_INJURED'] + mva['PERSONS_KILLED']\n",
        "+ mva['PEDESTRIANS_INJURED'] + mva['PEDESTRIANS_KILLED']\n",
        "\n",
        "mva['TOTAL_INJURED'] = mva['PERSONS_INJURED'] + mva['CYCLISTS_INJURED']\n",
        "+ mva['PEDESTRIANS_INJURED'] + mva['MOTORIST_INJURED']\n",
        "\n",
        "mva['TOTAL_KILLED'] = mva['PERSONS_KILLED'] + mva['CYCLISTS_KILLED']\n",
        "+ mva['PEDESTRIANS_KILLED'] + mva['MOTORIST_KILLED']\n",
        "\n",
        "mva.head()"
      ]
    },
    {
      "cell_type": "code",
      "source": [
        "#drop columns with injuries tied to specific groups\n",
        "mva = mva.drop([\"PERSONS_INJURED\",\"PERSONS_KILLED\",\"PEDESTRIANS_INJURED\",\"PEDESTRIANS_KILLED\",\n",
        "                \"CYCLISTS_INJURED\",\"CYCLISTS_KILLED\",\"MOTORIST_INJURED\",\"MOTORIST_KILLED\"], axis=1)"
      ],
      "metadata": {
        "id": "FH7arVY3824d"
      },
      "execution_count": 26,
      "outputs": []
    },
    {
      "cell_type": "code",
      "execution_count": 27,
      "metadata": {
        "id": "6sQNRUodF9NN",
        "colab": {
          "base_uri": "https://localhost:8080/",
          "height": 280
        },
        "outputId": "70da1b43-83a3-4169-9f1a-2a99ebbcd2a2"
      },
      "outputs": [
        {
          "output_type": "display_data",
          "data": {
            "text/plain": [
              "<Figure size 432x288 with 1 Axes>"
            ],
            "image/png": "[encoded data removed]"
          },
          "metadata": {}
        }
      ],
      "source": [
        "#create a time-series line plot of the total injured people\n",
        "ax = mva.plot.line(y='TOTAL_INJURED', x=\"CRASH DATE\")\n"
      ]
    },
    {
      "cell_type": "markdown",
      "metadata": {
        "id": "D3F1HYc4kdqg"
      },
      "source": [
        "Severity Scoring \n",
        "\n",
        "When looking at motor vehicle accident-related injuries and deaths, we wanted to create a Severity Score for each accident where either injuries or deaths were present. We decided upon 3 Severity Scores levels, ranging from 1 being the least severe with no injuries or deaths in accidents and 4 being the most severe. Having a classification for the severity of the accident helps us determine later on what contributing factors are more likely to cause severe accidents. "
      ]
    },
    {
      "cell_type": "code",
      "execution_count": 28,
      "metadata": {
        "id": "oOGPCq-SF9NO",
        "scrolled": true
      },
      "outputs": [],
      "source": [
        "#Creating Severity Score function and assigning scores to accidents\n",
        "\n",
        "def severity_scoring(row):  \n",
        "    if row['TOTAL_KILLED'] >= 1.0:\n",
        "        return 4\n",
        "    elif row['TOTAL_INJURED'] > 4.0 and row['TOTAL_KILLED'] == 0.0:\n",
        "        return 4\n",
        "    elif row['TOTAL_INJURED'] > 2.0 and row['TOTAL_INJURED'] <= 4.0 and row['TOTAL_KILLED'] == 0.0:\n",
        "        return 3\n",
        "    elif row['TOTAL_INJURED'] > 0.0 and row['TOTAL_INJURED'] <= 2.0 and row['TOTAL_KILLED'] == 0.0:\n",
        "        return 2\n",
        "    elif row['TOTAL_INJURED'] == 0.0 and row['TOTAL_KILLED'] == 0.0:\n",
        "        return 1\n",
        "\n",
        "mva['SEVERITY'] = mva.apply(lambda row: severity_scoring(row), axis=1)\n"
      ]
    },
    {
      "cell_type": "code",
      "execution_count": 29,
      "metadata": {
        "id": "QZA6kdcIF9NP",
        "colab": {
          "base_uri": "https://localhost:8080/",
          "height": 382
        },
        "outputId": "8d42094b-32aa-4a29-ad79-2a77d1f7b951"
      },
      "outputs": [
        {
          "output_type": "execute_result",
          "data": {
            "text/plain": [
              "            ZIP_CODE       LATITUDE      LONGITUDE  CRASH TIME HOUR  \\\n",
              "count  273617.000000  273617.000000  273617.000000    273617.000000   \n",
              "mean    10898.327947      40.723670     -73.912391        13.161737   \n",
              "std       527.298094       0.080089       0.079380         5.847615   \n",
              "min     10000.000000      40.499710     -74.251860         0.000000   \n",
              "25%     10457.000000      40.666317     -73.964850         9.000000   \n",
              "50%     11209.000000      40.714622     -73.917870        14.000000   \n",
              "75%     11354.000000      40.771015     -73.865425        18.000000   \n",
              "max     11697.000000      40.912884     -73.700584        23.000000   \n",
              "\n",
              "         CRASH MONTH  CRASH WEEKDAY  TOTAL_INJURED_OR_KILLED  TOTAL_INJURED  \\\n",
              "count  273617.000000  273617.000000            273617.000000  273617.000000   \n",
              "mean        6.471944       2.930399                 0.339358       0.377637   \n",
              "std         3.456233       1.952060                 0.689101       0.754112   \n",
              "min         1.000000       0.000000                 0.000000       0.000000   \n",
              "25%         3.000000       1.000000                 0.000000       0.000000   \n",
              "50%         7.000000       3.000000                 0.000000       0.000000   \n",
              "75%         9.000000       5.000000                 1.000000       1.000000   \n",
              "max        12.000000       6.000000                18.000000      18.000000   \n",
              "\n",
              "        TOTAL_KILLED       SEVERITY  \n",
              "count  273617.000000  273617.000000  \n",
              "mean        0.001645       1.282928  \n",
              "std         0.045852       0.505999  \n",
              "min         0.000000       1.000000  \n",
              "25%         0.000000       1.000000  \n",
              "50%         0.000000       1.000000  \n",
              "75%         0.000000       2.000000  \n",
              "max         3.000000       4.000000  "
            ],
            "text/html": [
              "\n",
              "  <div id=\"df-d3087882-49bc-4d8e-adff-5e9842815eb3\">\n",
              "    <div class=\"colab-df-container\">\n",
              "      <div>\n",
              "<style scoped>\n",
              "    .dataframe tbody tr th:only-of-type {\n",
              "        vertical-align: middle;\n",
              "    }\n",
              "\n",
              "    .dataframe tbody tr th {\n",
              "        vertical-align: top;\n",
              "    }\n",
              "\n",
              "    .dataframe thead th {\n",
              "        text-align: right;\n",
              "    }\n",
              "</style>\n",
              "<table border=\"1\" class=\"dataframe\">\n",
              "  <thead>\n",
              "    <tr style=\"text-align: right;\">\n",
              "      <th></th>\n",
              "      <th>ZIP_CODE</th>\n",
              "      <th>LATITUDE</th>\n",
              "      <th>LONGITUDE</th>\n",
              "      <th>CRASH TIME HOUR</th>\n",
              "      <th>CRASH MONTH</th>\n",
              "      <th>CRASH WEEKDAY</th>\n",
              "      <th>TOTAL_INJURED_OR_KILLED</th>\n",
              "      <th>TOTAL_INJURED</th>\n",
              "      <th>TOTAL_KILLED</th>\n",
              "      <th>SEVERITY</th>\n",
              "    </tr>\n",
              "  </thead>\n",
              "  <tbody>\n",
              "    <tr>\n",
              "      <th>count</th>\n",
              "      <td>273617.000000</td>\n",
              "      <td>273617.000000</td>\n",
              "      <td>273617.000000</td>\n",
              "      <td>273617.000000</td>\n",
              "      <td>273617.000000</td>\n",
              "      <td>273617.000000</td>\n",
              "      <td>273617.000000</td>\n",
              "      <td>273617.000000</td>\n",
              "      <td>273617.000000</td>\n",
              "      <td>273617.000000</td>\n",
              "    </tr>\n",
              "    <tr>\n",
              "      <th>mean</th>\n",
              "      <td>10898.327947</td>\n",
              "      <td>40.723670</td>\n",
              "      <td>-73.912391</td>\n",
              "      <td>13.161737</td>\n",
              "      <td>6.471944</td>\n",
              "      <td>2.930399</td>\n",
              "      <td>0.339358</td>\n",
              "      <td>0.377637</td>\n",
              "      <td>0.001645</td>\n",
              "      <td>1.282928</td>\n",
              "    </tr>\n",
              "    <tr>\n",
              "      <th>std</th>\n",
              "      <td>527.298094</td>\n",
              "      <td>0.080089</td>\n",
              "      <td>0.079380</td>\n",
              "      <td>5.847615</td>\n",
              "      <td>3.456233</td>\n",
              "      <td>1.952060</td>\n",
              "      <td>0.689101</td>\n",
              "      <td>0.754112</td>\n",
              "      <td>0.045852</td>\n",
              "      <td>0.505999</td>\n",
              "    </tr>\n",
              "    <tr>\n",
              "      <th>min</th>\n",
              "      <td>10000.000000</td>\n",
              "      <td>40.499710</td>\n",
              "      <td>-74.251860</td>\n",
              "      <td>0.000000</td>\n",
              "      <td>1.000000</td>\n",
              "      <td>0.000000</td>\n",
              "      <td>0.000000</td>\n",
              "      <td>0.000000</td>\n",
              "      <td>0.000000</td>\n",
              "      <td>1.000000</td>\n",
              "    </tr>\n",
              "    <tr>\n",
              "      <th>25%</th>\n",
              "      <td>10457.000000</td>\n",
              "      <td>40.666317</td>\n",
              "      <td>-73.964850</td>\n",
              "      <td>9.000000</td>\n",
              "      <td>3.000000</td>\n",
              "      <td>1.000000</td>\n",
              "      <td>0.000000</td>\n",
              "      <td>0.000000</td>\n",
              "      <td>0.000000</td>\n",
              "      <td>1.000000</td>\n",
              "    </tr>\n",
              "    <tr>\n",
              "      <th>50%</th>\n",
              "      <td>11209.000000</td>\n",
              "      <td>40.714622</td>\n",
              "      <td>-73.917870</td>\n",
              "      <td>14.000000</td>\n",
              "      <td>7.000000</td>\n",
              "      <td>3.000000</td>\n",
              "      <td>0.000000</td>\n",
              "      <td>0.000000</td>\n",
              "      <td>0.000000</td>\n",
              "      <td>1.000000</td>\n",
              "    </tr>\n",
              "    <tr>\n",
              "      <th>75%</th>\n",
              "      <td>11354.000000</td>\n",
              "      <td>40.771015</td>\n",
              "      <td>-73.865425</td>\n",
              "      <td>18.000000</td>\n",
              "      <td>9.000000</td>\n",
              "      <td>5.000000</td>\n",
              "      <td>1.000000</td>\n",
              "      <td>1.000000</td>\n",
              "      <td>0.000000</td>\n",
              "      <td>2.000000</td>\n",
              "    </tr>\n",
              "    <tr>\n",
              "      <th>max</th>\n",
              "      <td>11697.000000</td>\n",
              "      <td>40.912884</td>\n",
              "      <td>-73.700584</td>\n",
              "      <td>23.000000</td>\n",
              "      <td>12.000000</td>\n",
              "      <td>6.000000</td>\n",
              "      <td>18.000000</td>\n",
              "      <td>18.000000</td>\n",
              "      <td>3.000000</td>\n",
              "      <td>4.000000</td>\n",
              "    </tr>\n",
              "  </tbody>\n",
              "</table>\n",
              "</div>\n",
              "      <button class=\"colab-df-convert\" onclick=\"convertToInteractive('df-d3087882-49bc-4d8e-adff-5e9842815eb3')\"\n",
              "              title=\"Convert this dataframe to an interactive table.\"\n",
              "              style=\"display:none;\">\n",
              "        \n",
              "  <svg xmlns=\"http://www.w3.org/2000/svg\" height=\"24px\"viewBox=\"0 0 24 24\"\n",
              "       width=\"24px\">\n",
              "    <path d=\"M0 0h24v24H0V0z\" fill=\"none\"/>\n",
              "    <path d=\"M18.56 5.44l.94 2.06.94-2.06 2.06-.94-2.06-.94-.94-2.06-.94 2.06-2.06.94zm-11 1L8.5 8.5l.94-2.06 2.06-.94-2.06-.94L8.5 2.5l-.94 2.06-2.06.94zm10 10l.94 2.06.94-2.06 2.06-.94-2.06-.94-.94-2.06-.94 2.06-2.06.94z\"/><path d=\"M17.41 7.96l-1.37-1.37c-.4-.4-.92-.59-1.43-.59-.52 0-1.04.2-1.43.59L10.3 9.45l-7.72 7.72c-.78.78-.78 2.05 0 2.83L4 21.41c.39.39.9.59 1.41.59.51 0 1.02-.2 1.41-.59l7.78-7.78 2.81-2.81c.8-.78.8-2.07 0-2.86zM5.41 20L4 18.59l7.72-7.72 1.47 1.35L5.41 20z\"/>\n",
              "  </svg>\n",
              "      </button>\n",
              "      \n",
              "  <style>\n",
              "    .colab-df-container {\n",
              "      display:flex;\n",
              "      flex-wrap:wrap;\n",
              "      gap: 12px;\n",
              "    }\n",
              "\n",
              "    .colab-df-convert {\n",
              "      background-color: #E8F0FE;\n",
              "      border: none;\n",
              "      border-radius: 50%;\n",
              "      cursor: pointer;\n",
              "      display: none;\n",
              "      fill: #1967D2;\n",
              "      height: 32px;\n",
              "      padding: 0 0 0 0;\n",
              "      width: 32px;\n",
              "    }\n",
              "\n",
              "    .colab-df-convert:hover {\n",
              "      background-color: #E2EBFA;\n",
              "      box-shadow: 0px 1px 2px rgba(60, 64, 67, 0.3), 0px 1px 3px 1px rgba(60, 64, 67, 0.15);\n",
              "      fill: #174EA6;\n",
              "    }\n",
              "\n",
              "    [theme=dark] .colab-df-convert {\n",
              "      background-color: #3B4455;\n",
              "      fill: #D2E3FC;\n",
              "    }\n",
              "\n",
              "    [theme=dark] .colab-df-convert:hover {\n",
              "      background-color: #434B5C;\n",
              "      box-shadow: 0px 1px 3px 1px rgba(0, 0, 0, 0.15);\n",
              "      filter: drop-shadow(0px 1px 2px rgba(0, 0, 0, 0.3));\n",
              "      fill: #FFFFFF;\n",
              "    }\n",
              "  </style>\n",
              "\n",
              "      <script>\n",
              "        const buttonEl =\n",
              "          document.querySelector('#df-d3087882-49bc-4d8e-adff-5e9842815eb3 button.colab-df-convert');\n",
              "        buttonEl.style.display =\n",
              "          google.colab.kernel.accessAllowed ? 'block' : 'none';\n",
              "\n",
              "        async function convertToInteractive(key) {\n",
              "          const element = document.querySelector('#df-d3087882-49bc-4d8e-adff-5e9842815eb3');\n",
              "          const dataTable =\n",
              "            await google.colab.kernel.invokeFunction('convertToInteractive',\n",
              "                                                     [key], {});\n",
              "          if (!dataTable) return;\n",
              "\n",
              "          const docLinkHtml = 'Like what you see? Visit the ' +\n",
              "            '<a target=\"_blank\" href=https://colab.research.google.com/notebooks/data_table.ipynb>data table notebook</a>'\n",
              "            + ' to learn more about interactive tables.';\n",
              "          element.innerHTML = '';\n",
              "          dataTable['output_type'] = 'display_data';\n",
              "          await google.colab.output.renderOutput(dataTable, element);\n",
              "          const docLink = document.createElement('div');\n",
              "          docLink.innerHTML = docLinkHtml;\n",
              "          element.appendChild(docLink);\n",
              "        }\n",
              "      </script>\n",
              "    </div>\n",
              "  </div>\n",
              "  "
            ]
          },
          "metadata": {},
          "execution_count": 29
        }
      ],
      "source": [
        "mva.describe()"
      ]
    },
    {
      "cell_type": "code",
      "execution_count": 30,
      "metadata": {
        "id": "pC22gxFEkdqh",
        "colab": {
          "base_uri": "https://localhost:8080/"
        },
        "outputId": "7932c436-720b-4400-f930-fb0774084da6"
      },
      "outputs": [
        {
          "output_type": "execute_result",
          "data": {
            "text/plain": [
              "1    202482\n",
              "2     65849\n",
              "3      4293\n",
              "4       993\n",
              "Name: SEVERITY, dtype: int64"
            ]
          },
          "metadata": {},
          "execution_count": 30
        }
      ],
      "source": [
        "mva['SEVERITY'].value_counts()"
      ]
    },
    {
      "cell_type": "code",
      "execution_count": 31,
      "metadata": {
        "id": "qy0vZxUkF9NP",
        "scrolled": true,
        "colab": {
          "base_uri": "https://localhost:8080/",
          "height": 318
        },
        "outputId": "3697f40a-1112-49c5-ac97-7a034d163d89"
      },
      "outputs": [
        {
          "output_type": "execute_result",
          "data": {
            "text/plain": [
              "array([[<matplotlib.axes._subplots.AxesSubplot object at 0x7f7703830190>]],\n",
              "      dtype=object)"
            ]
          },
          "metadata": {},
          "execution_count": 31
        },
        {
          "output_type": "display_data",
          "data": {
            "text/plain": [
              "<Figure size 432x288 with 1 Axes>"
            ],
            "image/png": "[encoded data removed]"
          },
          "metadata": {}
        }
      ],
      "source": [
        "mva.hist(column=\"SEVERITY\")"
      ]
    },
    {
      "cell_type": "code",
      "source": [
        "mva.dtypes"
      ],
      "metadata": {
        "id": "3sDoVaTIwd9m",
        "colab": {
          "base_uri": "https://localhost:8080/"
        },
        "outputId": "34453b5e-6d1c-4cf2-ebd1-d2e4204de6a7"
      },
      "execution_count": 32,
      "outputs": [
        {
          "output_type": "execute_result",
          "data": {
            "text/plain": [
              "CRASH DATE                 datetime64[ns]\n",
              "CRASH TIME                         object\n",
              "BOROUGH                            object\n",
              "ZIP_CODE                            int64\n",
              "LATITUDE                          float64\n",
              "LONGITUDE                         float64\n",
              "FACTOR_1                           object\n",
              "FACTOR_2                           object\n",
              "FACTOR_3                           object\n",
              "FACTOR_4                           object\n",
              "FACTOR_5                           object\n",
              "VEHICLE_1                          object\n",
              "VEHICLE_2                          object\n",
              "VEHICLE_3                          object\n",
              "VEHICLE_4                          object\n",
              "VEHICLE_5                          object\n",
              "CRASH TIME HOUR                     int64\n",
              "CRASH MONTH                         int64\n",
              "CRASH WEEKDAY                       int64\n",
              "TOTAL_INJURED_OR_KILLED             int64\n",
              "TOTAL_INJURED                       int64\n",
              "TOTAL_KILLED                        int64\n",
              "SEVERITY                            int64\n",
              "dtype: object"
            ]
          },
          "metadata": {},
          "execution_count": 32
        }
      ]
    },
    {
      "cell_type": "code",
      "execution_count": 33,
      "metadata": {
        "id": "nxj58mQhF9NQ",
        "colab": {
          "base_uri": "https://localhost:8080/",
          "height": 643
        },
        "outputId": "41f4b2ad-1b5f-4621-e270-4e625bfab821"
      },
      "outputs": [
        {
          "output_type": "execute_result",
          "data": {
            "text/plain": [
              "array([[<matplotlib.axes._subplots.AxesSubplot object at 0x7f770385ef10>,\n",
              "        <matplotlib.axes._subplots.AxesSubplot object at 0x7f7703e1a250>,\n",
              "        <matplotlib.axes._subplots.AxesSubplot object at 0x7f7703e82e10>,\n",
              "        <matplotlib.axes._subplots.AxesSubplot object at 0x7f77037829d0>],\n",
              "       [<matplotlib.axes._subplots.AxesSubplot object at 0x7f76fd9d4690>,\n",
              "        <matplotlib.axes._subplots.AxesSubplot object at 0x7f76feabcc90>,\n",
              "        <matplotlib.axes._subplots.AxesSubplot object at 0x7f76fd4f9350>,\n",
              "        <matplotlib.axes._subplots.AxesSubplot object at 0x7f76fd87d890>],\n",
              "       [<matplotlib.axes._subplots.AxesSubplot object at 0x7f76fd87d8d0>,\n",
              "        <matplotlib.axes._subplots.AxesSubplot object at 0x7f76fd952fd0>,\n",
              "        <matplotlib.axes._subplots.AxesSubplot object at 0x7f76ff6d0b10>,\n",
              "        <matplotlib.axes._subplots.AxesSubplot object at 0x7f76fd20d150>],\n",
              "       [<matplotlib.axes._subplots.AxesSubplot object at 0x7f76fd12e750>,\n",
              "        <matplotlib.axes._subplots.AxesSubplot object at 0x7f76fd14fd50>,\n",
              "        <matplotlib.axes._subplots.AxesSubplot object at 0x7f76fd298390>,\n",
              "        <matplotlib.axes._subplots.AxesSubplot object at 0x7f76fd3e3990>]],\n",
              "      dtype=object)"
            ]
          },
          "metadata": {},
          "execution_count": 33
        },
        {
          "output_type": "display_data",
          "data": {
            "text/plain": [
              "<Figure size 432x288 with 16 Axes>"
            ],
            "image/png": "[encoded data removed]"
          },
          "metadata": {}
        }
      ],
      "source": [
        "# Create a scatter matrix - make it prettier\n",
        "pd.plotting.scatter_matrix(mva.iloc[:,19:])"
      ]
    },
    {
      "cell_type": "code",
      "source": [
        "#Creating scatterplot plotting accidents by severity levels 2 or higher - make fig size bigger and change cmap\n",
        "mva_severe = mva[mva['SEVERITY'] > 1]\n",
        "mva_severe.plot(kind='scatter', x='LONGITUDE', y='LATITUDE', alpha=0.5,\n",
        "         c=\"SEVERITY\", cmap=plt.get_cmap(\"jet\"), colorbar=True, sharex=False)\n",
        "         \n",
        "plt.legend()"
      ],
      "metadata": {
        "id": "GVF1S8rW4_IS",
        "colab": {
          "base_uri": "https://localhost:8080/",
          "height": 322
        },
        "outputId": "73ef7a29-8a48-48cb-882d-fdff5328b09c"
      },
      "execution_count": 34,
      "outputs": [
        {
          "output_type": "stream",
          "name": "stderr",
          "text": [
            "WARNING:matplotlib.legend:No handles with labels found to put in legend.\n"
          ]
        },
        {
          "output_type": "execute_result",
          "data": {
            "text/plain": [
              "<matplotlib.legend.Legend at 0x7f76fd2c4150>"
            ]
          },
          "metadata": {},
          "execution_count": 34
        },
        {
          "output_type": "display_data",
          "data": {
            "text/plain": [
              "<Figure size 432x288 with 2 Axes>"
            ],
            "image/png": "[encoded data removed]"
          },
          "metadata": {}
        }
      ]
    },
    {
      "cell_type": "code",
      "execution_count": 35,
      "metadata": {
        "id": "PJzlRpzLF9NR",
        "colab": {
          "base_uri": "https://localhost:8080/",
          "height": 429
        },
        "outputId": "df114e14-a193-4711-c235-833a45613a07"
      },
      "outputs": [
        {
          "output_type": "execute_result",
          "data": {
            "text/plain": [
              "<matplotlib.legend.Legend at 0x7f770147f750>"
            ]
          },
          "metadata": {},
          "execution_count": 35
        },
        {
          "output_type": "display_data",
          "data": {
            "text/plain": [
              "<Figure size 504x504 with 1 Axes>"
            ],
            "image/png": "[encoded data removed]"
          },
          "metadata": {}
        }
      ],
      "source": [
        "#PIE Chart of Total Injured vs Total Injured\n",
        "\n",
        "injuries = mva[['TOTAL_KILLED', 'TOTAL_INJURED']].sum()\n",
        "\n",
        "injuries.plot(kind='pie',figsize=(7,7), colors=['green','red'], labels=None)\n",
        "plt.legend(labels=['Total Killed', 'Total Injured'])"
      ]
    },
    {
      "cell_type": "markdown",
      "metadata": {
        "id": "I2W7SNxWF9NT"
      },
      "source": [
        "### Contributing Factors\n",
        "\n"
      ]
    },
    {
      "cell_type": "code",
      "execution_count": 36,
      "metadata": {
        "id": "jyTy6r3iF9NU",
        "colab": {
          "base_uri": "https://localhost:8080/",
          "height": 435
        },
        "outputId": "4ef031ec-54f6-4bfe-e268-d7b00199f37a"
      },
      "outputs": [
        {
          "output_type": "execute_result",
          "data": {
            "text/plain": [
              "             CRASH DATE CRASH TIME   BOROUGH  ZIP_CODE   LATITUDE  LONGITUDE  \\\n",
              "COLLISION_ID                                                                   \n",
              "4355333      2020-10-06       3:52    QUEENS     11420  40.665490 -73.819534   \n",
              "4327676      2020-07-11      20:18  BROOKLYN     11234  40.589930 -73.900590   \n",
              "4380776      2021-01-01       4:40    QUEENS     11691  40.601368 -73.760056   \n",
              "4442158      2021-07-24      20:38    QUEENS     11434  40.656160 -73.767360   \n",
              "4369300      2020-11-20      11:45    QUEENS     11413  40.651405 -73.758896   \n",
              "\n",
              "                                    FACTOR_1                       FACTOR_2  \\\n",
              "COLLISION_ID                                                                  \n",
              "4355333                         Unsafe Speed                            NaN   \n",
              "4327676                  Driver Inexperience            Driver Inexperience   \n",
              "4380776                         Unsafe Speed                    Unspecified   \n",
              "4442158                         Unsafe Speed  Failure to Yield Right-of-Way   \n",
              "4369300       Driver Inattention/Distraction                            NaN   \n",
              "\n",
              "             FACTOR_3 FACTOR_4  ... VEHICLE_3 VEHICLE_4 VEHICLE_5  \\\n",
              "COLLISION_ID                    ...                                 \n",
              "4355333           NaN      NaN  ...       NaN       NaN       NaN   \n",
              "4327676           NaN      NaN  ...       NaN       NaN       NaN   \n",
              "4380776           NaN      NaN  ...       NaN       NaN       NaN   \n",
              "4442158           NaN      NaN  ...       NaN       NaN       NaN   \n",
              "4369300           NaN      NaN  ...       NaN       NaN       NaN   \n",
              "\n",
              "             CRASH TIME HOUR CRASH MONTH CRASH WEEKDAY  \\\n",
              "COLLISION_ID                                             \n",
              "4355333                    3          10             1   \n",
              "4327676                   20           7             5   \n",
              "4380776                    4           1             4   \n",
              "4442158                   20           7             5   \n",
              "4369300                   11          11             4   \n",
              "\n",
              "              TOTAL_INJURED_OR_KILLED  TOTAL_INJURED  TOTAL_KILLED  SEVERITY  \n",
              "COLLISION_ID                                                                  \n",
              "4355333                             4              1             3         4  \n",
              "4327676                             7              4             3         4  \n",
              "4380776                             3              1             2         4  \n",
              "4442158                             6              4             2         4  \n",
              "4369300                             4              2             2         4  \n",
              "\n",
              "[5 rows x 23 columns]"
            ],
            "text/html": [
              "\n",
              "  <div id=\"df-703784ec-d38a-4109-89da-5b67e06a579d\">\n",
              "    <div class=\"colab-df-container\">\n",
              "      <div>\n",
              "<style scoped>\n",
              "    .dataframe tbody tr th:only-of-type {\n",
              "        vertical-align: middle;\n",
              "    }\n",
              "\n",
              "    .dataframe tbody tr th {\n",
              "        vertical-align: top;\n",
              "    }\n",
              "\n",
              "    .dataframe thead th {\n",
              "        text-align: right;\n",
              "    }\n",
              "</style>\n",
              "<table border=\"1\" class=\"dataframe\">\n",
              "  <thead>\n",
              "    <tr style=\"text-align: right;\">\n",
              "      <th></th>\n",
              "      <th>CRASH DATE</th>\n",
              "      <th>CRASH TIME</th>\n",
              "      <th>BOROUGH</th>\n",
              "      <th>ZIP_CODE</th>\n",
              "      <th>LATITUDE</th>\n",
              "      <th>LONGITUDE</th>\n",
              "      <th>FACTOR_1</th>\n",
              "      <th>FACTOR_2</th>\n",
              "      <th>FACTOR_3</th>\n",
              "      <th>FACTOR_4</th>\n",
              "      <th>...</th>\n",
              "      <th>VEHICLE_3</th>\n",
              "      <th>VEHICLE_4</th>\n",
              "      <th>VEHICLE_5</th>\n",
              "      <th>CRASH TIME HOUR</th>\n",
              "      <th>CRASH MONTH</th>\n",
              "      <th>CRASH WEEKDAY</th>\n",
              "      <th>TOTAL_INJURED_OR_KILLED</th>\n",
              "      <th>TOTAL_INJURED</th>\n",
              "      <th>TOTAL_KILLED</th>\n",
              "      <th>SEVERITY</th>\n",
              "    </tr>\n",
              "    <tr>\n",
              "      <th>COLLISION_ID</th>\n",
              "      <th></th>\n",
              "      <th></th>\n",
              "      <th></th>\n",
              "      <th></th>\n",
              "      <th></th>\n",
              "      <th></th>\n",
              "      <th></th>\n",
              "      <th></th>\n",
              "      <th></th>\n",
              "      <th></th>\n",
              "      <th></th>\n",
              "      <th></th>\n",
              "      <th></th>\n",
              "      <th></th>\n",
              "      <th></th>\n",
              "      <th></th>\n",
              "      <th></th>\n",
              "      <th></th>\n",
              "      <th></th>\n",
              "      <th></th>\n",
              "      <th></th>\n",
              "    </tr>\n",
              "  </thead>\n",
              "  <tbody>\n",
              "    <tr>\n",
              "      <th>4355333</th>\n",
              "      <td>2020-10-06</td>\n",
              "      <td>3:52</td>\n",
              "      <td>QUEENS</td>\n",
              "      <td>11420</td>\n",
              "      <td>40.665490</td>\n",
              "      <td>-73.819534</td>\n",
              "      <td>Unsafe Speed</td>\n",
              "      <td>NaN</td>\n",
              "      <td>NaN</td>\n",
              "      <td>NaN</td>\n",
              "      <td>...</td>\n",
              "      <td>NaN</td>\n",
              "      <td>NaN</td>\n",
              "      <td>NaN</td>\n",
              "      <td>3</td>\n",
              "      <td>10</td>\n",
              "      <td>1</td>\n",
              "      <td>4</td>\n",
              "      <td>1</td>\n",
              "      <td>3</td>\n",
              "      <td>4</td>\n",
              "    </tr>\n",
              "    <tr>\n",
              "      <th>4327676</th>\n",
              "      <td>2020-07-11</td>\n",
              "      <td>20:18</td>\n",
              "      <td>BROOKLYN</td>\n",
              "      <td>11234</td>\n",
              "      <td>40.589930</td>\n",
              "      <td>-73.900590</td>\n",
              "      <td>Driver Inexperience</td>\n",
              "      <td>Driver Inexperience</td>\n",
              "      <td>NaN</td>\n",
              "      <td>NaN</td>\n",
              "      <td>...</td>\n",
              "      <td>NaN</td>\n",
              "      <td>NaN</td>\n",
              "      <td>NaN</td>\n",
              "      <td>20</td>\n",
              "      <td>7</td>\n",
              "      <td>5</td>\n",
              "      <td>7</td>\n",
              "      <td>4</td>\n",
              "      <td>3</td>\n",
              "      <td>4</td>\n",
              "    </tr>\n",
              "    <tr>\n",
              "      <th>4380776</th>\n",
              "      <td>2021-01-01</td>\n",
              "      <td>4:40</td>\n",
              "      <td>QUEENS</td>\n",
              "      <td>11691</td>\n",
              "      <td>40.601368</td>\n",
              "      <td>-73.760056</td>\n",
              "      <td>Unsafe Speed</td>\n",
              "      <td>Unspecified</td>\n",
              "      <td>NaN</td>\n",
              "      <td>NaN</td>\n",
              "      <td>...</td>\n",
              "      <td>NaN</td>\n",
              "      <td>NaN</td>\n",
              "      <td>NaN</td>\n",
              "      <td>4</td>\n",
              "      <td>1</td>\n",
              "      <td>4</td>\n",
              "      <td>3</td>\n",
              "      <td>1</td>\n",
              "      <td>2</td>\n",
              "      <td>4</td>\n",
              "    </tr>\n",
              "    <tr>\n",
              "      <th>4442158</th>\n",
              "      <td>2021-07-24</td>\n",
              "      <td>20:38</td>\n",
              "      <td>QUEENS</td>\n",
              "      <td>11434</td>\n",
              "      <td>40.656160</td>\n",
              "      <td>-73.767360</td>\n",
              "      <td>Unsafe Speed</td>\n",
              "      <td>Failure to Yield Right-of-Way</td>\n",
              "      <td>NaN</td>\n",
              "      <td>NaN</td>\n",
              "      <td>...</td>\n",
              "      <td>NaN</td>\n",
              "      <td>NaN</td>\n",
              "      <td>NaN</td>\n",
              "      <td>20</td>\n",
              "      <td>7</td>\n",
              "      <td>5</td>\n",
              "      <td>6</td>\n",
              "      <td>4</td>\n",
              "      <td>2</td>\n",
              "      <td>4</td>\n",
              "    </tr>\n",
              "    <tr>\n",
              "      <th>4369300</th>\n",
              "      <td>2020-11-20</td>\n",
              "      <td>11:45</td>\n",
              "      <td>QUEENS</td>\n",
              "      <td>11413</td>\n",
              "      <td>40.651405</td>\n",
              "      <td>-73.758896</td>\n",
              "      <td>Driver Inattention/Distraction</td>\n",
              "      <td>NaN</td>\n",
              "      <td>NaN</td>\n",
              "      <td>NaN</td>\n",
              "      <td>...</td>\n",
              "      <td>NaN</td>\n",
              "      <td>NaN</td>\n",
              "      <td>NaN</td>\n",
              "      <td>11</td>\n",
              "      <td>11</td>\n",
              "      <td>4</td>\n",
              "      <td>4</td>\n",
              "      <td>2</td>\n",
              "      <td>2</td>\n",
              "      <td>4</td>\n",
              "    </tr>\n",
              "  </tbody>\n",
              "</table>\n",
              "<p>5 rows × 23 columns</p>\n",
              "</div>\n",
              "      <button class=\"colab-df-convert\" onclick=\"convertToInteractive('df-703784ec-d38a-4109-89da-5b67e06a579d')\"\n",
              "              title=\"Convert this dataframe to an interactive table.\"\n",
              "              style=\"display:none;\">\n",
              "        \n",
              "  <svg xmlns=\"http://www.w3.org/2000/svg\" height=\"24px\"viewBox=\"0 0 24 24\"\n",
              "       width=\"24px\">\n",
              "    <path d=\"M0 0h24v24H0V0z\" fill=\"none\"/>\n",
              "    <path d=\"M18.56 5.44l.94 2.06.94-2.06 2.06-.94-2.06-.94-.94-2.06-.94 2.06-2.06.94zm-11 1L8.5 8.5l.94-2.06 2.06-.94-2.06-.94L8.5 2.5l-.94 2.06-2.06.94zm10 10l.94 2.06.94-2.06 2.06-.94-2.06-.94-.94-2.06-.94 2.06-2.06.94z\"/><path d=\"M17.41 7.96l-1.37-1.37c-.4-.4-.92-.59-1.43-.59-.52 0-1.04.2-1.43.59L10.3 9.45l-7.72 7.72c-.78.78-.78 2.05 0 2.83L4 21.41c.39.39.9.59 1.41.59.51 0 1.02-.2 1.41-.59l7.78-7.78 2.81-2.81c.8-.78.8-2.07 0-2.86zM5.41 20L4 18.59l7.72-7.72 1.47 1.35L5.41 20z\"/>\n",
              "  </svg>\n",
              "      </button>\n",
              "      \n",
              "  <style>\n",
              "    .colab-df-container {\n",
              "      display:flex;\n",
              "      flex-wrap:wrap;\n",
              "      gap: 12px;\n",
              "    }\n",
              "\n",
              "    .colab-df-convert {\n",
              "      background-color: #E8F0FE;\n",
              "      border: none;\n",
              "      border-radius: 50%;\n",
              "      cursor: pointer;\n",
              "      display: none;\n",
              "      fill: #1967D2;\n",
              "      height: 32px;\n",
              "      padding: 0 0 0 0;\n",
              "      width: 32px;\n",
              "    }\n",
              "\n",
              "    .colab-df-convert:hover {\n",
              "      background-color: #E2EBFA;\n",
              "      box-shadow: 0px 1px 2px rgba(60, 64, 67, 0.3), 0px 1px 3px 1px rgba(60, 64, 67, 0.15);\n",
              "      fill: #174EA6;\n",
              "    }\n",
              "\n",
              "    [theme=dark] .colab-df-convert {\n",
              "      background-color: #3B4455;\n",
              "      fill: #D2E3FC;\n",
              "    }\n",
              "\n",
              "    [theme=dark] .colab-df-convert:hover {\n",
              "      background-color: #434B5C;\n",
              "      box-shadow: 0px 1px 3px 1px rgba(0, 0, 0, 0.15);\n",
              "      filter: drop-shadow(0px 1px 2px rgba(0, 0, 0, 0.3));\n",
              "      fill: #FFFFFF;\n",
              "    }\n",
              "  </style>\n",
              "\n",
              "      <script>\n",
              "        const buttonEl =\n",
              "          document.querySelector('#df-703784ec-d38a-4109-89da-5b67e06a579d button.colab-df-convert');\n",
              "        buttonEl.style.display =\n",
              "          google.colab.kernel.accessAllowed ? 'block' : 'none';\n",
              "\n",
              "        async function convertToInteractive(key) {\n",
              "          const element = document.querySelector('#df-703784ec-d38a-4109-89da-5b67e06a579d');\n",
              "          const dataTable =\n",
              "            await google.colab.kernel.invokeFunction('convertToInteractive',\n",
              "                                                     [key], {});\n",
              "          if (!dataTable) return;\n",
              "\n",
              "          const docLinkHtml = 'Like what you see? Visit the ' +\n",
              "            '<a target=\"_blank\" href=https://colab.research.google.com/notebooks/data_table.ipynb>data table notebook</a>'\n",
              "            + ' to learn more about interactive tables.';\n",
              "          element.innerHTML = '';\n",
              "          dataTable['output_type'] = 'display_data';\n",
              "          await google.colab.output.renderOutput(dataTable, element);\n",
              "          const docLink = document.createElement('div');\n",
              "          docLink.innerHTML = docLinkHtml;\n",
              "          element.appendChild(docLink);\n",
              "        }\n",
              "      </script>\n",
              "    </div>\n",
              "  </div>\n",
              "  "
            ]
          },
          "metadata": {},
          "execution_count": 36
        }
      ],
      "source": [
        "mva.head()"
      ]
    },
    {
      "cell_type": "code",
      "execution_count": 37,
      "metadata": {
        "id": "IJjEMpQjF9NU",
        "colab": {
          "base_uri": "https://localhost:8080/",
          "height": 395
        },
        "outputId": "2ee8d1d3-7d18-4941-acb8-ef53878dee37"
      },
      "outputs": [
        {
          "output_type": "execute_result",
          "data": {
            "text/plain": [
              "                                COLLISION_ID  variable\n",
              "value                                                 \n",
              "Unspecified                           286671    286671\n",
              "Driver Inattention/Distraction         82256     82256\n",
              "Failure to Yield Right-of-Way          22324     22324\n",
              "Following Too Closely                  15900     15900\n",
              "Backing Unsafely                       13876     13876\n",
              "Passing Too Closely                    13391     13391\n",
              "Passing or Lane Usage Improper         13129     13129\n",
              "Other Vehicular                        11740     11740\n",
              "Traffic Control Disregarded             7113      7113\n",
              "Turning Improperly                      6720      6720"
            ],
            "text/html": [
              "\n",
              "  <div id=\"df-b4690967-2aab-41f9-9cb0-ce74e0678178\">\n",
              "    <div class=\"colab-df-container\">\n",
              "      <div>\n",
              "<style scoped>\n",
              "    .dataframe tbody tr th:only-of-type {\n",
              "        vertical-align: middle;\n",
              "    }\n",
              "\n",
              "    .dataframe tbody tr th {\n",
              "        vertical-align: top;\n",
              "    }\n",
              "\n",
              "    .dataframe thead th {\n",
              "        text-align: right;\n",
              "    }\n",
              "</style>\n",
              "<table border=\"1\" class=\"dataframe\">\n",
              "  <thead>\n",
              "    <tr style=\"text-align: right;\">\n",
              "      <th></th>\n",
              "      <th>COLLISION_ID</th>\n",
              "      <th>variable</th>\n",
              "    </tr>\n",
              "    <tr>\n",
              "      <th>value</th>\n",
              "      <th></th>\n",
              "      <th></th>\n",
              "    </tr>\n",
              "  </thead>\n",
              "  <tbody>\n",
              "    <tr>\n",
              "      <th>Unspecified</th>\n",
              "      <td>286671</td>\n",
              "      <td>286671</td>\n",
              "    </tr>\n",
              "    <tr>\n",
              "      <th>Driver Inattention/Distraction</th>\n",
              "      <td>82256</td>\n",
              "      <td>82256</td>\n",
              "    </tr>\n",
              "    <tr>\n",
              "      <th>Failure to Yield Right-of-Way</th>\n",
              "      <td>22324</td>\n",
              "      <td>22324</td>\n",
              "    </tr>\n",
              "    <tr>\n",
              "      <th>Following Too Closely</th>\n",
              "      <td>15900</td>\n",
              "      <td>15900</td>\n",
              "    </tr>\n",
              "    <tr>\n",
              "      <th>Backing Unsafely</th>\n",
              "      <td>13876</td>\n",
              "      <td>13876</td>\n",
              "    </tr>\n",
              "    <tr>\n",
              "      <th>Passing Too Closely</th>\n",
              "      <td>13391</td>\n",
              "      <td>13391</td>\n",
              "    </tr>\n",
              "    <tr>\n",
              "      <th>Passing or Lane Usage Improper</th>\n",
              "      <td>13129</td>\n",
              "      <td>13129</td>\n",
              "    </tr>\n",
              "    <tr>\n",
              "      <th>Other Vehicular</th>\n",
              "      <td>11740</td>\n",
              "      <td>11740</td>\n",
              "    </tr>\n",
              "    <tr>\n",
              "      <th>Traffic Control Disregarded</th>\n",
              "      <td>7113</td>\n",
              "      <td>7113</td>\n",
              "    </tr>\n",
              "    <tr>\n",
              "      <th>Turning Improperly</th>\n",
              "      <td>6720</td>\n",
              "      <td>6720</td>\n",
              "    </tr>\n",
              "  </tbody>\n",
              "</table>\n",
              "</div>\n",
              "      <button class=\"colab-df-convert\" onclick=\"convertToInteractive('df-b4690967-2aab-41f9-9cb0-ce74e0678178')\"\n",
              "              title=\"Convert this dataframe to an interactive table.\"\n",
              "              style=\"display:none;\">\n",
              "        \n",
              "  <svg xmlns=\"http://www.w3.org/2000/svg\" height=\"24px\"viewBox=\"0 0 24 24\"\n",
              "       width=\"24px\">\n",
              "    <path d=\"M0 0h24v24H0V0z\" fill=\"none\"/>\n",
              "    <path d=\"M18.56 5.44l.94 2.06.94-2.06 2.06-.94-2.06-.94-.94-2.06-.94 2.06-2.06.94zm-11 1L8.5 8.5l.94-2.06 2.06-.94-2.06-.94L8.5 2.5l-.94 2.06-2.06.94zm10 10l.94 2.06.94-2.06 2.06-.94-2.06-.94-.94-2.06-.94 2.06-2.06.94z\"/><path d=\"M17.41 7.96l-1.37-1.37c-.4-.4-.92-.59-1.43-.59-.52 0-1.04.2-1.43.59L10.3 9.45l-7.72 7.72c-.78.78-.78 2.05 0 2.83L4 21.41c.39.39.9.59 1.41.59.51 0 1.02-.2 1.41-.59l7.78-7.78 2.81-2.81c.8-.78.8-2.07 0-2.86zM5.41 20L4 18.59l7.72-7.72 1.47 1.35L5.41 20z\"/>\n",
              "  </svg>\n",
              "      </button>\n",
              "      \n",
              "  <style>\n",
              "    .colab-df-container {\n",
              "      display:flex;\n",
              "      flex-wrap:wrap;\n",
              "      gap: 12px;\n",
              "    }\n",
              "\n",
              "    .colab-df-convert {\n",
              "      background-color: #E8F0FE;\n",
              "      border: none;\n",
              "      border-radius: 50%;\n",
              "      cursor: pointer;\n",
              "      display: none;\n",
              "      fill: #1967D2;\n",
              "      height: 32px;\n",
              "      padding: 0 0 0 0;\n",
              "      width: 32px;\n",
              "    }\n",
              "\n",
              "    .colab-df-convert:hover {\n",
              "      background-color: #E2EBFA;\n",
              "      box-shadow: 0px 1px 2px rgba(60, 64, 67, 0.3), 0px 1px 3px 1px rgba(60, 64, 67, 0.15);\n",
              "      fill: #174EA6;\n",
              "    }\n",
              "\n",
              "    [theme=dark] .colab-df-convert {\n",
              "      background-color: #3B4455;\n",
              "      fill: #D2E3FC;\n",
              "    }\n",
              "\n",
              "    [theme=dark] .colab-df-convert:hover {\n",
              "      background-color: #434B5C;\n",
              "      box-shadow: 0px 1px 3px 1px rgba(0, 0, 0, 0.15);\n",
              "      filter: drop-shadow(0px 1px 2px rgba(0, 0, 0, 0.3));\n",
              "      fill: #FFFFFF;\n",
              "    }\n",
              "  </style>\n",
              "\n",
              "      <script>\n",
              "        const buttonEl =\n",
              "          document.querySelector('#df-b4690967-2aab-41f9-9cb0-ce74e0678178 button.colab-df-convert');\n",
              "        buttonEl.style.display =\n",
              "          google.colab.kernel.accessAllowed ? 'block' : 'none';\n",
              "\n",
              "        async function convertToInteractive(key) {\n",
              "          const element = document.querySelector('#df-b4690967-2aab-41f9-9cb0-ce74e0678178');\n",
              "          const dataTable =\n",
              "            await google.colab.kernel.invokeFunction('convertToInteractive',\n",
              "                                                     [key], {});\n",
              "          if (!dataTable) return;\n",
              "\n",
              "          const docLinkHtml = 'Like what you see? Visit the ' +\n",
              "            '<a target=\"_blank\" href=https://colab.research.google.com/notebooks/data_table.ipynb>data table notebook</a>'\n",
              "            + ' to learn more about interactive tables.';\n",
              "          element.innerHTML = '';\n",
              "          dataTable['output_type'] = 'display_data';\n",
              "          await google.colab.output.renderOutput(dataTable, element);\n",
              "          const docLink = document.createElement('div');\n",
              "          docLink.innerHTML = docLinkHtml;\n",
              "          element.appendChild(docLink);\n",
              "        }\n",
              "      </script>\n",
              "    </div>\n",
              "  </div>\n",
              "  "
            ]
          },
          "metadata": {},
          "execution_count": 37
        }
      ],
      "source": [
        "#creating function to extract the top 10 contributing factors in motor vehicle accidents\n",
        "\n",
        "def contributing_factor(mva):\n",
        "    \n",
        "    # create df of contributing factors\n",
        "    contrib_factors = ['FACTOR_1', 'FACTOR_2',\n",
        "                      'FACTOR_3','FACTOR_4','FACTOR_5'] \n",
        "    \n",
        "    #create new dataframe with only contributing factors -- filter out severity 1\n",
        "    con_mva = pd.DataFrame(data=mva,columns=contrib_factors)\n",
        "    \n",
        "    #reset index in newly created dataframe\n",
        "    con_mva = con_mva.reset_index()\n",
        "    \n",
        "    #pd melt to convert wide to narrow format\n",
        "    contrib_df = pd.melt(con_mva, id_vars=[\"COLLISION_ID\"], value_vars = contrib_factors)\n",
        "\n",
        "    #drop duplicates\n",
        "    factors = contrib_df.drop_duplicates(keep = \"first\").dropna()\n",
        "    \n",
        "    #groupby \n",
        "    factors_most_acc = factors.groupby([\"value\"]).count()\n",
        "    factors_most_acc = factors_most_acc.sort_values(\"variable\", ascending = False)\n",
        "    \n",
        "    #grab top 6\n",
        "    factors_most_acc = factors_most_acc.head(10)\n",
        "    \n",
        "    return factors_most_acc\n",
        "\n",
        "contributing_factor(mva)"
      ]
    },
    {
      "cell_type": "markdown",
      "source": [
        "Unfortunately, a significant portion of the contributing factors fall under the Unspecified category. MAYBE DO SOME GOOGLE AS TO WHY MAYBE THEY ARE NOT ABLE TO DETECT THE CAUSE"
      ],
      "metadata": {
        "id": "vzDXCvT87DND"
      }
    },
    {
      "cell_type": "markdown",
      "metadata": {
        "id": "F8lfahQdF9NV"
      },
      "source": [
        "## III. Modeling\n",
        "\n",
        "I am planning on using an OLS Regression model to predict the number of people injured and/or killed in accidents based on different attributes. I will first start off by creating QQ plots of the TOTAL_INJURED and the TOTAL_KILLED columns to see what distributions they have and whether we have to transform them which we will use later on in the OLS Regression model. \n",
        "\n"
      ]
    },
    {
      "cell_type": "markdown",
      "source": [
        "### Quantile-Quantile Plots\n",
        "\n"
      ],
      "metadata": {
        "id": "LsvH9Ya_68EM"
      }
    },
    {
      "cell_type": "code",
      "execution_count": 38,
      "metadata": {
        "id": "1BJ10fqyF9NV",
        "colab": {
          "base_uri": "https://localhost:8080/"
        },
        "outputId": "70c7d5a5-eea1-4aee-87fb-dbc82799d0cd"
      },
      "outputs": [
        {
          "output_type": "execute_result",
          "data": {
            "text/plain": [
              "CRASH DATE                 datetime64[ns]\n",
              "CRASH TIME                         object\n",
              "BOROUGH                            object\n",
              "ZIP_CODE                            int64\n",
              "LATITUDE                          float64\n",
              "LONGITUDE                         float64\n",
              "FACTOR_1                           object\n",
              "FACTOR_2                           object\n",
              "FACTOR_3                           object\n",
              "FACTOR_4                           object\n",
              "FACTOR_5                           object\n",
              "VEHICLE_1                          object\n",
              "VEHICLE_2                          object\n",
              "VEHICLE_3                          object\n",
              "VEHICLE_4                          object\n",
              "VEHICLE_5                          object\n",
              "CRASH TIME HOUR                     int64\n",
              "CRASH MONTH                         int64\n",
              "CRASH WEEKDAY                       int64\n",
              "TOTAL_INJURED_OR_KILLED             int64\n",
              "TOTAL_INJURED                       int64\n",
              "TOTAL_KILLED                        int64\n",
              "SEVERITY                            int64\n",
              "dtype: object"
            ]
          },
          "metadata": {},
          "execution_count": 38
        }
      ],
      "source": [
        "mva.dtypes"
      ]
    },
    {
      "cell_type": "code",
      "execution_count": 39,
      "metadata": {
        "id": "2I0KyYC-F9NW",
        "colab": {
          "base_uri": "https://localhost:8080/",
          "height": 299
        },
        "outputId": "850ddb65-0fb7-4094-d751-917aaeaa1355"
      },
      "outputs": [
        {
          "output_type": "display_data",
          "data": {
            "text/plain": [
              "<Figure size 432x288 with 1 Axes>"
            ],
            "image/png": "[encoded data removed]"
          },
          "metadata": {}
        }
      ],
      "source": [
        "## QQ plot of TOTAL_INJURED using normal distribution\n",
        "stats.probplot(x=mva['TOTAL_INJURED'], dist=\"norm\", plot=plt)\n",
        "plt.title(\"TOTAL_INJURED\")\n",
        "plt.show()"
      ]
    },
    {
      "cell_type": "markdown",
      "source": [
        "Looking at this QQ plot for TOTAL_INJURED, we see that the TOTAL_INJURED column does not fit into the normal distribution. We will need to transform this for the model. Let's examine other distributions. "
      ],
      "metadata": {
        "id": "1sMLWP_wEGWB"
      }
    },
    {
      "cell_type": "code",
      "source": [
        "## QQ plot of TOTAL_INJURED using uniform distribution\n",
        "stats.probplot(x=mva['TOTAL_INJURED'],dist='uniform', fit=True, plot=plt)\n",
        "plt.title(\"TOTAL_INJURED\")\n",
        "plt.show()"
      ],
      "metadata": {
        "id": "BRvC6iBcGzMJ",
        "colab": {
          "base_uri": "https://localhost:8080/",
          "height": 299
        },
        "outputId": "d8c65b70-97b2-4dbb-fde8-d1e71caa971d"
      },
      "execution_count": 40,
      "outputs": [
        {
          "output_type": "display_data",
          "data": {
            "text/plain": [
              "<Figure size 432x288 with 1 Axes>"
            ],
            "image/png": "[encoded data removed]"
          },
          "metadata": {}
        }
      ]
    },
    {
      "cell_type": "code",
      "execution_count": 41,
      "metadata": {
        "id": "1hsMNYWNF9NW",
        "colab": {
          "base_uri": "https://localhost:8080/",
          "height": 299
        },
        "outputId": "0974d42d-aef6-4e13-ce37-94b79eae4756"
      },
      "outputs": [
        {
          "output_type": "display_data",
          "data": {
            "text/plain": [
              "<Figure size 432x288 with 1 Axes>"
            ],
            "image/png": "[encoded data removed]"
          },
          "metadata": {}
        }
      ],
      "source": [
        "stats.probplot(x=mva['TOTAL_KILLED'], dist=\"norm\", plot=plt)\n",
        "plt.title(\"TOTAL_KILLED\")\n",
        "plt.show()"
      ]
    },
    {
      "cell_type": "code",
      "source": [
        "## QQ plot of TOTAL_KILLED using uniform distribution\n",
        "stats.probplot(x=mva['TOTAL_KILLED'],dist='uniform', fit=True, plot=plt)\n",
        "plt.title(\"TOTAL_KILLED\")\n",
        "plt.show()"
      ],
      "metadata": {
        "colab": {
          "base_uri": "https://localhost:8080/",
          "height": 299
        },
        "id": "e2yebJurCQoS",
        "outputId": "445c31da-70f6-4e26-b6bc-0d6091c2416b"
      },
      "execution_count": 42,
      "outputs": [
        {
          "output_type": "display_data",
          "data": {
            "text/plain": [
              "<Figure size 432x288 with 1 Axes>"
            ],
            "image/png": "[encoded data removed]"
          },
          "metadata": {}
        }
      ]
    },
    {
      "cell_type": "markdown",
      "source": [
        "### Preparing Training Set for ML Model\n",
        "\n",
        "Here, we split the dataset between training and test since this is for prediction. "
      ],
      "metadata": {
        "id": "Wq7poDPAGEXJ"
      }
    },
    {
      "cell_type": "markdown",
      "metadata": {
        "id": "IQ-U-CSkF9NY"
      },
      "source": [
        "#### Managing Categorical Columns\n",
        "\n",
        "In the Motor Vehicle Accidents dataset, there are two major categories we have to turn into numbers for the model: Contributing Factor columns and Vehicle columns. \n",
        "\n",
        "For contributing factors, we narrowed down the factors to 11 overarching contribution factor categories. "
      ]
    },
    {
      "cell_type": "code",
      "execution_count": 43,
      "metadata": {
        "id": "ApDaSpEuF9NY"
      },
      "outputs": [],
      "source": [
        "#12 categories\n",
        "\n",
        "mva = mva.replace({ 'Accelerator Defective' : 'Car Defect/Technical Issue',\n",
        "'Aggressive Driving/Road Rage' : 'Aggressive Driving/Road Rage',\n",
        "'Alcohol Involvement' : 'Alcohol',\n",
        "'Animals Action' : 'Hazardous Driving/Condition',\n",
        "'Backing Unsafely' : 'Decision Making',\n",
        "'Brakes Defective' : 'Car Defect/Technical Issue',\n",
        "'Cell Phone (hands-free)' : 'Phone',\n",
        "'Cell Phone (hand-Held)' : 'Phone',\n",
        "'Driver Inattention/Distraction' : 'Distracted/Inattention',\n",
        "'Driver Inexperience' : 'Decision Making',\n",
        "'Driverless/Runaway Vehicle' : 'Other Parties',\n",
        "'Drugs (illegal)' : 'Impairment',\n",
        "'Eating or Drinking' : 'Distracted/Inattention',\n",
        "'Failure to Keep Right' : 'Decision Making',\n",
        "'Failure to Yield Right-of-Way' : 'Decision Making',\n",
        "'Fatigued/Drowsy' : 'Impairment',\n",
        "'Fell Asleep' : 'Impairment',\n",
        "'Following Too Closely' : 'Decision Making',\n",
        "'Glare' : 'Hazardous Driving/Condition',\n",
        "'Headlights Defective' : 'Car Defect/Technical Issue',\n",
        "'Illnes' : 'Impairment',\n",
        "'Lane Marking Improper/Inadequate' : 'Hazardous Driving/Condition',\n",
        "'Listening/Using Headphones' : 'Distracted/Inattention',\n",
        "'Lost Consciousness' : 'Impairment',\n",
        "'Obstruction/Debris' : 'Hazardous Driving/Condition',\n",
        "'Other Electronic Device' : 'Distracted/Inattention',\n",
        "'Other Lighting Defects' : 'Hazardous Driving/Condition',\n",
        "'Other Vehicular' : 'Other Parties',\n",
        "'Outside Car Distraction' : 'Distracted/Inattention',\n",
        "'Oversized Vehicle' : 'Miscellaneous',\n",
        "'Passenger Distraction' : 'Decision Making',\n",
        "'Passing or Lane Usage Improper' : 'Decision Making',\n",
        "'Passing Too Closely' : 'Decision Making',\n",
        "'Pavement Defective' : 'Hazardous Driving/Condition',\n",
        "'Pavement Slippery' : 'Hazardous Driving/Condition',\n",
        "'Pedestrian/Bicyclist/Other Pedestrian Error/Confusion' : 'Other Parties',\n",
        "'Physical Disability' : 'Miscellaneous',\n",
        "'Prescription Medication' : 'Impairment',\n",
        "'Reaction to Uninvolved Vehicle' : 'Decision Making',\n",
        "'Shoulders Defective/Improper' : 'Hazardous Driving/Condition',\n",
        "'Steering Failure' : 'Car Defect/Technical Issue',\n",
        "'Texting' : 'Phone',\n",
        "'Tinted Windows' : 'Miscellaneous',\n",
        "'Tire Failure/Inadequate' : 'Car Defect/Technical Issue',\n",
        "'Tow Hitch Defective' : 'Other Parties',\n",
        "'Traffic Control Device Improper/Non-Working' : 'Hazardous Driving/Condition',\n",
        "'Traffic Control Disregarded' : 'Decision Making',\n",
        "'Turning Improperly' : 'Decision Making',\n",
        "'Unsafe Lane Changing' : 'Decision Making',\n",
        "'Unsafe Speed' : 'Decision Making',\n",
        "'Unspecified' : 'Unspecified',\n",
        "'Using On Board Navigation Device' : 'Distracted/Inattention',\n",
        "'Vehicle Vandalism' : 'Other Parties',\n",
        "'View Obstructed/Limited' : 'Miscellaneous',\n",
        "'Windshield Inadequate' : 'Car Defect/Technical Issue',\n",
        "'nan' : 'nan'})"
      ]
    },
    {
      "cell_type": "code",
      "execution_count": 44,
      "metadata": {
        "id": "hQccWPf_F9NZ"
      },
      "outputs": [],
      "source": [
        "#12 int categories\n",
        "\n",
        "mva = mva.replace({'Aggressive Driving/Road Rage' : 1,\n",
        "'Alcohol' : 2,\n",
        "'Car Defect/Technical Issue' : 3,\n",
        "'Decision Making' : 4,\n",
        "'Distracted/Inattention' : 5,\n",
        "'Hazardous Driving/Condition' : 6,\n",
        "'Impairment' : 7,\n",
        "'Miscellaneous' : 8,\n",
        "'nan' : 0,                                          \n",
        "'Other Parties' : 10,\n",
        "'Phone' : 11,\n",
        "'Unspecified' : 12})\n"
      ]
    },
    {
      "cell_type": "code",
      "execution_count": 45,
      "metadata": {
        "id": "ussyYz9YF9NZ"
      },
      "outputs": [],
      "source": [
        "mva['FACTOR_1'] = mva['FACTOR_1'].replace(np.NaN, 0)\n",
        "mva['FACTOR_2'] = mva['FACTOR_2'].replace(np.NaN, 0)\n",
        "mva['FACTOR_3'] = mva['FACTOR_3'].replace(np.NaN, 0)\n",
        "mva['FACTOR_4'] = mva['FACTOR_4'].replace(np.NaN, 0)\n",
        "mva['FACTOR_5'] = mva['FACTOR_5'].replace(np.NaN, 0)\n",
        "\n"
      ]
    },
    {
      "cell_type": "code",
      "execution_count": 46,
      "metadata": {
        "id": "dq80IPnlF9Na",
        "colab": {
          "base_uri": "https://localhost:8080/"
        },
        "outputId": "d05d7ab0-5299-43a9-9411-9dff27ac05f9"
      },
      "outputs": [
        {
          "output_type": "execute_result",
          "data": {
            "text/plain": [
              "array([ 0., 12., 10.,  4.,  5.,  2.,  6.,  3.,  7.,  1.])"
            ]
          },
          "metadata": {},
          "execution_count": 46
        }
      ],
      "source": [
        "mva['FACTOR_4'].unique()"
      ]
    },
    {
      "cell_type": "markdown",
      "source": [
        "Now let's turn the BOROUGH and multiple vehicle columns into numerical values."
      ],
      "metadata": {
        "id": "ezcx15TN-Lnv"
      }
    },
    {
      "cell_type": "code",
      "source": [
        "#finding unique values in BOROUGH column\n",
        "mva['BOROUGH'].unique()"
      ],
      "metadata": {
        "colab": {
          "base_uri": "https://localhost:8080/"
        },
        "id": "HWbedA2M_kdF",
        "outputId": "d385a4f7-26c5-48ad-9094-8840c0b5a2ae"
      },
      "execution_count": 47,
      "outputs": [
        {
          "output_type": "execute_result",
          "data": {
            "text/plain": [
              "array(['QUEENS', 'BROOKLYN', 'BRONX', 'STATEN ISLAND', 'MANHATTAN'],\n",
              "      dtype=object)"
            ]
          },
          "metadata": {},
          "execution_count": 47
        }
      ]
    },
    {
      "cell_type": "code",
      "source": [
        "#replace boroughs with numerical values\n",
        "mva = mva.replace({'BRONX' : 1,\n",
        "                   'BROOKLYN' : 2,\n",
        "                   'MANHATTAN' : 3,\n",
        "                   'QUEENS' : 4,\n",
        "                   'STATEN ISLAND' : 5})"
      ],
      "metadata": {
        "id": "P8enVWevCxd5"
      },
      "execution_count": 48,
      "outputs": []
    },
    {
      "cell_type": "code",
      "source": [
        "#validate replacement\n",
        "mva['BOROUGH'].unique()"
      ],
      "metadata": {
        "colab": {
          "base_uri": "https://localhost:8080/"
        },
        "id": "5_4yI7N4DgEW",
        "outputId": "482156a1-4ba7-42d7-db97-bee3cd669817"
      },
      "execution_count": 49,
      "outputs": [
        {
          "output_type": "execute_result",
          "data": {
            "text/plain": [
              "array([4, 2, 1, 5, 3])"
            ]
          },
          "metadata": {},
          "execution_count": 49
        }
      ]
    },
    {
      "cell_type": "code",
      "source": [
        "#finding unique values in vehicle columns\n",
        "mva_vehicle = mva.reset_index()\n",
        "mva_vehicle = pd.melt(mva_vehicle, id_vars=['COLLISION_ID'], value_vars=['VEHICLE_1','VEHICLE_2','VEHICLE_3','VEHICLE_4','VEHICLE_5'])\n",
        "mva_vehicle = mva_vehicle.drop_duplicates(subset=['variable','value'], keep = \"first\").dropna()\n",
        "mva_vehicle.head()"
      ],
      "metadata": {
        "colab": {
          "base_uri": "https://localhost:8080/",
          "height": 206
        },
        "id": "6JiZoS6WDwPC",
        "outputId": "368058e7-b5c4-4629-8f8a-a2ba218626bb"
      },
      "execution_count": 50,
      "outputs": [
        {
          "output_type": "execute_result",
          "data": {
            "text/plain": [
              "    COLLISION_ID   variable                                value\n",
              "0        4355333  VEHICLE_1                                Sedan\n",
              "2        4380776  VEHICLE_1                        Pick-up Truck\n",
              "7        4487222  VEHICLE_1  Station Wagon/Sport Utility Vehicle\n",
              "9        4429676  VEHICLE_1                           Motorcycle\n",
              "14       4135659  VEHICLE_1                    Garbage or Refuse"
            ],
            "text/html": [
              "\n",
              "  <div id=\"df-57eb4a4d-62c2-44c7-ad7f-25d9ac5c8bb6\">\n",
              "    <div class=\"colab-df-container\">\n",
              "      <div>\n",
              "<style scoped>\n",
              "    .dataframe tbody tr th:only-of-type {\n",
              "        vertical-align: middle;\n",
              "    }\n",
              "\n",
              "    .dataframe tbody tr th {\n",
              "        vertical-align: top;\n",
              "    }\n",
              "\n",
              "    .dataframe thead th {\n",
              "        text-align: right;\n",
              "    }\n",
              "</style>\n",
              "<table border=\"1\" class=\"dataframe\">\n",
              "  <thead>\n",
              "    <tr style=\"text-align: right;\">\n",
              "      <th></th>\n",
              "      <th>COLLISION_ID</th>\n",
              "      <th>variable</th>\n",
              "      <th>value</th>\n",
              "    </tr>\n",
              "  </thead>\n",
              "  <tbody>\n",
              "    <tr>\n",
              "      <th>0</th>\n",
              "      <td>4355333</td>\n",
              "      <td>VEHICLE_1</td>\n",
              "      <td>Sedan</td>\n",
              "    </tr>\n",
              "    <tr>\n",
              "      <th>2</th>\n",
              "      <td>4380776</td>\n",
              "      <td>VEHICLE_1</td>\n",
              "      <td>Pick-up Truck</td>\n",
              "    </tr>\n",
              "    <tr>\n",
              "      <th>7</th>\n",
              "      <td>4487222</td>\n",
              "      <td>VEHICLE_1</td>\n",
              "      <td>Station Wagon/Sport Utility Vehicle</td>\n",
              "    </tr>\n",
              "    <tr>\n",
              "      <th>9</th>\n",
              "      <td>4429676</td>\n",
              "      <td>VEHICLE_1</td>\n",
              "      <td>Motorcycle</td>\n",
              "    </tr>\n",
              "    <tr>\n",
              "      <th>14</th>\n",
              "      <td>4135659</td>\n",
              "      <td>VEHICLE_1</td>\n",
              "      <td>Garbage or Refuse</td>\n",
              "    </tr>\n",
              "  </tbody>\n",
              "</table>\n",
              "</div>\n",
              "      <button class=\"colab-df-convert\" onclick=\"convertToInteractive('df-57eb4a4d-62c2-44c7-ad7f-25d9ac5c8bb6')\"\n",
              "              title=\"Convert this dataframe to an interactive table.\"\n",
              "              style=\"display:none;\">\n",
              "        \n",
              "  <svg xmlns=\"http://www.w3.org/2000/svg\" height=\"24px\"viewBox=\"0 0 24 24\"\n",
              "       width=\"24px\">\n",
              "    <path d=\"M0 0h24v24H0V0z\" fill=\"none\"/>\n",
              "    <path d=\"M18.56 5.44l.94 2.06.94-2.06 2.06-.94-2.06-.94-.94-2.06-.94 2.06-2.06.94zm-11 1L8.5 8.5l.94-2.06 2.06-.94-2.06-.94L8.5 2.5l-.94 2.06-2.06.94zm10 10l.94 2.06.94-2.06 2.06-.94-2.06-.94-.94-2.06-.94 2.06-2.06.94z\"/><path d=\"M17.41 7.96l-1.37-1.37c-.4-.4-.92-.59-1.43-.59-.52 0-1.04.2-1.43.59L10.3 9.45l-7.72 7.72c-.78.78-.78 2.05 0 2.83L4 21.41c.39.39.9.59 1.41.59.51 0 1.02-.2 1.41-.59l7.78-7.78 2.81-2.81c.8-.78.8-2.07 0-2.86zM5.41 20L4 18.59l7.72-7.72 1.47 1.35L5.41 20z\"/>\n",
              "  </svg>\n",
              "      </button>\n",
              "      \n",
              "  <style>\n",
              "    .colab-df-container {\n",
              "      display:flex;\n",
              "      flex-wrap:wrap;\n",
              "      gap: 12px;\n",
              "    }\n",
              "\n",
              "    .colab-df-convert {\n",
              "      background-color: #E8F0FE;\n",
              "      border: none;\n",
              "      border-radius: 50%;\n",
              "      cursor: pointer;\n",
              "      display: none;\n",
              "      fill: #1967D2;\n",
              "      height: 32px;\n",
              "      padding: 0 0 0 0;\n",
              "      width: 32px;\n",
              "    }\n",
              "\n",
              "    .colab-df-convert:hover {\n",
              "      background-color: #E2EBFA;\n",
              "      box-shadow: 0px 1px 2px rgba(60, 64, 67, 0.3), 0px 1px 3px 1px rgba(60, 64, 67, 0.15);\n",
              "      fill: #174EA6;\n",
              "    }\n",
              "\n",
              "    [theme=dark] .colab-df-convert {\n",
              "      background-color: #3B4455;\n",
              "      fill: #D2E3FC;\n",
              "    }\n",
              "\n",
              "    [theme=dark] .colab-df-convert:hover {\n",
              "      background-color: #434B5C;\n",
              "      box-shadow: 0px 1px 3px 1px rgba(0, 0, 0, 0.15);\n",
              "      filter: drop-shadow(0px 1px 2px rgba(0, 0, 0, 0.3));\n",
              "      fill: #FFFFFF;\n",
              "    }\n",
              "  </style>\n",
              "\n",
              "      <script>\n",
              "        const buttonEl =\n",
              "          document.querySelector('#df-57eb4a4d-62c2-44c7-ad7f-25d9ac5c8bb6 button.colab-df-convert');\n",
              "        buttonEl.style.display =\n",
              "          google.colab.kernel.accessAllowed ? 'block' : 'none';\n",
              "\n",
              "        async function convertToInteractive(key) {\n",
              "          const element = document.querySelector('#df-57eb4a4d-62c2-44c7-ad7f-25d9ac5c8bb6');\n",
              "          const dataTable =\n",
              "            await google.colab.kernel.invokeFunction('convertToInteractive',\n",
              "                                                     [key], {});\n",
              "          if (!dataTable) return;\n",
              "\n",
              "          const docLinkHtml = 'Like what you see? Visit the ' +\n",
              "            '<a target=\"_blank\" href=https://colab.research.google.com/notebooks/data_table.ipynb>data table notebook</a>'\n",
              "            + ' to learn more about interactive tables.';\n",
              "          element.innerHTML = '';\n",
              "          dataTable['output_type'] = 'display_data';\n",
              "          await google.colab.output.renderOutput(dataTable, element);\n",
              "          const docLink = document.createElement('div');\n",
              "          docLink.innerHTML = docLinkHtml;\n",
              "          element.appendChild(docLink);\n",
              "        }\n",
              "      </script>\n",
              "    </div>\n",
              "  </div>\n",
              "  "
            ]
          },
          "metadata": {},
          "execution_count": 50
        }
      ]
    },
    {
      "cell_type": "code",
      "source": [
        "mva_vehicle['value'].value_counts()"
      ],
      "metadata": {
        "colab": {
          "base_uri": "https://localhost:8080/"
        },
        "id": "tj7_GYGEHFDG",
        "outputId": "12708085-9638-489a-bf39-81dcdb282b99"
      },
      "execution_count": 51,
      "outputs": [
        {
          "output_type": "execute_result",
          "data": {
            "text/plain": [
              "Sedan        5\n",
              "Dump         5\n",
              "Bike         5\n",
              "Van          5\n",
              "Ambulance    5\n",
              "            ..\n",
              "POLIC        1\n",
              "pedicab      1\n",
              "Horse        1\n",
              "LTRL         1\n",
              "FRONT        1\n",
              "Name: value, Length: 1068, dtype: int64"
            ]
          },
          "metadata": {},
          "execution_count": 51
        }
      ]
    },
    {
      "cell_type": "markdown",
      "source": [
        "There are 1068 unique values shared between the 5 vehicle columns. Until I find a suitable way of transforming these categorical variables for the models, I will be dropping them from the dataset. "
      ],
      "metadata": {
        "id": "lMV2HfgVLKfT"
      }
    },
    {
      "cell_type": "code",
      "source": [
        "#dropping vehicle columns\n",
        "mva = mva.drop([\"VEHICLE_1\",\"VEHICLE_2\",\"VEHICLE_3\",\"VEHICLE_4\",\"VEHICLE_5\"], axis=1)"
      ],
      "metadata": {
        "id": "htaz6W0YMW8S"
      },
      "execution_count": 52,
      "outputs": []
    },
    {
      "cell_type": "code",
      "source": [
        "mva.dtypes"
      ],
      "metadata": {
        "id": "80WQQ9bm2P-x",
        "colab": {
          "base_uri": "https://localhost:8080/"
        },
        "outputId": "00b9e937-3d83-42b4-8c33-c13f983b6120"
      },
      "execution_count": 53,
      "outputs": [
        {
          "output_type": "execute_result",
          "data": {
            "text/plain": [
              "CRASH DATE                 datetime64[ns]\n",
              "CRASH TIME                         object\n",
              "BOROUGH                             int64\n",
              "ZIP_CODE                            int64\n",
              "LATITUDE                          float64\n",
              "LONGITUDE                         float64\n",
              "FACTOR_1                          float64\n",
              "FACTOR_2                          float64\n",
              "FACTOR_3                          float64\n",
              "FACTOR_4                          float64\n",
              "FACTOR_5                          float64\n",
              "CRASH TIME HOUR                     int64\n",
              "CRASH MONTH                         int64\n",
              "CRASH WEEKDAY                       int64\n",
              "TOTAL_INJURED_OR_KILLED             int64\n",
              "TOTAL_INJURED                       int64\n",
              "TOTAL_KILLED                        int64\n",
              "SEVERITY                            int64\n",
              "dtype: object"
            ]
          },
          "metadata": {},
          "execution_count": 53
        }
      ]
    },
    {
      "cell_type": "markdown",
      "source": [
        "### Evaluating OLS Regression Model on Training Set"
      ],
      "metadata": {
        "id": "8NdhSxJW9vQA"
      }
    },
    {
      "cell_type": "code",
      "source": [
        "#create training and test sets\n",
        "from sklearn.model_selection import train_test_split\n",
        "\n",
        "mva_train_set, mva_test_set = train_test_split(mva, test_size=0.3, random_state=42)"
      ],
      "metadata": {
        "id": "sVgh6CrJV77H"
      },
      "execution_count": 54,
      "outputs": []
    },
    {
      "cell_type": "markdown",
      "source": [
        "Now we will use the OLS model to predict the total number of people injured and/or killed in the test dataset by using the first factor. "
      ],
      "metadata": {
        "id": "v_BF7koP9Gk7"
      }
    },
    {
      "cell_type": "code",
      "execution_count": 55,
      "metadata": {
        "id": "auvDq0ACF9Ne",
        "outputId": "e5049e53-a9fe-476a-a02b-bce25df02237",
        "colab": {
          "base_uri": "https://localhost:8080/",
          "height": 452
        }
      },
      "outputs": [
        {
          "output_type": "execute_result",
          "data": {
            "text/plain": [
              "<class 'statsmodels.iolib.summary.Summary'>\n",
              "\"\"\"\n",
              "                               OLS Regression Results                              \n",
              "===================================================================================\n",
              "Dep. Variable:     TOTAL_INJURED_OR_KILLED   R-squared:                       0.005\n",
              "Model:                                 OLS   Adj. R-squared:                  0.005\n",
              "Method:                      Least Squares   F-statistic:                     378.1\n",
              "Date:                     Sat, 22 Oct 2022   Prob (F-statistic):           5.10e-84\n",
              "Time:                             01:36:14   Log-Likelihood:                -85836.\n",
              "No. Observations:                    82086   AIC:                         1.717e+05\n",
              "Df Residuals:                        82084   BIC:                         1.717e+05\n",
              "Df Model:                                1                                         \n",
              "Covariance Type:                 nonrobust                                         \n",
              "==============================================================================\n",
              "                 coef    std err          t      P>|t|      [0.025      0.975]\n",
              "------------------------------------------------------------------------------\n",
              "Intercept      0.4275      0.005     82.466      0.000       0.417       0.438\n",
              "FACTOR_1      -0.0132      0.001    -19.444      0.000      -0.015      -0.012\n",
              "==============================================================================\n",
              "Omnibus:                    64181.735   Durbin-Watson:                   1.995\n",
              "Prob(Omnibus):                  0.000   Jarque-Bera (JB):          2520545.243\n",
              "Skew:                           3.445   Prob(JB):                         0.00\n",
              "Kurtosis:                      29.258   Cond. No.                         16.6\n",
              "==============================================================================\n",
              "\n",
              "Notes:\n",
              "[1] Standard Errors assume that the covariance matrix of the errors is correctly specified.\n",
              "\"\"\""
            ],
            "text/html": [
              "<table class=\"simpletable\">\n",
              "<caption>OLS Regression Results</caption>\n",
              "<tr>\n",
              "  <th>Dep. Variable:</th>    <td>TOTAL_INJURED_OR_KILLED</td> <th>  R-squared:         </th> <td>   0.005</td> \n",
              "</tr>\n",
              "<tr>\n",
              "  <th>Model:</th>                      <td>OLS</td>           <th>  Adj. R-squared:    </th> <td>   0.005</td> \n",
              "</tr>\n",
              "<tr>\n",
              "  <th>Method:</th>                <td>Least Squares</td>      <th>  F-statistic:       </th> <td>   378.1</td> \n",
              "</tr>\n",
              "<tr>\n",
              "  <th>Date:</th>                <td>Sat, 22 Oct 2022</td>     <th>  Prob (F-statistic):</th> <td>5.10e-84</td> \n",
              "</tr>\n",
              "<tr>\n",
              "  <th>Time:</th>                    <td>01:36:14</td>         <th>  Log-Likelihood:    </th> <td> -85836.</td> \n",
              "</tr>\n",
              "<tr>\n",
              "  <th>No. Observations:</th>         <td> 82086</td>          <th>  AIC:               </th> <td>1.717e+05</td>\n",
              "</tr>\n",
              "<tr>\n",
              "  <th>Df Residuals:</th>             <td> 82084</td>          <th>  BIC:               </th> <td>1.717e+05</td>\n",
              "</tr>\n",
              "<tr>\n",
              "  <th>Df Model:</th>                 <td>     1</td>          <th>                     </th>     <td> </td>    \n",
              "</tr>\n",
              "<tr>\n",
              "  <th>Covariance Type:</th>         <td>nonrobust</td>        <th>                     </th>     <td> </td>    \n",
              "</tr>\n",
              "</table>\n",
              "<table class=\"simpletable\">\n",
              "<tr>\n",
              "      <td></td>         <th>coef</th>     <th>std err</th>      <th>t</th>      <th>P>|t|</th>  <th>[0.025</th>    <th>0.975]</th>  \n",
              "</tr>\n",
              "<tr>\n",
              "  <th>Intercept</th> <td>    0.4275</td> <td>    0.005</td> <td>   82.466</td> <td> 0.000</td> <td>    0.417</td> <td>    0.438</td>\n",
              "</tr>\n",
              "<tr>\n",
              "  <th>FACTOR_1</th>  <td>   -0.0132</td> <td>    0.001</td> <td>  -19.444</td> <td> 0.000</td> <td>   -0.015</td> <td>   -0.012</td>\n",
              "</tr>\n",
              "</table>\n",
              "<table class=\"simpletable\">\n",
              "<tr>\n",
              "  <th>Omnibus:</th>       <td>64181.735</td> <th>  Durbin-Watson:     </th>  <td>   1.995</td>  \n",
              "</tr>\n",
              "<tr>\n",
              "  <th>Prob(Omnibus):</th>  <td> 0.000</td>   <th>  Jarque-Bera (JB):  </th> <td>2520545.243</td>\n",
              "</tr>\n",
              "<tr>\n",
              "  <th>Skew:</th>           <td> 3.445</td>   <th>  Prob(JB):          </th>  <td>    0.00</td>  \n",
              "</tr>\n",
              "<tr>\n",
              "  <th>Kurtosis:</th>       <td>29.258</td>   <th>  Cond. No.          </th>  <td>    16.6</td>  \n",
              "</tr>\n",
              "</table><br/><br/>Notes:<br/>[1] Standard Errors assume that the covariance matrix of the errors is correctly specified."
            ]
          },
          "metadata": {},
          "execution_count": 55
        }
      ],
      "source": [
        "model = smf.ols(formula='TOTAL_INJURED_OR_KILLED ~ FACTOR_1', data=mva_test_set).fit()\n",
        "model.summary()"
      ]
    },
    {
      "cell_type": "code",
      "execution_count": 56,
      "metadata": {
        "id": "AfOqV2QHF9Nb",
        "scrolled": false,
        "outputId": "955f644b-3be6-447e-f4e5-30ef4f810cc1",
        "colab": {
          "base_uri": "https://localhost:8080/",
          "height": 452
        }
      },
      "outputs": [
        {
          "output_type": "execute_result",
          "data": {
            "text/plain": [
              "<class 'statsmodels.iolib.summary.Summary'>\n",
              "\"\"\"\n",
              "                            OLS Regression Results                            \n",
              "==============================================================================\n",
              "Dep. Variable:          TOTAL_INJURED   R-squared:                       0.004\n",
              "Model:                            OLS   Adj. R-squared:                  0.004\n",
              "Method:                 Least Squares   F-statistic:                     838.2\n",
              "Date:                Sat, 22 Oct 2022   Prob (F-statistic):          6.58e-184\n",
              "Time:                        01:36:15   Log-Likelihood:            -2.1732e+05\n",
              "No. Observations:              191531   AIC:                         4.346e+05\n",
              "Df Residuals:                  191529   BIC:                         4.347e+05\n",
              "Df Model:                           1                                         \n",
              "Covariance Type:            nonrobust                                         \n",
              "==============================================================================\n",
              "                 coef    std err          t      P>|t|      [0.025      0.975]\n",
              "------------------------------------------------------------------------------\n",
              "Intercept      0.4734      0.004    127.693      0.000       0.466       0.481\n",
              "FACTOR_1      -0.0141      0.000    -28.952      0.000      -0.015      -0.013\n",
              "==============================================================================\n",
              "Omnibus:                   119853.974   Durbin-Watson:                   2.003\n",
              "Prob(Omnibus):                  0.000   Jarque-Bera (JB):          1831464.745\n",
              "Skew:                           2.782   Prob(JB):                         0.00\n",
              "Kurtosis:                      17.090   Cond. No.                         16.6\n",
              "==============================================================================\n",
              "\n",
              "Notes:\n",
              "[1] Standard Errors assume that the covariance matrix of the errors is correctly specified.\n",
              "\"\"\""
            ],
            "text/html": [
              "<table class=\"simpletable\">\n",
              "<caption>OLS Regression Results</caption>\n",
              "<tr>\n",
              "  <th>Dep. Variable:</th>      <td>TOTAL_INJURED</td>  <th>  R-squared:         </th>  <td>   0.004</td>  \n",
              "</tr>\n",
              "<tr>\n",
              "  <th>Model:</th>                   <td>OLS</td>       <th>  Adj. R-squared:    </th>  <td>   0.004</td>  \n",
              "</tr>\n",
              "<tr>\n",
              "  <th>Method:</th>             <td>Least Squares</td>  <th>  F-statistic:       </th>  <td>   838.2</td>  \n",
              "</tr>\n",
              "<tr>\n",
              "  <th>Date:</th>             <td>Sat, 22 Oct 2022</td> <th>  Prob (F-statistic):</th>  <td>6.58e-184</td> \n",
              "</tr>\n",
              "<tr>\n",
              "  <th>Time:</th>                 <td>01:36:15</td>     <th>  Log-Likelihood:    </th> <td>-2.1732e+05</td>\n",
              "</tr>\n",
              "<tr>\n",
              "  <th>No. Observations:</th>      <td>191531</td>      <th>  AIC:               </th>  <td>4.346e+05</td> \n",
              "</tr>\n",
              "<tr>\n",
              "  <th>Df Residuals:</th>          <td>191529</td>      <th>  BIC:               </th>  <td>4.347e+05</td> \n",
              "</tr>\n",
              "<tr>\n",
              "  <th>Df Model:</th>              <td>     1</td>      <th>                     </th>      <td> </td>     \n",
              "</tr>\n",
              "<tr>\n",
              "  <th>Covariance Type:</th>      <td>nonrobust</td>    <th>                     </th>      <td> </td>     \n",
              "</tr>\n",
              "</table>\n",
              "<table class=\"simpletable\">\n",
              "<tr>\n",
              "      <td></td>         <th>coef</th>     <th>std err</th>      <th>t</th>      <th>P>|t|</th>  <th>[0.025</th>    <th>0.975]</th>  \n",
              "</tr>\n",
              "<tr>\n",
              "  <th>Intercept</th> <td>    0.4734</td> <td>    0.004</td> <td>  127.693</td> <td> 0.000</td> <td>    0.466</td> <td>    0.481</td>\n",
              "</tr>\n",
              "<tr>\n",
              "  <th>FACTOR_1</th>  <td>   -0.0141</td> <td>    0.000</td> <td>  -28.952</td> <td> 0.000</td> <td>   -0.015</td> <td>   -0.013</td>\n",
              "</tr>\n",
              "</table>\n",
              "<table class=\"simpletable\">\n",
              "<tr>\n",
              "  <th>Omnibus:</th>       <td>119853.974</td> <th>  Durbin-Watson:     </th>  <td>   2.003</td>  \n",
              "</tr>\n",
              "<tr>\n",
              "  <th>Prob(Omnibus):</th>   <td> 0.000</td>   <th>  Jarque-Bera (JB):  </th> <td>1831464.745</td>\n",
              "</tr>\n",
              "<tr>\n",
              "  <th>Skew:</th>            <td> 2.782</td>   <th>  Prob(JB):          </th>  <td>    0.00</td>  \n",
              "</tr>\n",
              "<tr>\n",
              "  <th>Kurtosis:</th>        <td>17.090</td>   <th>  Cond. No.          </th>  <td>    16.6</td>  \n",
              "</tr>\n",
              "</table><br/><br/>Notes:<br/>[1] Standard Errors assume that the covariance matrix of the errors is correctly specified."
            ]
          },
          "metadata": {},
          "execution_count": 56
        }
      ],
      "source": [
        "#run model on training set for the persons_injured and the first contributing factor listed\n",
        "formed_vars = smf.ols(formula='TOTAL_INJURED ~ FACTOR_1', data=mva_train_set).fit()\n",
        "formed_vars.summary()"
      ]
    },
    {
      "cell_type": "code",
      "source": [
        "predict_formed_vars = formed_vars.predict(mva_test_set)\n",
        "predict_formed_vars"
      ],
      "metadata": {
        "id": "Kabu7a04_rjF",
        "colab": {
          "base_uri": "https://localhost:8080/"
        },
        "outputId": "1aaa09d1-ac46-429a-ae05-fc0cde0fbb57"
      },
      "execution_count": 57,
      "outputs": [
        {
          "output_type": "execute_result",
          "data": {
            "text/plain": [
              "COLLISION_ID\n",
              "4120749    0.445160\n",
              "4364475    0.416946\n",
              "4166170    0.416946\n",
              "4352224    0.402839\n",
              "4173427    0.416946\n",
              "             ...   \n",
              "4142899    0.304089\n",
              "4144444    0.416946\n",
              "4460825    0.304089\n",
              "4076711    0.416946\n",
              "4081376    0.402839\n",
              "Length: 82086, dtype: float64"
            ]
          },
          "metadata": {},
          "execution_count": 57
        }
      ]
    },
    {
      "cell_type": "code",
      "execution_count": 58,
      "metadata": {
        "id": "tMI8xCHtF9Ne",
        "scrolled": false,
        "outputId": "b9aae2d9-44fa-4aae-feaf-8124da083d73",
        "colab": {
          "base_uri": "https://localhost:8080/",
          "height": 452
        }
      },
      "outputs": [
        {
          "output_type": "execute_result",
          "data": {
            "text/plain": [
              "<class 'statsmodels.iolib.summary.Summary'>\n",
              "\"\"\"\n",
              "                            OLS Regression Results                            \n",
              "==============================================================================\n",
              "Dep. Variable:           TOTAL_KILLED   R-squared:                       0.000\n",
              "Model:                            OLS   Adj. R-squared:                 -0.000\n",
              "Method:                 Least Squares   F-statistic:                   0.03888\n",
              "Date:                Sat, 22 Oct 2022   Prob (F-statistic):              0.844\n",
              "Time:                        01:36:15   Log-Likelihood:             1.3894e+05\n",
              "No. Observations:               82086   AIC:                        -2.779e+05\n",
              "Df Residuals:                   82084   BIC:                        -2.779e+05\n",
              "Df Model:                           1                                         \n",
              "Covariance Type:            nonrobust                                         \n",
              "==============================================================================\n",
              "                 coef    std err          t      P>|t|      [0.025      0.975]\n",
              "------------------------------------------------------------------------------\n",
              "Intercept      0.0015      0.000      4.512      0.000       0.001       0.002\n",
              "FACTOR_1    8.685e-06    4.4e-05      0.197      0.844   -7.76e-05     9.5e-05\n",
              "==============================================================================\n",
              "Omnibus:                   216795.106   Durbin-Watson:                   2.002\n",
              "Prob(Omnibus):                  0.000   Jarque-Bera (JB):       4374764239.652\n",
              "Skew:                          31.756   Prob(JB):                         0.00\n",
              "Kurtosis:                    1132.178   Cond. No.                         16.6\n",
              "==============================================================================\n",
              "\n",
              "Notes:\n",
              "[1] Standard Errors assume that the covariance matrix of the errors is correctly specified.\n",
              "\"\"\""
            ],
            "text/html": [
              "<table class=\"simpletable\">\n",
              "<caption>OLS Regression Results</caption>\n",
              "<tr>\n",
              "  <th>Dep. Variable:</th>      <td>TOTAL_KILLED</td>   <th>  R-squared:         </th>  <td>   0.000</td> \n",
              "</tr>\n",
              "<tr>\n",
              "  <th>Model:</th>                   <td>OLS</td>       <th>  Adj. R-squared:    </th>  <td>  -0.000</td> \n",
              "</tr>\n",
              "<tr>\n",
              "  <th>Method:</th>             <td>Least Squares</td>  <th>  F-statistic:       </th>  <td> 0.03888</td> \n",
              "</tr>\n",
              "<tr>\n",
              "  <th>Date:</th>             <td>Sat, 22 Oct 2022</td> <th>  Prob (F-statistic):</th>   <td> 0.844</td>  \n",
              "</tr>\n",
              "<tr>\n",
              "  <th>Time:</th>                 <td>01:36:15</td>     <th>  Log-Likelihood:    </th> <td>1.3894e+05</td>\n",
              "</tr>\n",
              "<tr>\n",
              "  <th>No. Observations:</th>      <td> 82086</td>      <th>  AIC:               </th> <td>-2.779e+05</td>\n",
              "</tr>\n",
              "<tr>\n",
              "  <th>Df Residuals:</th>          <td> 82084</td>      <th>  BIC:               </th> <td>-2.779e+05</td>\n",
              "</tr>\n",
              "<tr>\n",
              "  <th>Df Model:</th>              <td>     1</td>      <th>                     </th>      <td> </td>    \n",
              "</tr>\n",
              "<tr>\n",
              "  <th>Covariance Type:</th>      <td>nonrobust</td>    <th>                     </th>      <td> </td>    \n",
              "</tr>\n",
              "</table>\n",
              "<table class=\"simpletable\">\n",
              "<tr>\n",
              "      <td></td>         <th>coef</th>     <th>std err</th>      <th>t</th>      <th>P>|t|</th>  <th>[0.025</th>    <th>0.975]</th>  \n",
              "</tr>\n",
              "<tr>\n",
              "  <th>Intercept</th> <td>    0.0015</td> <td>    0.000</td> <td>    4.512</td> <td> 0.000</td> <td>    0.001</td> <td>    0.002</td>\n",
              "</tr>\n",
              "<tr>\n",
              "  <th>FACTOR_1</th>  <td> 8.685e-06</td> <td>  4.4e-05</td> <td>    0.197</td> <td> 0.844</td> <td>-7.76e-05</td> <td>  9.5e-05</td>\n",
              "</tr>\n",
              "</table>\n",
              "<table class=\"simpletable\">\n",
              "<tr>\n",
              "  <th>Omnibus:</th>       <td>216795.106</td> <th>  Durbin-Watson:     </th>    <td>   2.002</td>   \n",
              "</tr>\n",
              "<tr>\n",
              "  <th>Prob(Omnibus):</th>   <td> 0.000</td>   <th>  Jarque-Bera (JB):  </th> <td>4374764239.652</td>\n",
              "</tr>\n",
              "<tr>\n",
              "  <th>Skew:</th>            <td>31.756</td>   <th>  Prob(JB):          </th>    <td>    0.00</td>   \n",
              "</tr>\n",
              "<tr>\n",
              "  <th>Kurtosis:</th>       <td>1132.178</td>  <th>  Cond. No.          </th>    <td>    16.6</td>   \n",
              "</tr>\n",
              "</table><br/><br/>Notes:<br/>[1] Standard Errors assume that the covariance matrix of the errors is correctly specified."
            ]
          },
          "metadata": {},
          "execution_count": 58
        }
      ],
      "source": [
        "model_pre_dict = smf.ols(formula='TOTAL_KILLED ~ FACTOR_1', data=mva_test_set).fit()\n",
        "model_pre_dict.summary()"
      ]
    },
    {
      "cell_type": "code",
      "execution_count": 59,
      "metadata": {
        "id": "7aP1XG6PF9NX"
      },
      "outputs": [],
      "source": [
        "model = smf.ols(formula='TOTAL_KILLED ~ ZIP_CODE', data=mva_train_set).fit()"
      ]
    },
    {
      "cell_type": "code",
      "execution_count": 60,
      "metadata": {
        "id": "1S4X1_POF9NX",
        "scrolled": true,
        "outputId": "4b4bd74b-d4ab-45d1-8912-b50d12b26e02",
        "colab": {
          "base_uri": "https://localhost:8080/",
          "height": 486
        }
      },
      "outputs": [
        {
          "output_type": "execute_result",
          "data": {
            "text/plain": [
              "<class 'statsmodels.iolib.summary.Summary'>\n",
              "\"\"\"\n",
              "                            OLS Regression Results                            \n",
              "==============================================================================\n",
              "Dep. Variable:           TOTAL_KILLED   R-squared:                       0.000\n",
              "Model:                            OLS   Adj. R-squared:                  0.000\n",
              "Method:                 Least Squares   F-statistic:                     3.618\n",
              "Date:                Sat, 22 Oct 2022   Prob (F-statistic):             0.0571\n",
              "Time:                        01:36:15   Log-Likelihood:             3.1629e+05\n",
              "No. Observations:              191531   AIC:                        -6.326e+05\n",
              "Df Residuals:                  191529   BIC:                        -6.326e+05\n",
              "Df Model:                           1                                         \n",
              "Covariance Type:            nonrobust                                         \n",
              "==============================================================================\n",
              "                 coef    std err          t      P>|t|      [0.025      0.975]\n",
              "------------------------------------------------------------------------------\n",
              "Intercept     -0.0025      0.002     -1.137      0.256      -0.007       0.002\n",
              "ZIP_CODE    3.828e-07   2.01e-07      1.902      0.057   -1.16e-08    7.77e-07\n",
              "==============================================================================\n",
              "Omnibus:                   507731.316   Durbin-Watson:                   1.998\n",
              "Prob(Omnibus):                  0.000   Jarque-Bera (JB):      11531462767.325\n",
              "Skew:                          32.022   Prob(JB):                         0.00\n",
              "Kurtosis:                    1203.359   Cond. No.                     2.26e+05\n",
              "==============================================================================\n",
              "\n",
              "Notes:\n",
              "[1] Standard Errors assume that the covariance matrix of the errors is correctly specified.\n",
              "[2] The condition number is large, 2.26e+05. This might indicate that there are\n",
              "strong multicollinearity or other numerical problems.\n",
              "\"\"\""
            ],
            "text/html": [
              "<table class=\"simpletable\">\n",
              "<caption>OLS Regression Results</caption>\n",
              "<tr>\n",
              "  <th>Dep. Variable:</th>      <td>TOTAL_KILLED</td>   <th>  R-squared:         </th>  <td>   0.000</td> \n",
              "</tr>\n",
              "<tr>\n",
              "  <th>Model:</th>                   <td>OLS</td>       <th>  Adj. R-squared:    </th>  <td>   0.000</td> \n",
              "</tr>\n",
              "<tr>\n",
              "  <th>Method:</th>             <td>Least Squares</td>  <th>  F-statistic:       </th>  <td>   3.618</td> \n",
              "</tr>\n",
              "<tr>\n",
              "  <th>Date:</th>             <td>Sat, 22 Oct 2022</td> <th>  Prob (F-statistic):</th>   <td>0.0571</td>  \n",
              "</tr>\n",
              "<tr>\n",
              "  <th>Time:</th>                 <td>01:36:15</td>     <th>  Log-Likelihood:    </th> <td>3.1629e+05</td>\n",
              "</tr>\n",
              "<tr>\n",
              "  <th>No. Observations:</th>      <td>191531</td>      <th>  AIC:               </th> <td>-6.326e+05</td>\n",
              "</tr>\n",
              "<tr>\n",
              "  <th>Df Residuals:</th>          <td>191529</td>      <th>  BIC:               </th> <td>-6.326e+05</td>\n",
              "</tr>\n",
              "<tr>\n",
              "  <th>Df Model:</th>              <td>     1</td>      <th>                     </th>      <td> </td>    \n",
              "</tr>\n",
              "<tr>\n",
              "  <th>Covariance Type:</th>      <td>nonrobust</td>    <th>                     </th>      <td> </td>    \n",
              "</tr>\n",
              "</table>\n",
              "<table class=\"simpletable\">\n",
              "<tr>\n",
              "      <td></td>         <th>coef</th>     <th>std err</th>      <th>t</th>      <th>P>|t|</th>  <th>[0.025</th>    <th>0.975]</th>  \n",
              "</tr>\n",
              "<tr>\n",
              "  <th>Intercept</th> <td>   -0.0025</td> <td>    0.002</td> <td>   -1.137</td> <td> 0.256</td> <td>   -0.007</td> <td>    0.002</td>\n",
              "</tr>\n",
              "<tr>\n",
              "  <th>ZIP_CODE</th>  <td> 3.828e-07</td> <td> 2.01e-07</td> <td>    1.902</td> <td> 0.057</td> <td>-1.16e-08</td> <td> 7.77e-07</td>\n",
              "</tr>\n",
              "</table>\n",
              "<table class=\"simpletable\">\n",
              "<tr>\n",
              "  <th>Omnibus:</th>       <td>507731.316</td> <th>  Durbin-Watson:     </th>    <td>   1.998</td>    \n",
              "</tr>\n",
              "<tr>\n",
              "  <th>Prob(Omnibus):</th>   <td> 0.000</td>   <th>  Jarque-Bera (JB):  </th> <td>11531462767.325</td>\n",
              "</tr>\n",
              "<tr>\n",
              "  <th>Skew:</th>            <td>32.022</td>   <th>  Prob(JB):          </th>    <td>    0.00</td>    \n",
              "</tr>\n",
              "<tr>\n",
              "  <th>Kurtosis:</th>       <td>1203.359</td>  <th>  Cond. No.          </th>    <td>2.26e+05</td>    \n",
              "</tr>\n",
              "</table><br/><br/>Notes:<br/>[1] Standard Errors assume that the covariance matrix of the errors is correctly specified.<br/>[2] The condition number is large, 2.26e+05. This might indicate that there are<br/>strong multicollinearity or other numerical problems."
            ]
          },
          "metadata": {},
          "execution_count": 60
        }
      ],
      "source": [
        "model.summary()"
      ]
    },
    {
      "cell_type": "markdown",
      "source": [
        "### Decision Tree Regression on Training Set\n",
        "\n",
        "In addition to OLS Regression, I would like to test out another model and decided to choose the Decision Tree Regression. I am only interested in seeing how it performs at predicting the number of total people injured or killed (TOTAL_INJURED_OR_KILLED).\n"
      ],
      "metadata": {
        "id": "0l8CxJJRRDrX"
      }
    },
    {
      "cell_type": "code",
      "source": [
        "#import libraries for Decision Tree Regression\n",
        "import sklearn\n",
        "from sklearn.tree import DecisionTreeRegressor\n",
        "from sklearn.datasets import load_boston\n",
        "from sklearn.preprocessing import scale\n",
        "from sklearn.metrics import mean_squared_error\n",
        "from sklearn import set_config \n",
        "\n",
        "\n"
      ],
      "metadata": {
        "id": "I8Fi4AKGTX2m"
      },
      "execution_count": 61,
      "outputs": []
    },
    {
      "cell_type": "code",
      "source": [
        "#create label and feature datsets for decision tree\n",
        "mva_features = mva_train_set.drop([\"CRASH DATE\",\"CRASH TIME\",\"TOTAL_INJURED_OR_KILLED\",\"TOTAL_INJURED\",\"TOTAL_KILLED\",\"SEVERITY\"], axis=1)\n",
        "mva_labels = mva_train_set['TOTAL_INJURED_OR_KILLED'].copy()"
      ],
      "metadata": {
        "id": "-8i-8y7Cy-Tp"
      },
      "execution_count": 62,
      "outputs": []
    },
    {
      "cell_type": "code",
      "source": [
        "mva_features.dtypes"
      ],
      "metadata": {
        "colab": {
          "base_uri": "https://localhost:8080/"
        },
        "id": "QXAW74KWTiqy",
        "outputId": "8b84ce69-97eb-4f52-c09e-41f6e554bf1a"
      },
      "execution_count": 63,
      "outputs": [
        {
          "output_type": "execute_result",
          "data": {
            "text/plain": [
              "BOROUGH              int64\n",
              "ZIP_CODE             int64\n",
              "LATITUDE           float64\n",
              "LONGITUDE          float64\n",
              "FACTOR_1           float64\n",
              "FACTOR_2           float64\n",
              "FACTOR_3           float64\n",
              "FACTOR_4           float64\n",
              "FACTOR_5           float64\n",
              "CRASH TIME HOUR      int64\n",
              "CRASH MONTH          int64\n",
              "CRASH WEEKDAY        int64\n",
              "dtype: object"
            ]
          },
          "metadata": {},
          "execution_count": 63
        }
      ]
    },
    {
      "cell_type": "code",
      "source": [
        "#train the Decision Tree Regressor Model\n",
        "mva_tree = DecisionTreeRegressor()\n",
        "mva_tree.fit(mva_features, mva_labels)"
      ],
      "metadata": {
        "colab": {
          "base_uri": "https://localhost:8080/"
        },
        "id": "_x9yAOPt4gOh",
        "outputId": "c1082c9a-6948-49d4-a2f2-525c1f0f55fb"
      },
      "execution_count": 64,
      "outputs": [
        {
          "output_type": "execute_result",
          "data": {
            "text/plain": [
              "DecisionTreeRegressor()"
            ]
          },
          "metadata": {},
          "execution_count": 64
        }
      ]
    },
    {
      "cell_type": "code",
      "source": [
        "#Predict on training set data using mva_tree model and evaluate findings\n",
        "mva_tree_predictions = mva_tree.predict(mva_features)\n",
        "\n",
        "mva_tree_mse = mean_squared_error(mva_labels, mva_tree_predictions)\n",
        "mva_tree_rmse = np.sqrt(mva_tree_mse)\n",
        "mva_tree_rmse"
      ],
      "metadata": {
        "colab": {
          "base_uri": "https://localhost:8080/"
        },
        "id": "p8vXfoIR5IJD",
        "outputId": "bd755a15-23bd-495a-d806-357c29f49b2d"
      },
      "execution_count": 65,
      "outputs": [
        {
          "output_type": "execute_result",
          "data": {
            "text/plain": [
              "0.017099148161504093"
            ]
          },
          "metadata": {},
          "execution_count": 65
        }
      ]
    }
  ],
  "metadata": {
    "colab": {
      "collapsed_sections": [],
      "provenance": [],
      "toc_visible": true,
      "include_colab_link": true
    },
    "kernelspec": {
      "display_name": "Python 3",
      "language": "python",
      "name": "python3"
    },
    "language_info": {
      "codemirror_mode": {
        "name": "ipython",
        "version": 3
      },
      "file_extension": ".py",
      "mimetype": "text/x-python",
      "name": "python",
      "nbconvert_exporter": "python",
      "pygments_lexer": "ipython3",
      "version": "3.8.8"
    }
  },
  "nbformat": 4,
  "nbformat_minor": 0
}